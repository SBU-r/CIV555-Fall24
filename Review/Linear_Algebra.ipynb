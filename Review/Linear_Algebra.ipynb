{
 "cells": [
  {
   "cell_type": "markdown",
   "metadata": {},
   "source": [
    "**If you use Google Colab, you can uncomment the following cells to mount Google drive to Colab, and change the working directory to your Colab Notebook folder in your Google drive.**"
   ]
  },
  {
   "cell_type": "code",
   "execution_count": 1,
   "metadata": {
    "colab": {
     "base_uri": "https://localhost:8080/"
    },
    "executionInfo": {
     "elapsed": 17796,
     "status": "ok",
     "timestamp": 1723587272846,
     "user": {
      "displayName": "Ruwen Qin",
      "userId": "01885423067234457717"
     },
     "user_tz": 240
    },
    "id": "ZSfWf1W1EU_b",
    "outputId": "3f220370-cc91-49d0-c4e1-2195d20a50c2"
   },
   "outputs": [],
   "source": [
    "# mount your google drive with Colab\n",
    "\n",
    "#from google.colab import drive\n",
    "#drive.mount('/content/drive')\n"
   ]
  },
  {
   "cell_type": "code",
   "execution_count": 2,
   "metadata": {
    "colab": {
     "base_uri": "https://localhost:8080/"
    },
    "executionInfo": {
     "elapsed": 180,
     "status": "ok",
     "timestamp": 1723587324663,
     "user": {
      "displayName": "Ruwen Qin",
      "userId": "01885423067234457717"
     },
     "user_tz": 240
    },
    "id": "JcKfLFG2-8vD",
    "outputId": "93fff02d-1199-42db-8745-4800d01e83f9"
   },
   "outputs": [],
   "source": [
    "# change the working directory to your folder in Google Drive. I have a folder \"Colab Notebooks\" in my Stony Brook Google Drive\n",
    "#%cd /content/drive/MyDrive/Colab Notebooks"
   ]
  },
  {
   "cell_type": "code",
   "execution_count": 3,
   "metadata": {
    "colab": {
     "base_uri": "https://localhost:8080/"
    },
    "executionInfo": {
     "elapsed": 195,
     "status": "ok",
     "timestamp": 1723587326949,
     "user": {
      "displayName": "Ruwen Qin",
      "userId": "01885423067234457717"
     },
     "user_tz": 240
    },
    "id": "AQ3TmJR6_J0B",
    "outputId": "e10d561c-c836-4fca-f9b0-1375e2da47b0"
   },
   "outputs": [],
   "source": [
    "# check contents in the current directory\n",
    "#!ls"
   ]
  },
  {
   "cell_type": "markdown",
   "metadata": {},
   "source": [
    "**Notebook setting**"
   ]
  },
  {
   "cell_type": "code",
   "execution_count": 4,
   "metadata": {},
   "outputs": [],
   "source": [
    "# Display all outputs from each cell\n",
    "\n",
    "from IPython.core.interactiveshell import InteractiveShell\n",
    "InteractiveShell.ast_node_interactivity = \"all\""
   ]
  },
  {
   "cell_type": "markdown",
   "metadata": {},
   "source": [
    "\n",
    "\n",
    "**Import libraries and packages that would be used in this notebook**"
   ]
  },
  {
   "cell_type": "code",
   "execution_count": 5,
   "metadata": {
    "id": "TiLdzejDkGne"
   },
   "outputs": [],
   "source": [
    "# call libraries that will be used\n",
    "import numpy as np      # Low-level numerical Python library. https://numpy.org/"
   ]
  },
  {
   "cell_type": "markdown",
   "metadata": {
    "id": "E6JsONhKUdq6"
   },
   "source": [
    "## Scalars, Vectors, and Matrices"
   ]
  },
  {
   "cell_type": "markdown",
   "metadata": {
    "id": "vmHSisinUs4D"
   },
   "source": [
    "### Scalars"
   ]
  },
  {
   "cell_type": "code",
   "execution_count": 6,
   "metadata": {
    "colab": {
     "base_uri": "https://localhost:8080/"
    },
    "executionInfo": {
     "elapsed": 17,
     "status": "ok",
     "timestamp": 1693512322596,
     "user": {
      "displayName": "Ruwen Qin",
      "userId": "01885423067234457717"
     },
     "user_tz": 240
    },
    "id": "urxmPlVIUpeL",
    "outputId": "e843fb8d-69d7-47be-90d7-db77dd88167c"
   },
   "outputs": [
    {
     "data": {
      "text/plain": [
       "array(0.5)"
      ]
     },
     "execution_count": 6,
     "metadata": {},
     "output_type": "execute_result"
    }
   ],
   "source": [
    "# define a scalar\n",
    "x = np.array(0.5)\n",
    "\n",
    "x"
   ]
  },
  {
   "cell_type": "markdown",
   "metadata": {
    "id": "6hnzauVjVX44"
   },
   "source": [
    "### Vectors"
   ]
  },
  {
   "cell_type": "code",
   "execution_count": 7,
   "metadata": {
    "colab": {
     "base_uri": "https://localhost:8080/"
    },
    "executionInfo": {
     "elapsed": 15,
     "status": "ok",
     "timestamp": 1693512322596,
     "user": {
      "displayName": "Ruwen Qin",
      "userId": "01885423067234457717"
     },
     "user_tz": 240
    },
    "id": "Ye2WzmSUFL5p",
    "outputId": "7d5f3041-5972-427d-e4a9-8f9ec094dc5f"
   },
   "outputs": [
    {
     "data": {
      "text/plain": [
       "array([1., 3., 4.])"
      ]
     },
     "execution_count": 7,
     "metadata": {},
     "output_type": "execute_result"
    }
   ],
   "source": [
    "# define a row vector\n",
    "\n",
    "x = np.array([1., 3., 4.])\n",
    "x"
   ]
  },
  {
   "cell_type": "code",
   "execution_count": 8,
   "metadata": {
    "colab": {
     "base_uri": "https://localhost:8080/"
    },
    "executionInfo": {
     "elapsed": 12,
     "status": "ok",
     "timestamp": 1693512322596,
     "user": {
      "displayName": "Ruwen Qin",
      "userId": "01885423067234457717"
     },
     "user_tz": 240
    },
    "id": "CGSwvUu4FvGU",
    "outputId": "2b6c83a6-967f-4b5d-f163-6f753ec66ae7"
   },
   "outputs": [
    {
     "data": {
      "text/plain": [
       "array([[1.],\n",
       "       [3.],\n",
       "       [4.]])"
      ]
     },
     "execution_count": 8,
     "metadata": {},
     "output_type": "execute_result"
    }
   ],
   "source": [
    "# define a colum vector\n",
    "\n",
    "x = np.array([[1.],\n",
    "     [3.],\n",
    "     [4.]])\n",
    "x"
   ]
  },
  {
   "cell_type": "markdown",
   "metadata": {
    "id": "DOeEdw4vVa_A"
   },
   "source": [
    "### Matrices"
   ]
  },
  {
   "cell_type": "code",
   "execution_count": 9,
   "metadata": {
    "colab": {
     "base_uri": "https://localhost:8080/"
    },
    "executionInfo": {
     "elapsed": 11,
     "status": "ok",
     "timestamp": 1693512322597,
     "user": {
      "displayName": "Ruwen Qin",
      "userId": "01885423067234457717"
     },
     "user_tz": 240
    },
    "id": "ZbVSWzYZJKzL",
    "outputId": "f90090c7-4d4f-4baf-af54-81658a48b509"
   },
   "outputs": [
    {
     "data": {
      "text/plain": [
       "array([[[ 1.,  2.],\n",
       "        [ 3.,  4.],\n",
       "        [ 5.,  6.]],\n",
       "\n",
       "       [[ 7.,  8.],\n",
       "        [ 9., 10.],\n",
       "        [11., 12.]]])"
      ]
     },
     "execution_count": 9,
     "metadata": {},
     "output_type": "execute_result"
    }
   ],
   "source": [
    "# define matrix by reshaping a vector\n",
    "\n",
    "A = np.arange(1.,13.).reshape(2,3,2)\n",
    "A"
   ]
  },
  {
   "cell_type": "code",
   "execution_count": 10,
   "metadata": {},
   "outputs": [
    {
     "data": {
      "text/plain": [
       "matrix([[1., 2., 3.],\n",
       "        [4., 5., 6.]])"
      ]
     },
     "execution_count": 10,
     "metadata": {},
     "output_type": "execute_result"
    }
   ],
   "source": [
    "# define a matrix directly by specifying matrix element by element\n",
    "\n",
    "A=np.matrix('[1.,2.,3.;4.,5.,6.]')\n",
    "A"
   ]
  },
  {
   "cell_type": "code",
   "execution_count": 11,
   "metadata": {
    "colab": {
     "base_uri": "https://localhost:8080/"
    },
    "executionInfo": {
     "elapsed": 7,
     "status": "ok",
     "timestamp": 1693512322597,
     "user": {
      "displayName": "Ruwen Qin",
      "userId": "01885423067234457717"
     },
     "user_tz": 240
    },
    "id": "sgnNP4yuIQ6j",
    "outputId": "b31bd25b-45d1-4b91-a871-9317a37ca36a"
   },
   "outputs": [
    {
     "data": {
      "text/plain": [
       "matrix([[1., 2.],\n",
       "        [3., 4.],\n",
       "        [5., 6.]])"
      ]
     },
     "execution_count": 11,
     "metadata": {},
     "output_type": "execute_result"
    }
   ],
   "source": [
    "# define a matrix by delineating row by row\n",
    "A = np.matrix([[1., 2.],\n",
    "              [3., 4.],\n",
    "              [5., 6.]])\n",
    "A"
   ]
  },
  {
   "cell_type": "markdown",
   "metadata": {
    "id": "o02-JO-Va3i4"
   },
   "source": [
    "## Operations"
   ]
  },
  {
   "cell_type": "markdown",
   "metadata": {
    "id": "0BRvWQmRsGFD"
   },
   "source": [
    "### Transpose"
   ]
  },
  {
   "cell_type": "code",
   "execution_count": 12,
   "metadata": {
    "colab": {
     "base_uri": "https://localhost:8080/"
    },
    "executionInfo": {
     "elapsed": 14,
     "status": "ok",
     "timestamp": 1693512322747,
     "user": {
      "displayName": "Ruwen Qin",
      "userId": "01885423067234457717"
     },
     "user_tz": 240
    },
    "id": "D4MyzBejsKmO",
    "outputId": "0260e05b-f92f-4e74-ccd2-d8beb26abad4"
   },
   "outputs": [
    {
     "name": "stdout",
     "output_type": "stream",
     "text": [
      "A=\n",
      "[[1. 2. 3.]\n",
      " [4. 5. 6.]]\n",
      "\n",
      "The transpose of A, A^T=\n",
      " [[1. 4.]\n",
      " [2. 5.]\n",
      " [3. 6.]] \n",
      "\n"
     ]
    }
   ],
   "source": [
    "A = np.arange(1.,7.).reshape(2,3)\n",
    "print(f'A=\\n{A}\\n')\n",
    "\n",
    "A_T = np.transpose(A) # np.transpose()\n",
    "print(f'The transpose of A, A^T=\\n {A_T} \\n')"
   ]
  },
  {
   "cell_type": "markdown",
   "metadata": {
    "id": "YQu1oGxMtNy6"
   },
   "source": [
    "### Addition & Subtraction"
   ]
  },
  {
   "cell_type": "code",
   "execution_count": 13,
   "metadata": {
    "colab": {
     "base_uri": "https://localhost:8080/"
    },
    "executionInfo": {
     "elapsed": 12,
     "status": "ok",
     "timestamp": 1693512322747,
     "user": {
      "displayName": "Ruwen Qin",
      "userId": "01885423067234457717"
     },
     "user_tz": 240
    },
    "id": "0ppnqD3LtR8T",
    "outputId": "19bbfa80-4245-499d-d6ba-e27a73aa5491"
   },
   "outputs": [
    {
     "name": "stdout",
     "output_type": "stream",
     "text": [
      "A=\n",
      " [[1. 2.]\n",
      " [3. 4.]\n",
      " [5. 6.]] \n",
      "\n",
      "B=\n",
      " [[ 7.  8.]\n",
      " [ 9. 10.]\n",
      " [11. 12.]] \n",
      "\n",
      "d=\n",
      " [[10.]\n",
      " [11.]\n",
      " [12.]] \n",
      "\n",
      "A+B=\n",
      " [[ 8. 10.]\n",
      " [12. 14.]\n",
      " [16. 18.]] \n",
      "\n",
      "2*A+3=\n",
      " [[ 5.  7.]\n",
      " [ 9. 11.]\n",
      " [13. 15.]] \n",
      "\n",
      "A+d=\n",
      " [[11. 12.]\n",
      " [14. 15.]\n",
      " [17. 18.]] \n",
      "\n",
      "A-B=\n",
      " [[-6. -6.]\n",
      " [-6. -6.]\n",
      " [-6. -6.]] \n",
      "\n"
     ]
    }
   ],
   "source": [
    "A = np.arange(1.,7.).reshape(3,2)\n",
    "print(f'A=\\n {A} \\n')\n",
    "\n",
    "B = np.arange(7.,13.).reshape(3,2)\n",
    "print(f'B=\\n {B} \\n')\n",
    "\n",
    "d= np.arange(10.,13.).reshape(3,1)\n",
    "print(f'd=\\n {d} \\n')\n",
    "\n",
    "print(f'A+B=\\n {A+B} \\n')\n",
    "\n",
    "print(f'2*A+3=\\n {2*A+3} \\n')\n",
    "\n",
    "print(f'A+d=\\n {A+d} \\n')\n",
    "\n",
    "print(f'A-B=\\n {A-B} \\n')\n"
   ]
  },
  {
   "cell_type": "markdown",
   "metadata": {
    "id": "RFSlzIRbR0id"
   },
   "source": [
    "### Multiplication"
   ]
  },
  {
   "cell_type": "code",
   "execution_count": 14,
   "metadata": {
    "colab": {
     "base_uri": "https://localhost:8080/"
    },
    "executionInfo": {
     "elapsed": 10,
     "status": "ok",
     "timestamp": 1693512322747,
     "user": {
      "displayName": "Ruwen Qin",
      "userId": "01885423067234457717"
     },
     "user_tz": 240
    },
    "id": "fFHZSp-Sl-3N",
    "outputId": "9423ed04-7ecd-4f26-a4cd-bb54565959d0"
   },
   "outputs": [
    {
     "name": "stdout",
     "output_type": "stream",
     "text": [
      "A=\n",
      " (array([[1., 2.],\n",
      "       [3., 4.],\n",
      "       [5., 6.]]),), \n",
      "\n",
      "B=\n",
      " [[ 7.  8.]\n",
      " [ 9. 10.]\n",
      " [11. 12.]] \n",
      "\n",
      "c=\n",
      " [4. 5.] \n",
      "\n",
      "d=\n",
      " [1. 2. 3.] \n",
      "\n",
      "E=\n",
      " [[1. 2. 3.]\n",
      " [4. 5. 6.]] \n",
      "\n",
      "A*B=\n",
      " [[ 7. 16.]\n",
      " [27. 40.]\n",
      " [55. 72.]] \n",
      "\n",
      "dA=\n",
      " [22. 28.] \n",
      "\n",
      "EA=\n",
      " [[22. 28.]\n",
      " [49. 64.]] \n",
      "\n",
      "Ac^T= [14. 32. 50.] \n",
      "\n"
     ]
    }
   ],
   "source": [
    "A = np.arange(1.,7.).reshape(3,2)\n",
    "print(f'A=\\n {A,}, \\n')\n",
    "\n",
    "B = np.arange(7.,13.).reshape(3,2)\n",
    "print(f'B=\\n {B} \\n')\n",
    "\n",
    "c = np.arange(4.,6.)\n",
    "print(f'c=\\n {c} \\n')\n",
    "\n",
    "d = np.arange(1.,4.)\n",
    "print(f'd=\\n {d} \\n')\n",
    "\n",
    "E = np.arange(1.,7.).reshape(2,3)\n",
    "print(f'E=\\n {E} \\n')\n",
    "\n",
    "# Hadamard product (element-wise product)\n",
    "print(f'A*B=\\n {A*B} \\n')\n",
    "\n",
    "# matrix multiplication (using np.matmul)\n",
    "print(f'dA=\\n {np.matmul(d,A)} \\n')\n",
    "\n",
    "print(f'EA=\\n {np.matmul(E,A)} \\n')\n",
    "\n",
    "print(f'Ac^T= {np.matmul(A,np.transpose(c))} \\n')"
   ]
  },
  {
   "cell_type": "markdown",
   "metadata": {
    "id": "XXFb7UVVn8Mz"
   },
   "source": [
    "### Matrix Diagonal"
   ]
  },
  {
   "cell_type": "code",
   "execution_count": 15,
   "metadata": {
    "colab": {
     "base_uri": "https://localhost:8080/"
    },
    "executionInfo": {
     "elapsed": 9,
     "status": "ok",
     "timestamp": 1693512322748,
     "user": {
      "displayName": "Ruwen Qin",
      "userId": "01885423067234457717"
     },
     "user_tz": 240
    },
    "id": "6yXrZ0sua8AS",
    "outputId": "07d1f48c-2978-4ee1-fec8-3308570246ac"
   },
   "outputs": [
    {
     "name": "stdout",
     "output_type": "stream",
     "text": [
      "A=\n",
      " [[ 1.  2.  3.  4.]\n",
      " [ 5.  6.  7.  8.]\n",
      " [ 9. 10. 11. 12.]\n",
      " [13. 14. 15. 16.]] \n",
      "\n",
      "Diagonal values of A:\n",
      " [ 1.  6. 11. 16.]\n"
     ]
    }
   ],
   "source": [
    "A = np.arange(1.,17.).reshape(4,4)\n",
    "print(f'A=\\n {A} \\n')\n",
    "\n",
    "A_diag=np.diag(A) # find the diagnal of the matrix using np.diag()\n",
    "print(f'Diagonal values of A:\\n {A_diag}')"
   ]
  },
  {
   "cell_type": "markdown",
   "metadata": {
    "id": "562bkbCQomBX"
   },
   "source": [
    "### Matrix Transpose"
   ]
  },
  {
   "cell_type": "code",
   "execution_count": 16,
   "metadata": {
    "colab": {
     "base_uri": "https://localhost:8080/"
    },
    "executionInfo": {
     "elapsed": 6,
     "status": "ok",
     "timestamp": 1693512322748,
     "user": {
      "displayName": "Ruwen Qin",
      "userId": "01885423067234457717"
     },
     "user_tz": 240
    },
    "id": "2WI_dad8olQX",
    "outputId": "77af9a17-2f71-4927-f63e-e40c1699346c"
   },
   "outputs": [
    {
     "name": "stdout",
     "output_type": "stream",
     "text": [
      "A=\n",
      " [[1. 2. 3.]\n",
      " [4. 5. 6.]] \n",
      "\n",
      "The transpose of A, A_T=\n",
      " [[1. 4.]\n",
      " [2. 5.]\n",
      " [3. 6.]] \n",
      "\n"
     ]
    }
   ],
   "source": [
    "A = np.arange(1.,7.).reshape(2,3)\n",
    "print(f'A=\\n {A} \\n')\n",
    "\n",
    "A_T=np.transpose(A)\n",
    "print(f'The transpose of A, A_T=\\n {A_T} \\n')"
   ]
  },
  {
   "cell_type": "markdown",
   "metadata": {
    "id": "36YTkOKOpu4P"
   },
   "source": [
    "### Identity Matrix and Inverse Operator"
   ]
  },
  {
   "cell_type": "code",
   "execution_count": 17,
   "metadata": {
    "colab": {
     "base_uri": "https://localhost:8080/"
    },
    "executionInfo": {
     "elapsed": 180,
     "status": "ok",
     "timestamp": 1693512322923,
     "user": {
      "displayName": "Ruwen Qin",
      "userId": "01885423067234457717"
     },
     "user_tz": 240
    },
    "id": "iMew60uypzti",
    "outputId": "d862b975-a22a-42f4-e2f2-7d56b88a4380"
   },
   "outputs": [
    {
     "name": "stdout",
     "output_type": "stream",
     "text": [
      "a=\n",
      " [2. 3. 4.] \n",
      "\n",
      "I=\n",
      " [[1. 0. 0.]\n",
      " [0. 1. 0.]\n",
      " [0. 0. 1.]] \n",
      "\n",
      "aI=\n",
      " [2. 3. 4.] \n",
      "\n",
      "Ia=\n",
      " [2. 3. 4.]\n"
     ]
    }
   ],
   "source": [
    "a = np.arange(2.,5.)\n",
    "print(f'a=\\n {a} \\n')\n",
    "\n",
    "I = np.eye(3)\n",
    "print(f'I=\\n {I} \\n')\n",
    "\n",
    "print(f'aI=\\n {np.matmul(a,I)} \\n') # check if aI does not change the vector a\n",
    "\n",
    "print(f'Ia=\\n {np.matmul(I,np.transpose(a))}') # check if Ia does not change a"
   ]
  },
  {
   "cell_type": "code",
   "execution_count": 18,
   "metadata": {
    "colab": {
     "base_uri": "https://localhost:8080/"
    },
    "executionInfo": {
     "elapsed": 15,
     "status": "ok",
     "timestamp": 1693512322923,
     "user": {
      "displayName": "Ruwen Qin",
      "userId": "01885423067234457717"
     },
     "user_tz": 240
    },
    "id": "D05az4XSy8ki",
    "outputId": "bf9b99bf-b2da-43d4-bd3a-767a047c4668"
   },
   "outputs": [
    {
     "name": "stdout",
     "output_type": "stream",
     "text": [
      "A=\n",
      " [[1. 2.]\n",
      " [3. 4.]] \n",
      "\n",
      "The inverse of A is, \n",
      " [[-2.   1. ]\n",
      " [ 1.5 -0.5]] \n",
      "\n",
      "A multiplied by its inverse matrix, AA_inv, is the identify matrix:\n",
      " [[1.0000000e+00 0.0000000e+00]\n",
      " [8.8817842e-16 1.0000000e+00]] \n",
      "\n"
     ]
    }
   ],
   "source": [
    "# Inverse of a matrix\n",
    "A = np.arange(1.,5.).reshape(2,2)\n",
    "print(f'A=\\n {A} \\n')\n",
    "\n",
    "A_inv=np.linalg.inv(A) # find the inverse of a matrix using np.linalg.inv\n",
    "print(f'The inverse of A is, \\n {A_inv} \\n')\n",
    "\n",
    "print(f'A multiplied by its inverse matrix, AA_inv, is the identify matrix:\\n {np.matmul(A,A_inv)} \\n') # the multiplication of A and A's inverse is an identical matrix\n"
   ]
  },
  {
   "cell_type": "markdown",
   "metadata": {
    "id": "SbxA1DarqMiq"
   },
   "source": [
    "### Trace"
   ]
  },
  {
   "cell_type": "code",
   "execution_count": 19,
   "metadata": {
    "colab": {
     "base_uri": "https://localhost:8080/"
    },
    "executionInfo": {
     "elapsed": 13,
     "status": "ok",
     "timestamp": 1693512322924,
     "user": {
      "displayName": "Ruwen Qin",
      "userId": "01885423067234457717"
     },
     "user_tz": 240
    },
    "id": "CIm2IlKmqU0-",
    "outputId": "adafd718-7a9a-4b77-def8-2a17107a8817"
   },
   "outputs": [
    {
     "name": "stdout",
     "output_type": "stream",
     "text": [
      "A=\n",
      " [[1. 2. 3.]\n",
      " [4. 5. 6.]\n",
      " [7. 8. 9.]] \n",
      "\n",
      "The trace of A is: \n",
      " 15.0\n"
     ]
    }
   ],
   "source": [
    "A = np.arange(1.,10.).reshape(3,3)\n",
    "print(f'A=\\n {A} \\n')\n",
    "\n",
    "A_trace = np.trace(A) # np.trace() is the function for finding the trace of a matrix\n",
    "print(f'The trace of A is: \\n {A_trace}') # check if A_trace is the summation of elements on the diagnal"
   ]
  },
  {
   "cell_type": "markdown",
   "metadata": {
    "id": "tqmgtQzJqn2t"
   },
   "source": [
    "### Determinant"
   ]
  },
  {
   "cell_type": "code",
   "execution_count": 20,
   "metadata": {
    "colab": {
     "base_uri": "https://localhost:8080/"
    },
    "executionInfo": {
     "elapsed": 12,
     "status": "ok",
     "timestamp": 1693512322924,
     "user": {
      "displayName": "Ruwen Qin",
      "userId": "01885423067234457717"
     },
     "user_tz": 240
    },
    "id": "MvH9pp6eqsxx",
    "outputId": "67826ba7-8b28-40b8-e807-398d86f5b364"
   },
   "outputs": [
    {
     "name": "stdout",
     "output_type": "stream",
     "text": [
      "A:\n",
      " [[1. 2.]\n",
      " [3. 4.]] \n",
      "\n",
      "determinant of A:\n",
      " -2.00\n"
     ]
    }
   ],
   "source": [
    "A=np.arange(1.,5.).reshape(2,2)\n",
    "print(f'A:\\n {A} \\n')\n",
    "\n",
    "A_det=np.linalg.det(A) # find the determinant of a matrix using np.linalg.det\n",
    "print(f'determinant of A:\\n {A_det:.2f}')"
   ]
  },
  {
   "cell_type": "markdown",
   "metadata": {
    "id": "YPKkN_Worv1N"
   },
   "source": [
    "## Norms"
   ]
  },
  {
   "cell_type": "markdown",
   "metadata": {
    "id": "0H8IU174r0jk"
   },
   "source": [
    "### $l_1$-Norm"
   ]
  },
  {
   "cell_type": "code",
   "execution_count": 21,
   "metadata": {
    "colab": {
     "base_uri": "https://localhost:8080/"
    },
    "executionInfo": {
     "elapsed": 11,
     "status": "ok",
     "timestamp": 1693512322925,
     "user": {
      "displayName": "Ruwen Qin",
      "userId": "01885423067234457717"
     },
     "user_tz": 240
    },
    "id": "3lWiVzlgsMxz",
    "outputId": "c9da0da5-fb1c-412e-ea14-7733af059667"
   },
   "outputs": [
    {
     "name": "stdout",
     "output_type": "stream",
     "text": [
      "A:\n",
      " [-2. -1.  0.  1.] \n",
      "\n",
      "L_1 norm of A:\n",
      " 4.00\n"
     ]
    }
   ],
   "source": [
    "A=np.arange(-2.,2.)\n",
    "print(f'A:\\n {A} \\n')\n",
    "\n",
    "A_norm1=np.linalg.norm(A,ord=1) #np.linalg.norm(tensor, ord=) computes the norm of a tensor\n",
    "print(f'L_1 norm of A:\\n {A_norm1:.2f}')"
   ]
  },
  {
   "cell_type": "markdown",
   "metadata": {
    "id": "fMDJv91ar2tn"
   },
   "source": [
    "### $l_2$-Norm"
   ]
  },
  {
   "cell_type": "code",
   "execution_count": 22,
   "metadata": {
    "colab": {
     "base_uri": "https://localhost:8080/"
    },
    "executionInfo": {
     "elapsed": 9,
     "status": "ok",
     "timestamp": 1693512322925,
     "user": {
      "displayName": "Ruwen Qin",
      "userId": "01885423067234457717"
     },
     "user_tz": 240
    },
    "id": "pzdtwtC1soUs",
    "outputId": "8cba0050-64e8-4071-9a9c-8aa38744cf5f"
   },
   "outputs": [
    {
     "name": "stdout",
     "output_type": "stream",
     "text": [
      "A:\n",
      " [-2. -1.  0.  1.] \n",
      "\n",
      "L_2 norm of A:\n",
      " 2.45\n"
     ]
    }
   ],
   "source": [
    "A=np.arange(-2.,2.)\n",
    "print(f'A:\\n {A} \\n')\n",
    "\n",
    "A_norm2=np.linalg.norm(A,ord=2)\n",
    "print(f'L_2 norm of A:\\n {A_norm2:.2f}')"
   ]
  },
  {
   "cell_type": "markdown",
   "metadata": {
    "id": "S9h8k_-Ir5MQ"
   },
   "source": [
    "### $l_\\infty$-Norm"
   ]
  },
  {
   "cell_type": "code",
   "execution_count": 23,
   "metadata": {
    "colab": {
     "base_uri": "https://localhost:8080/"
    },
    "executionInfo": {
     "elapsed": 198,
     "status": "ok",
     "timestamp": 1693512323116,
     "user": {
      "displayName": "Ruwen Qin",
      "userId": "01885423067234457717"
     },
     "user_tz": 240
    },
    "id": "RxlorvpNrwpC",
    "outputId": "06c63693-14db-43d4-aa9f-4e01071507fb"
   },
   "outputs": [
    {
     "name": "stdout",
     "output_type": "stream",
     "text": [
      "A:\n",
      " [-2. -1.  0.  1.] \n",
      "\n",
      "L_inf norm of A:\n",
      " 2.00\n"
     ]
    }
   ],
   "source": [
    "A=np.arange(-2.,2.)\n",
    "print(f'A:\\n {A} \\n')\n",
    "\n",
    "A_norminf=np.linalg.norm(A,ord=np.inf)\n",
    "print(f'L_inf norm of A:\\n {A_norminf:.2f}')"
   ]
  },
  {
   "cell_type": "markdown",
   "metadata": {
    "id": "vgqNDyuesEoS"
   },
   "source": [
    "### Frobenius Norm"
   ]
  },
  {
   "cell_type": "code",
   "execution_count": 24,
   "metadata": {
    "colab": {
     "base_uri": "https://localhost:8080/"
    },
    "executionInfo": {
     "elapsed": 10,
     "status": "ok",
     "timestamp": 1693512323117,
     "user": {
      "displayName": "Ruwen Qin",
      "userId": "01885423067234457717"
     },
     "user_tz": 240
    },
    "id": "nTLWJk4MsAO0",
    "outputId": "5238bab2-b3be-4a85-a3e1-4429cdf47d8b"
   },
   "outputs": [
    {
     "name": "stdout",
     "output_type": "stream",
     "text": [
      "A:\n",
      " [[-2. -1.]\n",
      " [ 0.  1.]] \n",
      "\n",
      "Frobenius norm of A:\n",
      " 2.45\n"
     ]
    }
   ],
   "source": [
    "A=np.arange(-2.,2.).reshape(2,2)\n",
    "print(f'A:\\n {A} \\n')\n",
    "\n",
    "A_Fro=np.linalg.norm(A,ord='fro')\n",
    "print(f'Frobenius norm of A:\\n {A_Fro:.2f}')"
   ]
  },
  {
   "cell_type": "markdown",
   "metadata": {
    "id": "yZJ6ApBYwJLc"
   },
   "source": [
    "## Decompositions"
   ]
  },
  {
   "cell_type": "markdown",
   "metadata": {
    "id": "Fjbf3cKGwRWr"
   },
   "source": [
    "### Eigen Decomposition"
   ]
  },
  {
   "cell_type": "code",
   "execution_count": 25,
   "metadata": {
    "colab": {
     "base_uri": "https://localhost:8080/"
    },
    "executionInfo": {
     "elapsed": 9,
     "status": "ok",
     "timestamp": 1693512323117,
     "user": {
      "displayName": "Ruwen Qin",
      "userId": "01885423067234457717"
     },
     "user_tz": 240
    },
    "id": "_oAyeqb_x2F5",
    "outputId": "23967db0-61a8-4144-ee80-c51b82d628bc"
   },
   "outputs": [
    {
     "name": "stdout",
     "output_type": "stream",
     "text": [
      "A:\n",
      " [[5. 1.]\n",
      " [3. 3.]] \n",
      "\n",
      "eigenvalues of A:\n",
      " e = [6. 2.]\n",
      "eigenvectors of A: \n",
      " V = [[ 0.70710678 -0.31622777]\n",
      " [ 0.70710678  0.9486833 ]] \n",
      "\n",
      "Eigenvalue matrix:\n",
      " [[6. 0.]\n",
      " [0. 2.]] \n",
      "\n",
      "EigenDecomposition of A:\n",
      " [[ 0.0000000e+00  0.0000000e+00]\n",
      " [-4.4408921e-16  4.4408921e-16]] \n",
      "\n",
      "det(A)-the product of eigenvalues:\n",
      " -0.000 \n",
      "\n"
     ]
    }
   ],
   "source": [
    "A = np.array([5.,1.,3.,3.]).reshape(2,2)\n",
    "print(f'A:\\n {A} \\n')\n",
    "\n",
    "e,V=np.linalg.eig(A)# find eigenvalues and eigenvectors of a matrix using np.linalg.eig()\n",
    "print(f'eigenvalues of A:\\n e = {e}')\n",
    "\n",
    "print(f'eigenvectors of A: \\n V = {V} \\n')\n",
    "\n",
    "L=(np.diag(e)) #construct the eighen value matrix using np.diag()\n",
    "print(f'Eigenvalue matrix:\\n {L} \\n')\n",
    "\n",
    "print(f'EigenDecomposition of A:\\n {abs(np.matmul(np.matmul(V,L),np.linalg.inv(V)))-A} \\n') # check if A is equal to its eigendecomposition VLV^(-1)\n",
    "\n",
    "\n",
    "print(f'det(A)-the product of eigenvalues:\\n {np.linalg.det(A)-np.prod(e):.3f} \\n') # check if the determinant of A is equal to the product of A's eigenvalues\n"
   ]
  },
  {
   "cell_type": "markdown",
   "metadata": {
    "id": "Y1sKVlUHzjo2"
   },
   "source": [
    "### Singular Value Decomposition"
   ]
  },
  {
   "cell_type": "code",
   "execution_count": 26,
   "metadata": {
    "colab": {
     "base_uri": "https://localhost:8080/"
    },
    "executionInfo": {
     "elapsed": 7,
     "status": "ok",
     "timestamp": 1693512323118,
     "user": {
      "displayName": "Ruwen Qin",
      "userId": "01885423067234457717"
     },
     "user_tz": 240
    },
    "id": "DhsuMj55z6s5",
    "outputId": "419acbf4-3926-44ed-c636-a8004c004c7b"
   },
   "outputs": [
    {
     "name": "stdout",
     "output_type": "stream",
     "text": [
      "A:\n",
      " [[ 0.644441    0.64385957 -0.2121843 ]\n",
      " [-0.35356771  1.6615368  -1.36311934]] \n",
      "\n",
      "left singular vectors, U:\n",
      " [[-0.26148938 -0.96520635]\n",
      " [-0.96520635  0.26148938]] \n",
      "\n",
      "singular values, D:\n",
      " [2.24727879 0.75394202] \n",
      "\n",
      "right singular vectors, V:\n",
      " [[ 0.07687133 -0.7885485   0.61014922]\n",
      " [-0.94764947 -0.24800729 -0.201129  ]] \n",
      "\n"
     ]
    },
    {
     "data": {
      "text/plain": [
       "array([[ 0.07687133, -0.94764947],\n",
       "       [-0.7885485 , -0.24800729],\n",
       "       [ 0.61014922, -0.201129  ]])"
      ]
     },
     "execution_count": 26,
     "metadata": {},
     "output_type": "execute_result"
    },
    {
     "name": "stdout",
     "output_type": "stream",
     "text": [
      "UDV-A:\n",
      " [[-1.11022302e-16 -1.11022302e-16  0.00000000e+00]\n",
      " [-2.22044605e-16  0.00000000e+00  0.00000000e+00]]\n"
     ]
    }
   ],
   "source": [
    "A = np.random.randn(2,3)\n",
    "print(f'A:\\n {A} \\n')\n",
    "\n",
    "U,D,V = np.linalg.svd(A, full_matrices=False) # singular value decomposition using np.linalg.svd()\n",
    "print(f'left singular vectors, U:\\n {U} \\n')\n",
    "print(f'singular values, D:\\n {D} \\n')\n",
    "print(f'right singular vectors, V:\\n {V} \\n')\n",
    "\n",
    "np.transpose(V)\n",
    "#np.matmul(np.matmul(U,np.diag(D)),np.transpose(V))\n",
    "\n",
    "print(f'UDV-A:\\n {np.matmul(np.matmul(U,np.diag(D)), V)-A}') # let's check if UDV is approximately equal to A"
   ]
  },
  {
   "cell_type": "code",
   "execution_count": 27,
   "metadata": {
    "colab": {
     "base_uri": "https://localhost:8080/"
    },
    "executionInfo": {
     "elapsed": 5,
     "status": "ok",
     "timestamp": 1693512323118,
     "user": {
      "displayName": "Ruwen Qin",
      "userId": "01885423067234457717"
     },
     "user_tz": 240
    },
    "id": "dd1srzHj4roy",
    "outputId": "26832959-0c74-4fba-fcdc-d573d25a426c"
   },
   "outputs": [
    {
     "name": "stdout",
     "output_type": "stream",
     "text": [
      "eighenvectors of AA^T:\n",
      " [[-0.96520635 -0.26148938]\n",
      " [ 0.26148938 -0.96520635]] \n",
      "\n",
      "square root of nonzero eigenvalues of AA^T:\n",
      " [0.75394202 2.24727879] \n",
      "\n"
     ]
    }
   ],
   "source": [
    "# Let's check if the left-singular vectors of A are the eigenvectors of AA^T and if the square root of the non-zero eigenvalues of AA^T are the singular values of A\n",
    "L,V=np.linalg.eig(np.matmul(A, np.transpose(A)))\n",
    "\n",
    "print(f'eighenvectors of AA^T:\\n {V} \\n')\n",
    "\n",
    "print(f'square root of nonzero eigenvalues of AA^T:\\n {np.sqrt(L)} \\n')"
   ]
  },
  {
   "cell_type": "code",
   "execution_count": 28,
   "metadata": {
    "colab": {
     "base_uri": "https://localhost:8080/"
    },
    "executionInfo": {
     "elapsed": 136,
     "status": "ok",
     "timestamp": 1693512323250,
     "user": {
      "displayName": "Ruwen Qin",
      "userId": "01885423067234457717"
     },
     "user_tz": 240
    },
    "id": "_1gDrjq05Btz",
    "outputId": "c6eda149-31d1-47b8-b7a0-e2d9dcb4714a"
   },
   "outputs": [
    {
     "name": "stdout",
     "output_type": "stream",
     "text": [
      "eighenvectors of A^TA:\n",
      " [[-0.07687133  0.94764947 -0.30992142]\n",
      " [ 0.7885485   0.24800729  0.56274652]\n",
      " [-0.61014922  0.201129    0.76633221]] \n",
      "\n",
      "square root of nonzero eigenvalues of A^TT:\n",
      " [2.24727879e+00 7.53942020e-01 2.19865872e-08] \n",
      "\n"
     ]
    }
   ],
   "source": [
    "# Let's check if the right-singular vectors of A are the eigenvectors of A^TA and square root of the non-zero singular values of A are the eigenvalues of A^TA\n",
    "L,V=np.linalg.eig(np.matmul(np.transpose(A),A))\n",
    "\n",
    "print(f'eighenvectors of A^TA:\\n {V} \\n')\n",
    "\n",
    "print(f'square root of nonzero eigenvalues of A^TT:\\n {np.sqrt(L)} \\n')"
   ]
  },
  {
   "cell_type": "code",
   "execution_count": null,
   "metadata": {},
   "outputs": [],
   "source": []
  }
 ],
 "metadata": {
  "colab": {
   "provenance": []
  },
  "kernelspec": {
   "display_name": "Python 3 (ipykernel)",
   "language": "python",
   "name": "python3"
  },
  "language_info": {
   "codemirror_mode": {
    "name": "ipython",
    "version": 3
   },
   "file_extension": ".py",
   "mimetype": "text/x-python",
   "name": "python",
   "nbconvert_exporter": "python",
   "pygments_lexer": "ipython3",
   "version": "3.11.8"
  },
  "toc": {
   "base_numbering": 1,
   "nav_menu": {},
   "number_sections": true,
   "sideBar": true,
   "skip_h1_title": false,
   "title_cell": "Table of Contents",
   "title_sidebar": "Contents",
   "toc_cell": false,
   "toc_position": {
    "height": "calc(100% - 180px)",
    "left": "10px",
    "top": "150px",
    "width": "259.391px"
   },
   "toc_section_display": true,
   "toc_window_display": true
  },
  "varInspector": {
   "cols": {
    "lenName": 16,
    "lenType": 16,
    "lenVar": 40
   },
   "kernels_config": {
    "python": {
     "delete_cmd_postfix": "",
     "delete_cmd_prefix": "del ",
     "library": "var_list.py",
     "varRefreshCmd": "print(var_dic_list())"
    },
    "r": {
     "delete_cmd_postfix": ") ",
     "delete_cmd_prefix": "rm(",
     "library": "var_list.r",
     "varRefreshCmd": "cat(var_dic_list()) "
    }
   },
   "types_to_exclude": [
    "module",
    "function",
    "builtin_function_or_method",
    "instance",
    "_Feature"
   ],
   "window_display": false
  }
 },
 "nbformat": 4,
 "nbformat_minor": 1
}
