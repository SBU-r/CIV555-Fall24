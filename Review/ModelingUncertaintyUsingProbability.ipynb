{
 "cells": [
  {
   "cell_type": "markdown",
   "metadata": {
    "toc": true
   },
   "source": [
    "<h1>Modeling Uncertainty using Probability<span class=\"tocSkip\"></span></h1>\n",
    "<div class=\"toc\"><ul class=\"toc-item\"><li><span><a href=\"#Probability\" data-toc-modified-id=\"Probability-1\"><span class=\"toc-item-num\">1&nbsp;&nbsp;</span>Probability</a></span><ul class=\"toc-item\"><li><span><a href=\"#Data-Preparation-for-creating-probability-table\" data-toc-modified-id=\"Data-Preparation-for-creating-probability-table-1.1\"><span class=\"toc-item-num\">1.1&nbsp;&nbsp;</span>Data Preparation for creating probability table</a></span></li><li><span><a href=\"#Joint-Probability-Table\" data-toc-modified-id=\"Joint-Probability-Table-1.2\"><span class=\"toc-item-num\">1.2&nbsp;&nbsp;</span>Joint Probability Table</a></span></li><li><span><a href=\"#Conditional-Probability-Tables\" data-toc-modified-id=\"Conditional-Probability-Tables-1.3\"><span class=\"toc-item-num\">1.3&nbsp;&nbsp;</span>Conditional Probability Tables</a></span></li></ul></li><li><span><a href=\"#Discrete-Random-Variables\" data-toc-modified-id=\"Discrete-Random-Variables-2\"><span class=\"toc-item-num\">2&nbsp;&nbsp;</span>Discrete Random Variables</a></span><ul class=\"toc-item\"><li><span><a href=\"#Bernoulli-distribution\" data-toc-modified-id=\"Bernoulli-distribution-2.1\"><span class=\"toc-item-num\">2.1&nbsp;&nbsp;</span>Bernoulli distribution</a></span></li><li><span><a href=\"#Binomial-distribution\" data-toc-modified-id=\"Binomial-distribution-2.2\"><span class=\"toc-item-num\">2.2&nbsp;&nbsp;</span>Binomial distribution</a></span></li><li><span><a href=\"#Poisson-distribution\" data-toc-modified-id=\"Poisson-distribution-2.3\"><span class=\"toc-item-num\">2.3&nbsp;&nbsp;</span>Poisson distribution</a></span></li></ul></li><li><span><a href=\"#Countinuous-Random-Variables\" data-toc-modified-id=\"Countinuous-Random-Variables-3\"><span class=\"toc-item-num\">3&nbsp;&nbsp;</span>Countinuous Random Variables</a></span><ul class=\"toc-item\"><li><span><a href=\"#Continuous-uniform-distribution\" data-toc-modified-id=\"Continuous-uniform-distribution-3.1\"><span class=\"toc-item-num\">3.1&nbsp;&nbsp;</span>Continuous uniform distribution</a></span></li><li><span><a href=\"#Normal-distribution\" data-toc-modified-id=\"Normal-distribution-3.2\"><span class=\"toc-item-num\">3.2&nbsp;&nbsp;</span>Normal distribution</a></span></li><li><span><a href=\"#Triangular-distribution\" data-toc-modified-id=\"Triangular-distribution-3.3\"><span class=\"toc-item-num\">3.3&nbsp;&nbsp;</span>Triangular distribution</a></span></li><li><span><a href=\"#Gamma-distribution\" data-toc-modified-id=\"Gamma-distribution-3.4\"><span class=\"toc-item-num\">3.4&nbsp;&nbsp;</span>Gamma distribution</a></span></li></ul></li><li><span><a href=\"#Fitting-Data-to-Distributions\" data-toc-modified-id=\"Fitting-Data-to-Distributions-4\"><span class=\"toc-item-num\">4&nbsp;&nbsp;</span>Fitting Data to Distributions</a></span></li></ul></div>"
   ]
  },
  {
   "cell_type": "code",
   "execution_count": 1,
   "metadata": {
    "colab": {
     "base_uri": "https://localhost:8080/"
    },
    "executionInfo": {
     "elapsed": 19352,
     "status": "ok",
     "timestamp": 1694626846520,
     "user": {
      "displayName": "Ruwen Qin",
      "userId": "01885423067234457717"
     },
     "user_tz": 240
    },
    "id": "LIi5NcXNPG1T",
    "outputId": "db3ae535-c2cd-425f-ee95-c67f8df7917c"
   },
   "outputs": [],
   "source": [
    "# If you use Colab Notebook, you can uncomment the following to mount your Google Drive to Colab\n",
    "# After that, your colab notebook can read/write files and data in your Google Drive\n",
    "\n",
    "#from google.colab import drive\n",
    "#drive.mount('/content/drive')"
   ]
  },
  {
   "cell_type": "code",
   "execution_count": 2,
   "metadata": {
    "colab": {
     "base_uri": "https://localhost:8080/"
    },
    "executionInfo": {
     "elapsed": 6,
     "status": "ok",
     "timestamp": 1694626846520,
     "user": {
      "displayName": "Ruwen Qin",
      "userId": "01885423067234457717"
     },
     "user_tz": 240
    },
    "id": "jAUcjfBsRj-P",
    "outputId": "d185da9b-0b11-41d8-83d9-2c1ff1bb509a"
   },
   "outputs": [],
   "source": [
    "# If you use Colab Notebook, please change the current directory to be the folder that you save \n",
    "# your Notebook and data folder for example, I save my Colab files and data in the following location\n",
    "\n",
    "#%cd /content/drive/MyDrive/Colab\\ Notebooks"
   ]
  },
  {
   "cell_type": "code",
   "execution_count": 3,
   "metadata": {
    "executionInfo": {
     "elapsed": 1578,
     "status": "ok",
     "timestamp": 1694626848096,
     "user": {
      "displayName": "Ruwen Qin",
      "userId": "01885423067234457717"
     },
     "user_tz": 240
    },
    "id": "nSPyO79cPC55"
   },
   "outputs": [],
   "source": [
    "# import the libraries and associated modules\n",
    "\n",
    "import pandas as pd\n",
    "import matplotlib.pyplot as plt\n",
    "import numpy as np\n",
    "\n",
    "import scipy as sp"
   ]
  },
  {
   "cell_type": "markdown",
   "metadata": {
    "id": "ZVa-lbGIt7CH"
   },
   "source": [
    "# Probability"
   ]
  },
  {
   "cell_type": "markdown",
   "metadata": {
    "id": "e8PnvdLf8pDm"
   },
   "source": [
    "## Data Preparation for creating probability table"
   ]
  },
  {
   "cell_type": "code",
   "execution_count": 4,
   "metadata": {
    "colab": {
     "base_uri": "https://localhost:8080/"
    },
    "executionInfo": {
     "elapsed": 653,
     "status": "ok",
     "timestamp": 1694626848747,
     "user": {
      "displayName": "Ruwen Qin",
      "userId": "01885423067234457717"
     },
     "user_tz": 240
    },
    "id": "FmC7qu09QKQ6",
    "outputId": "90e5ab97-ef14-4e88-e769-bc7fa7a0222f"
   },
   "outputs": [
    {
     "name": "stdout",
     "output_type": "stream",
     "text": [
      "    Date        Day  High_Temp_F  Low_Temp_F  Precipitation Weather  \\\n",
      "0  1-Apr   Saturday         46.0        37.0           0.00       N   \n",
      "1  2-Apr     Sunday         62.1        41.0           0.00       N   \n",
      "2  3-Apr     Monday         63.0        50.0           0.03       R   \n",
      "3  4-Apr    Tuesday         51.1        46.0           1.18       R   \n",
      "4  5-Apr  Wednesday         63.0        46.0           0.00       N   \n",
      "\n",
      "   Brooklyn_Bridge  Manhattan_Bridge  Williamsburg_Bridge  Queensboro_Bridge  \\\n",
      "0              606              1446                 1915               1430   \n",
      "1             2021              3943                 4207               2862   \n",
      "2             2470              4988                 5178               3689   \n",
      "3              723              1913                 2279               1666   \n",
      "4             2807              5276                 5711               4197   \n",
      "\n",
      "   Total  \n",
      "0   5397  \n",
      "1  13033  \n",
      "2  16325  \n",
      "3   6581  \n",
      "4  17991   \n",
      "\n"
     ]
    }
   ],
   "source": [
    "# read the data file\n",
    "NY_bicycle=pd.read_csv(\"Data/NY_Bicycle.csv\") # read the data in csv format using pd.read_csv\n",
    "del NY_bicycle[\"Unnamed: 0\"] # delete the column \"Unnamed: 0\" because it duplicates the index of dataframe\n",
    "print(NY_bicycle.head(),'\\n') # take a look at the data again after deleting the unnamed column\n",
    "\n"
   ]
  },
  {
   "cell_type": "code",
   "execution_count": 5,
   "metadata": {
    "colab": {
     "base_uri": "https://localhost:8080/",
     "height": 424
    },
    "executionInfo": {
     "elapsed": 217,
     "status": "ok",
     "timestamp": 1694626848958,
     "user": {
      "displayName": "Ruwen Qin",
      "userId": "01885423067234457717"
     },
     "user_tz": 240
    },
    "id": "cayKkzAhRA5S",
    "outputId": "7adcf79f-df2d-48ef-c162-6be8ed26090b"
   },
   "outputs": [
    {
     "data": {
      "text/html": [
       "<div>\n",
       "<style scoped>\n",
       "    .dataframe tbody tr th:only-of-type {\n",
       "        vertical-align: middle;\n",
       "    }\n",
       "\n",
       "    .dataframe tbody tr th {\n",
       "        vertical-align: top;\n",
       "    }\n",
       "\n",
       "    .dataframe thead th {\n",
       "        text-align: right;\n",
       "    }\n",
       "</style>\n",
       "<table border=\"1\" class=\"dataframe\">\n",
       "  <thead>\n",
       "    <tr style=\"text-align: right;\">\n",
       "      <th></th>\n",
       "      <th>Weather</th>\n",
       "      <th>Temperature</th>\n",
       "    </tr>\n",
       "  </thead>\n",
       "  <tbody>\n",
       "    <tr>\n",
       "      <th>0</th>\n",
       "      <td>N</td>\n",
       "      <td>(45, 55]</td>\n",
       "    </tr>\n",
       "    <tr>\n",
       "      <th>1</th>\n",
       "      <td>N</td>\n",
       "      <td>(55, 65]</td>\n",
       "    </tr>\n",
       "    <tr>\n",
       "      <th>2</th>\n",
       "      <td>R</td>\n",
       "      <td>(55, 65]</td>\n",
       "    </tr>\n",
       "    <tr>\n",
       "      <th>3</th>\n",
       "      <td>R</td>\n",
       "      <td>(45, 55]</td>\n",
       "    </tr>\n",
       "    <tr>\n",
       "      <th>4</th>\n",
       "      <td>N</td>\n",
       "      <td>(55, 65]</td>\n",
       "    </tr>\n",
       "    <tr>\n",
       "      <th>...</th>\n",
       "      <td>...</td>\n",
       "      <td>...</td>\n",
       "    </tr>\n",
       "    <tr>\n",
       "      <th>209</th>\n",
       "      <td>N</td>\n",
       "      <td>(55, 65]</td>\n",
       "    </tr>\n",
       "    <tr>\n",
       "      <th>210</th>\n",
       "      <td>N</td>\n",
       "      <td>(65, 75]</td>\n",
       "    </tr>\n",
       "    <tr>\n",
       "      <th>211</th>\n",
       "      <td>R</td>\n",
       "      <td>(55, 65]</td>\n",
       "    </tr>\n",
       "    <tr>\n",
       "      <th>212</th>\n",
       "      <td>R</td>\n",
       "      <td>(45, 55]</td>\n",
       "    </tr>\n",
       "    <tr>\n",
       "      <th>213</th>\n",
       "      <td>N</td>\n",
       "      <td>(45, 55]</td>\n",
       "    </tr>\n",
       "  </tbody>\n",
       "</table>\n",
       "<p>214 rows × 2 columns</p>\n",
       "</div>"
      ],
      "text/plain": [
       "    Weather Temperature\n",
       "0         N    (45, 55]\n",
       "1         N    (55, 65]\n",
       "2         R    (55, 65]\n",
       "3         R    (45, 55]\n",
       "4         N    (55, 65]\n",
       "..      ...         ...\n",
       "209       N    (55, 65]\n",
       "210       N    (65, 75]\n",
       "211       R    (55, 65]\n",
       "212       R    (45, 55]\n",
       "213       N    (45, 55]\n",
       "\n",
       "[214 rows x 2 columns]"
      ]
     },
     "execution_count": 5,
     "metadata": {},
     "output_type": "execute_result"
    }
   ],
   "source": [
    "#Prepare data\n",
    "df = pd.DataFrame(NY_bicycle[['Weather', 'High_Temp_F']]) # define a dataframe containing the two random variables of interest\n",
    "\n",
    "# convert High_Temp_F into a categorical variable\n",
    "cutbins = [45, 55, 65, 75, 85, 95] #define the edges of five bins for the column \"High_Temp_F\" using the function cutbins()\n",
    "df['Temperature']=pd.cut(df.High_Temp_F,bins=cutbins,precision=0) # Add a new column named \"Temperature\" to save the categorical variable converted from 'High_Temp_F'. Using the function pd.cut() to convert continuous variables into categorical variables\n",
    "df.drop('High_Temp_F',axis=1,inplace=True) # delete the origional temperature column using the function drop()\n",
    "df"
   ]
  },
  {
   "cell_type": "markdown",
   "metadata": {
    "id": "kOqCigGmQMXt"
   },
   "source": [
    "*{Skip the remaining codes of this subsection. Go to Joint Probability Table directly.}*"
   ]
  },
  {
   "cell_type": "code",
   "execution_count": 6,
   "metadata": {
    "colab": {
     "base_uri": "https://localhost:8080/"
    },
    "executionInfo": {
     "elapsed": 4,
     "status": "ok",
     "timestamp": 1694626848958,
     "user": {
      "displayName": "Ruwen Qin",
      "userId": "01885423067234457717"
     },
     "user_tz": 240
    },
    "id": "OjE5AYLKt-Iw",
    "outputId": "2f2512ce-fbf3-42bf-fcc4-cd6c157ddf70"
   },
   "outputs": [
    {
     "name": "stdout",
     "output_type": "stream",
     "text": [
      "    Date        Day  High_Temp_F  Low_Temp_F  Precipitation Weather  \\\n",
      "0  1-Apr   Saturday         46.0        37.0           0.00       N   \n",
      "1  2-Apr     Sunday         62.1        41.0           0.00       N   \n",
      "2  3-Apr     Monday         63.0        50.0           0.03       R   \n",
      "3  4-Apr    Tuesday         51.1        46.0           1.18       R   \n",
      "4  5-Apr  Wednesday         63.0        46.0           0.00       N   \n",
      "\n",
      "   Brooklyn_Bridge  Manhattan_Bridge  Williamsburg_Bridge  Queensboro_Bridge  \\\n",
      "0              606              1446                 1915               1430   \n",
      "1             2021              3943                 4207               2862   \n",
      "2             2470              4988                 5178               3689   \n",
      "3              723              1913                 2279               1666   \n",
      "4             2807              5276                 5711               4197   \n",
      "\n",
      "   Total  \n",
      "0   5397  \n",
      "1  13033  \n",
      "2  16325  \n",
      "3   6581  \n",
      "4  17991   \n",
      "\n",
      "    Date        Day  High_Temp_F  Low_Temp_F  Precipitation Weather  \\\n",
      "0  1-Apr   Saturday         46.0        37.0           0.00       N   \n",
      "1  2-Apr     Sunday         62.1        41.0           0.00       N   \n",
      "2  3-Apr     Monday         63.0        50.0           0.03       R   \n",
      "3  4-Apr    Tuesday         51.1        46.0           1.18       R   \n",
      "4  5-Apr  Wednesday         63.0        46.0           0.00       N   \n",
      "\n",
      "   Brooklyn_Bridge  Manhattan_Bridge  Williamsburg_Bridge  Queensboro_Bridge  \\\n",
      "0              606              1446                 1915               1430   \n",
      "1             2021              3943                 4207               2862   \n",
      "2             2470              4988                 5178               3689   \n",
      "3              723              1913                 2279               1666   \n",
      "4             2807              5276                 5711               4197   \n",
      "\n",
      "   Total  WkDay  \n",
      "0   5397      5  \n",
      "1  13033      6  \n",
      "2  16325      0  \n",
      "3   6581      1  \n",
      "4  17991      2  \n"
     ]
    }
   ],
   "source": [
    "# read the data file\n",
    "NY_bicycle=pd.read_csv(\"Data/NY_Bicycle.csv\") # read the data in csv format using pd.read_csv\n",
    "del NY_bicycle[\"Unnamed: 0\"] # delete the column \"Unnamed: 0\" because it duplicates the index of dataframe\n",
    "print(NY_bicycle.head(),'\\n') # take a look at the data again after deleting the unnamed column\n",
    "\n",
    "# add a dummy column to present days of the week as numerical values\n",
    "import time\n",
    "NY_bicycle['WkDay']=[time.strptime(i, '%A').tm_wday for i in NY_bicycle.Day]\n",
    "print(NY_bicycle.head())"
   ]
  },
  {
   "cell_type": "code",
   "execution_count": 7,
   "metadata": {},
   "outputs": [
    {
     "data": {
      "text/html": [
       "<div>\n",
       "<style scoped>\n",
       "    .dataframe tbody tr th:only-of-type {\n",
       "        vertical-align: middle;\n",
       "    }\n",
       "\n",
       "    .dataframe tbody tr th {\n",
       "        vertical-align: top;\n",
       "    }\n",
       "\n",
       "    .dataframe thead th {\n",
       "        text-align: right;\n",
       "    }\n",
       "</style>\n",
       "<table border=\"1\" class=\"dataframe\">\n",
       "  <thead>\n",
       "    <tr style=\"text-align: right;\">\n",
       "      <th></th>\n",
       "      <th>Weather</th>\n",
       "      <th>Bridge</th>\n",
       "      <th>Count</th>\n",
       "      <th>Temperature</th>\n",
       "    </tr>\n",
       "  </thead>\n",
       "  <tbody>\n",
       "    <tr>\n",
       "      <th>0</th>\n",
       "      <td>N</td>\n",
       "      <td>Brooklyn_Bridge</td>\n",
       "      <td>606</td>\n",
       "      <td>(45, 55]</td>\n",
       "    </tr>\n",
       "    <tr>\n",
       "      <th>1</th>\n",
       "      <td>N</td>\n",
       "      <td>Brooklyn_Bridge</td>\n",
       "      <td>2021</td>\n",
       "      <td>(55, 65]</td>\n",
       "    </tr>\n",
       "    <tr>\n",
       "      <th>2</th>\n",
       "      <td>R</td>\n",
       "      <td>Brooklyn_Bridge</td>\n",
       "      <td>2470</td>\n",
       "      <td>(55, 65]</td>\n",
       "    </tr>\n",
       "    <tr>\n",
       "      <th>3</th>\n",
       "      <td>R</td>\n",
       "      <td>Brooklyn_Bridge</td>\n",
       "      <td>723</td>\n",
       "      <td>(45, 55]</td>\n",
       "    </tr>\n",
       "    <tr>\n",
       "      <th>4</th>\n",
       "      <td>N</td>\n",
       "      <td>Brooklyn_Bridge</td>\n",
       "      <td>2807</td>\n",
       "      <td>(55, 65]</td>\n",
       "    </tr>\n",
       "    <tr>\n",
       "      <th>...</th>\n",
       "      <td>...</td>\n",
       "      <td>...</td>\n",
       "      <td>...</td>\n",
       "      <td>...</td>\n",
       "    </tr>\n",
       "    <tr>\n",
       "      <th>851</th>\n",
       "      <td>N</td>\n",
       "      <td>Queensboro_Bridge</td>\n",
       "      <td>5181</td>\n",
       "      <td>(55, 65]</td>\n",
       "    </tr>\n",
       "    <tr>\n",
       "      <th>852</th>\n",
       "      <td>N</td>\n",
       "      <td>Queensboro_Bridge</td>\n",
       "      <td>4069</td>\n",
       "      <td>(65, 75]</td>\n",
       "    </tr>\n",
       "    <tr>\n",
       "      <th>853</th>\n",
       "      <td>R</td>\n",
       "      <td>Queensboro_Bridge</td>\n",
       "      <td>965</td>\n",
       "      <td>(55, 65]</td>\n",
       "    </tr>\n",
       "    <tr>\n",
       "      <th>854</th>\n",
       "      <td>R</td>\n",
       "      <td>Queensboro_Bridge</td>\n",
       "      <td>2924</td>\n",
       "      <td>(45, 55]</td>\n",
       "    </tr>\n",
       "    <tr>\n",
       "      <th>855</th>\n",
       "      <td>N</td>\n",
       "      <td>Queensboro_Bridge</td>\n",
       "      <td>4883</td>\n",
       "      <td>(45, 55]</td>\n",
       "    </tr>\n",
       "  </tbody>\n",
       "</table>\n",
       "<p>856 rows × 4 columns</p>\n",
       "</div>"
      ],
      "text/plain": [
       "    Weather             Bridge  Count Temperature\n",
       "0         N    Brooklyn_Bridge    606    (45, 55]\n",
       "1         N    Brooklyn_Bridge   2021    (55, 65]\n",
       "2         R    Brooklyn_Bridge   2470    (55, 65]\n",
       "3         R    Brooklyn_Bridge    723    (45, 55]\n",
       "4         N    Brooklyn_Bridge   2807    (55, 65]\n",
       "..      ...                ...    ...         ...\n",
       "851       N  Queensboro_Bridge   5181    (55, 65]\n",
       "852       N  Queensboro_Bridge   4069    (65, 75]\n",
       "853       R  Queensboro_Bridge    965    (55, 65]\n",
       "854       R  Queensboro_Bridge   2924    (45, 55]\n",
       "855       N  Queensboro_Bridge   4883    (45, 55]\n",
       "\n",
       "[856 rows x 4 columns]"
      ]
     },
     "execution_count": 7,
     "metadata": {},
     "output_type": "execute_result"
    }
   ],
   "source": [
    "# daily volumes at different bridges (as four columns) are reshaped as a single column. \n",
    "df = pd.melt(NY_bicycle,\n",
    "             id_vars=['Weather','High_Temp_F'], \n",
    "             value_vars=['Brooklyn_Bridge', 'Manhattan_Bridge', 'Williamsburg_Bridge','Queensboro_Bridge']\n",
    "            ) # use pandas.melt() to reshape the wide table into a long table\n",
    "\n",
    "# convert High_Temp_F into a categorical variable\n",
    "cutbins = [45, 55, 65, 75, 85, 95] #define the edges of five bins for the column \"High_Temp_F\" using the function cutbins()\n",
    "df['Temperature']=pd.cut(df.High_Temp_F,\n",
    "                         bins=cutbins,\n",
    "                         precision=0) # Add a new column named \"Temperature\" to save the categorical variable converted from 'High_Temp_F'. Using the function pd.cut() to convert continuous variables into categorical variables\n",
    "df.drop('High_Temp_F',axis=1,inplace=True) # delete the origional temperature column using the function drop()\n",
    "\n",
    "# Create a new categorical column to indicate the bridge name\n",
    "df.columns=['Weather','Bridge','Count','Temperature']\n",
    "df\n"
   ]
  },
  {
   "cell_type": "code",
   "execution_count": 8,
   "metadata": {
    "colab": {
     "base_uri": "https://localhost:8080/",
     "height": 424
    },
    "executionInfo": {
     "elapsed": 194,
     "status": "ok",
     "timestamp": 1694626849150,
     "user": {
      "displayName": "Ruwen Qin",
      "userId": "01885423067234457717"
     },
     "user_tz": 240
    },
    "id": "iG75gzd0_P-4",
    "outputId": "c584c86b-4ea0-4ba3-e8bf-f28d4b73d31d"
   },
   "outputs": [
    {
     "data": {
      "text/html": [
       "<div>\n",
       "<style scoped>\n",
       "    .dataframe tbody tr th:only-of-type {\n",
       "        vertical-align: middle;\n",
       "    }\n",
       "\n",
       "    .dataframe tbody tr th {\n",
       "        vertical-align: top;\n",
       "    }\n",
       "\n",
       "    .dataframe thead th {\n",
       "        text-align: right;\n",
       "    }\n",
       "</style>\n",
       "<table border=\"1\" class=\"dataframe\">\n",
       "  <thead>\n",
       "    <tr style=\"text-align: right;\">\n",
       "      <th></th>\n",
       "      <th>Weather</th>\n",
       "      <th>Volume</th>\n",
       "      <th>Bridge</th>\n",
       "      <th>Temperature</th>\n",
       "    </tr>\n",
       "  </thead>\n",
       "  <tbody>\n",
       "    <tr>\n",
       "      <th>0</th>\n",
       "      <td>N</td>\n",
       "      <td>606</td>\n",
       "      <td>Brooklyn</td>\n",
       "      <td>(45, 55]</td>\n",
       "    </tr>\n",
       "    <tr>\n",
       "      <th>1</th>\n",
       "      <td>N</td>\n",
       "      <td>2021</td>\n",
       "      <td>Brooklyn</td>\n",
       "      <td>(55, 65]</td>\n",
       "    </tr>\n",
       "    <tr>\n",
       "      <th>2</th>\n",
       "      <td>R</td>\n",
       "      <td>2470</td>\n",
       "      <td>Brooklyn</td>\n",
       "      <td>(55, 65]</td>\n",
       "    </tr>\n",
       "    <tr>\n",
       "      <th>3</th>\n",
       "      <td>R</td>\n",
       "      <td>723</td>\n",
       "      <td>Brooklyn</td>\n",
       "      <td>(45, 55]</td>\n",
       "    </tr>\n",
       "    <tr>\n",
       "      <th>4</th>\n",
       "      <td>N</td>\n",
       "      <td>2807</td>\n",
       "      <td>Brooklyn</td>\n",
       "      <td>(55, 65]</td>\n",
       "    </tr>\n",
       "    <tr>\n",
       "      <th>...</th>\n",
       "      <td>...</td>\n",
       "      <td>...</td>\n",
       "      <td>...</td>\n",
       "      <td>...</td>\n",
       "    </tr>\n",
       "    <tr>\n",
       "      <th>851</th>\n",
       "      <td>N</td>\n",
       "      <td>5181</td>\n",
       "      <td>Queensboro</td>\n",
       "      <td>(55, 65]</td>\n",
       "    </tr>\n",
       "    <tr>\n",
       "      <th>852</th>\n",
       "      <td>N</td>\n",
       "      <td>4069</td>\n",
       "      <td>Queensboro</td>\n",
       "      <td>(65, 75]</td>\n",
       "    </tr>\n",
       "    <tr>\n",
       "      <th>853</th>\n",
       "      <td>R</td>\n",
       "      <td>965</td>\n",
       "      <td>Queensboro</td>\n",
       "      <td>(55, 65]</td>\n",
       "    </tr>\n",
       "    <tr>\n",
       "      <th>854</th>\n",
       "      <td>R</td>\n",
       "      <td>2924</td>\n",
       "      <td>Queensboro</td>\n",
       "      <td>(45, 55]</td>\n",
       "    </tr>\n",
       "    <tr>\n",
       "      <th>855</th>\n",
       "      <td>N</td>\n",
       "      <td>4883</td>\n",
       "      <td>Queensboro</td>\n",
       "      <td>(45, 55]</td>\n",
       "    </tr>\n",
       "  </tbody>\n",
       "</table>\n",
       "<p>856 rows × 4 columns</p>\n",
       "</div>"
      ],
      "text/plain": [
       "    Weather  Volume      Bridge Temperature\n",
       "0         N     606    Brooklyn    (45, 55]\n",
       "1         N    2021    Brooklyn    (55, 65]\n",
       "2         R    2470    Brooklyn    (55, 65]\n",
       "3         R     723    Brooklyn    (45, 55]\n",
       "4         N    2807    Brooklyn    (55, 65]\n",
       "..      ...     ...         ...         ...\n",
       "851       N    5181  Queensboro    (55, 65]\n",
       "852       N    4069  Queensboro    (65, 75]\n",
       "853       R     965  Queensboro    (55, 65]\n",
       "854       R    2924  Queensboro    (45, 55]\n",
       "855       N    4883  Queensboro    (45, 55]\n",
       "\n",
       "[856 rows x 4 columns]"
      ]
     },
     "execution_count": 8,
     "metadata": {},
     "output_type": "execute_result"
    }
   ],
   "source": [
    "# daily volumes at different bridges (as four columns) are reshaped as a single column. Create a new categorical column to indicate the bridge name\n",
    "\n",
    "# Let's create a dataframe df1 that records Weather, High_Tem, and bicycle Count at Brooklyn bridge. Then, we add a new column to indicate 'Bridge\" the location\n",
    "df1=pd.DataFrame(NY_bicycle[['Weather', 'High_Temp_F','Brooklyn_Bridge']]) #the 3rd column is the daily volume at Brooklyn_Bridge\n",
    "df1['Bridge']='Brooklyn' # add a new column to indicate the bridge name = Brooklyn\n",
    "df1.columns=['Weather', 'High_Temp_F','Volume','Bridge'] # rename the columns\n",
    "\n",
    "# repeat the same operation for bicycle counts at other three bridges\n",
    "df2=pd.DataFrame(NY_bicycle[['Weather', 'High_Temp_F','Manhattan_Bridge']])\n",
    "df2['Bridge']='Manhattan'\n",
    "df2.columns=['Weather', 'High_Temp_F','Volume','Bridge']\n",
    "\n",
    "df3=pd.DataFrame(NY_bicycle[['Weather', 'High_Temp_F','Williamsburg_Bridge']])\n",
    "df3['Bridge']='Williamsburg'\n",
    "df3.columns=['Weather', 'High_Temp_F','Volume','Bridge']\n",
    "\n",
    "df4=pd.DataFrame(NY_bicycle[['Weather', 'High_Temp_F','Queensboro_Bridge']])\n",
    "df4['Bridge']='Queensboro'\n",
    "df4.columns=['Weather', 'High_Temp_F','Volume','Bridge']\n",
    "\n",
    "# combine the three dataframes into one dataframe using pd.concat() function\n",
    "df=pd.concat([df1,df2,df3,df4], ignore_index=True)\n",
    "\n",
    "# convert High_Temp_F into a categorical variable\n",
    "cutbins = [45, 55, 65, 75, 85, 95] #define the edges of five bins for the column \"High_Temp_F\" using the function cutbins()\n",
    "df['Temperature']=pd.cut(df.High_Temp_F,bins=cutbins,precision=0) # Add a new column named \"Temperature\" to save the categorical variable converted from 'High_Temp_F'. Using the function pd.cut() to convert continuous variables into categorical variables\n",
    "df.drop('High_Temp_F',axis=1,inplace=True) # delete the origional temperature column using the function drop()\n",
    "df\n",
    "\n"
   ]
  },
  {
   "cell_type": "markdown",
   "metadata": {
    "id": "vdo-1DzBp5Sz"
   },
   "source": [
    "## Joint Probability Table"
   ]
  },
  {
   "cell_type": "code",
   "execution_count": 9,
   "metadata": {
    "colab": {
     "base_uri": "https://localhost:8080/",
     "height": 206
    },
    "executionInfo": {
     "elapsed": 162,
     "status": "ok",
     "timestamp": 1694626849308,
     "user": {
      "displayName": "Ruwen Qin",
      "userId": "01885423067234457717"
     },
     "user_tz": 240
    },
    "id": "Gp9wDsj6tZaL",
    "outputId": "6cec05a1-3a71-459e-e28c-09db29877c12"
   },
   "outputs": [
    {
     "data": {
      "text/html": [
       "<div>\n",
       "<style scoped>\n",
       "    .dataframe tbody tr th:only-of-type {\n",
       "        vertical-align: middle;\n",
       "    }\n",
       "\n",
       "    .dataframe tbody tr th {\n",
       "        vertical-align: top;\n",
       "    }\n",
       "\n",
       "    .dataframe thead th {\n",
       "        text-align: right;\n",
       "    }\n",
       "</style>\n",
       "<table border=\"1\" class=\"dataframe\">\n",
       "  <thead>\n",
       "    <tr style=\"text-align: right;\">\n",
       "      <th>Temperature</th>\n",
       "      <th>(45, 55]</th>\n",
       "      <th>(55, 65]</th>\n",
       "      <th>(65, 75]</th>\n",
       "      <th>(75, 85]</th>\n",
       "      <th>(85, 95]</th>\n",
       "      <th>All</th>\n",
       "    </tr>\n",
       "    <tr>\n",
       "      <th>Weather</th>\n",
       "      <th></th>\n",
       "      <th></th>\n",
       "      <th></th>\n",
       "      <th></th>\n",
       "      <th></th>\n",
       "      <th></th>\n",
       "    </tr>\n",
       "  </thead>\n",
       "  <tbody>\n",
       "    <tr>\n",
       "      <th>N</th>\n",
       "      <td>0.01</td>\n",
       "      <td>0.09</td>\n",
       "      <td>0.15</td>\n",
       "      <td>0.28</td>\n",
       "      <td>0.08</td>\n",
       "      <td>0.61</td>\n",
       "    </tr>\n",
       "    <tr>\n",
       "      <th>R</th>\n",
       "      <td>0.03</td>\n",
       "      <td>0.07</td>\n",
       "      <td>0.10</td>\n",
       "      <td>0.09</td>\n",
       "      <td>0.03</td>\n",
       "      <td>0.32</td>\n",
       "    </tr>\n",
       "    <tr>\n",
       "      <th>T</th>\n",
       "      <td>0.01</td>\n",
       "      <td>0.00</td>\n",
       "      <td>0.01</td>\n",
       "      <td>0.03</td>\n",
       "      <td>0.01</td>\n",
       "      <td>0.07</td>\n",
       "    </tr>\n",
       "    <tr>\n",
       "      <th>All</th>\n",
       "      <td>0.05</td>\n",
       "      <td>0.17</td>\n",
       "      <td>0.27</td>\n",
       "      <td>0.39</td>\n",
       "      <td>0.12</td>\n",
       "      <td>1.00</td>\n",
       "    </tr>\n",
       "  </tbody>\n",
       "</table>\n",
       "</div>"
      ],
      "text/plain": [
       "Temperature (45, 55] (55, 65] (65, 75] (75, 85] (85, 95]   All\n",
       "Weather                                                       \n",
       "N               0.01     0.09     0.15     0.28     0.08  0.61\n",
       "R               0.03     0.07     0.10     0.09     0.03  0.32\n",
       "T               0.01     0.00     0.01     0.03     0.01  0.07\n",
       "All             0.05     0.17     0.27     0.39     0.12  1.00"
      ]
     },
     "execution_count": 9,
     "metadata": {},
     "output_type": "execute_result"
    }
   ],
   "source": [
    "# create the joint probability table using crosstab(normalize=True). If normalize=False, the table counts observations in each cross-cell\n",
    "\n",
    "pt = pd.crosstab(df.Weather,df.Temperature,values=df.index, aggfunc='count',margins=True, normalize=True)\n",
    "pt.map('{:.2f}'.format)"
   ]
  },
  {
   "cell_type": "markdown",
   "metadata": {
    "id": "S8_LGFtgp_bx"
   },
   "source": [
    "## Conditional Probability Tables"
   ]
  },
  {
   "cell_type": "code",
   "execution_count": 10,
   "metadata": {
    "colab": {
     "base_uri": "https://localhost:8080/",
     "height": 175
    },
    "executionInfo": {
     "elapsed": 176,
     "status": "ok",
     "timestamp": 1694626849480,
     "user": {
      "displayName": "Ruwen Qin",
      "userId": "01885423067234457717"
     },
     "user_tz": 240
    },
    "id": "UpA0Hz4qwvx6",
    "outputId": "84509d03-8c09-438c-e748-6495df117bdb"
   },
   "outputs": [
    {
     "data": {
      "text/html": [
       "<div>\n",
       "<style scoped>\n",
       "    .dataframe tbody tr th:only-of-type {\n",
       "        vertical-align: middle;\n",
       "    }\n",
       "\n",
       "    .dataframe tbody tr th {\n",
       "        vertical-align: top;\n",
       "    }\n",
       "\n",
       "    .dataframe thead th {\n",
       "        text-align: right;\n",
       "    }\n",
       "</style>\n",
       "<table border=\"1\" class=\"dataframe\">\n",
       "  <thead>\n",
       "    <tr style=\"text-align: right;\">\n",
       "      <th></th>\n",
       "      <th>(45, 55]</th>\n",
       "      <th>(55, 65]</th>\n",
       "      <th>(65, 75]</th>\n",
       "      <th>(75, 85]</th>\n",
       "      <th>(85, 95]</th>\n",
       "      <th>All</th>\n",
       "    </tr>\n",
       "  </thead>\n",
       "  <tbody>\n",
       "    <tr>\n",
       "      <th>N</th>\n",
       "      <td>0.18</td>\n",
       "      <td>0.54</td>\n",
       "      <td>0.58</td>\n",
       "      <td>0.70</td>\n",
       "      <td>0.68</td>\n",
       "      <td>0.61</td>\n",
       "    </tr>\n",
       "    <tr>\n",
       "      <th>R</th>\n",
       "      <td>0.64</td>\n",
       "      <td>0.43</td>\n",
       "      <td>0.37</td>\n",
       "      <td>0.23</td>\n",
       "      <td>0.24</td>\n",
       "      <td>0.32</td>\n",
       "    </tr>\n",
       "    <tr>\n",
       "      <th>T</th>\n",
       "      <td>0.18</td>\n",
       "      <td>0.03</td>\n",
       "      <td>0.05</td>\n",
       "      <td>0.07</td>\n",
       "      <td>0.08</td>\n",
       "      <td>0.07</td>\n",
       "    </tr>\n",
       "    <tr>\n",
       "      <th>All</th>\n",
       "      <td>1.00</td>\n",
       "      <td>1.00</td>\n",
       "      <td>1.00</td>\n",
       "      <td>1.00</td>\n",
       "      <td>1.00</td>\n",
       "      <td>1.00</td>\n",
       "    </tr>\n",
       "  </tbody>\n",
       "</table>\n",
       "</div>"
      ],
      "text/plain": [
       "    (45, 55] (55, 65] (65, 75] (75, 85] (85, 95]   All\n",
       "N       0.18     0.54     0.58     0.70     0.68  0.61\n",
       "R       0.64     0.43     0.37     0.23     0.24  0.32\n",
       "T       0.18     0.03     0.05     0.07     0.08  0.07\n",
       "All     1.00     1.00     1.00     1.00     1.00  1.00"
      ]
     },
     "execution_count": 10,
     "metadata": {},
     "output_type": "execute_result"
    }
   ],
   "source": [
    "# create a conditional probability using crosstab(normalize='columns')\n",
    "\n",
    "pt=pd.crosstab(df.Weather,df.Temperature, values=df.index,aggfunc='count',normalize='columns', margins=True) # use crosstab() to create a cross-tablulation whose rows are days of the week and columns are locations\n",
    "mg = pd.DataFrame(np.array([[1] * 6]), columns=pt.columns.to_list(), index=['All'])# create a row and make it the margin to be located at bottom of the table. This new column has six columns, column labels are the same as those of df, and the index of this row is \"All\".\n",
    "pt = pd.concat([pt, mg]) # use pd.concat() to add the margin to the cross tabulation\n",
    "pt.map('{:.2f}'.format)"
   ]
  },
  {
   "cell_type": "code",
   "execution_count": 11,
   "metadata": {
    "colab": {
     "base_uri": "https://localhost:8080/",
     "height": 206
    },
    "executionInfo": {
     "elapsed": 369,
     "status": "ok",
     "timestamp": 1694626849845,
     "user": {
      "displayName": "Ruwen Qin",
      "userId": "01885423067234457717"
     },
     "user_tz": 240
    },
    "id": "JuZckiQnxhWX",
    "outputId": "06025dbc-62bf-47a8-e302-0807972d417f"
   },
   "outputs": [
    {
     "data": {
      "text/html": [
       "<div>\n",
       "<style scoped>\n",
       "    .dataframe tbody tr th:only-of-type {\n",
       "        vertical-align: middle;\n",
       "    }\n",
       "\n",
       "    .dataframe tbody tr th {\n",
       "        vertical-align: top;\n",
       "    }\n",
       "\n",
       "    .dataframe thead th {\n",
       "        text-align: right;\n",
       "    }\n",
       "</style>\n",
       "<table border=\"1\" class=\"dataframe\">\n",
       "  <thead>\n",
       "    <tr style=\"text-align: right;\">\n",
       "      <th>Temperature</th>\n",
       "      <th>(45, 55]</th>\n",
       "      <th>(55, 65]</th>\n",
       "      <th>(65, 75]</th>\n",
       "      <th>(75, 85]</th>\n",
       "      <th>(85, 95]</th>\n",
       "      <th>All</th>\n",
       "    </tr>\n",
       "    <tr>\n",
       "      <th>Weather</th>\n",
       "      <th></th>\n",
       "      <th></th>\n",
       "      <th></th>\n",
       "      <th></th>\n",
       "      <th></th>\n",
       "      <th></th>\n",
       "    </tr>\n",
       "  </thead>\n",
       "  <tbody>\n",
       "    <tr>\n",
       "      <th>N</th>\n",
       "      <td>0.02</td>\n",
       "      <td>0.15</td>\n",
       "      <td>0.25</td>\n",
       "      <td>0.45</td>\n",
       "      <td>0.13</td>\n",
       "      <td>1.00</td>\n",
       "    </tr>\n",
       "    <tr>\n",
       "      <th>R</th>\n",
       "      <td>0.10</td>\n",
       "      <td>0.23</td>\n",
       "      <td>0.30</td>\n",
       "      <td>0.28</td>\n",
       "      <td>0.09</td>\n",
       "      <td>1.00</td>\n",
       "    </tr>\n",
       "    <tr>\n",
       "      <th>T</th>\n",
       "      <td>0.14</td>\n",
       "      <td>0.07</td>\n",
       "      <td>0.21</td>\n",
       "      <td>0.43</td>\n",
       "      <td>0.14</td>\n",
       "      <td>1.00</td>\n",
       "    </tr>\n",
       "    <tr>\n",
       "      <th>All</th>\n",
       "      <td>0.05</td>\n",
       "      <td>0.17</td>\n",
       "      <td>0.27</td>\n",
       "      <td>0.39</td>\n",
       "      <td>0.12</td>\n",
       "      <td>1.00</td>\n",
       "    </tr>\n",
       "  </tbody>\n",
       "</table>\n",
       "</div>"
      ],
      "text/plain": [
       "Temperature (45, 55] (55, 65] (65, 75] (75, 85] (85, 95]   All\n",
       "Weather                                                       \n",
       "N               0.02     0.15     0.25     0.45     0.13  1.00\n",
       "R               0.10     0.23     0.30     0.28     0.09  1.00\n",
       "T               0.14     0.07     0.21     0.43     0.14  1.00\n",
       "All             0.05     0.17     0.27     0.39     0.12  1.00"
      ]
     },
     "execution_count": 11,
     "metadata": {},
     "output_type": "execute_result"
    }
   ],
   "source": [
    "# create a conditional probability using crosstab(normalize='index')\n",
    "\n",
    "pt=pd.crosstab(df.Weather,df.Temperature, values=df.index,aggfunc='count',normalize='index', margins=True)\n",
    "pt['All']=1.00 # add a column named \"All\" and add it as the margin to to belocated at the right of the table\n",
    "pt.map('{:.2f}'.format)"
   ]
  },
  {
   "cell_type": "markdown",
   "metadata": {
    "id": "UWc_YTvAiulI"
   },
   "source": [
    "# Discrete Random Variables"
   ]
  },
  {
   "cell_type": "markdown",
   "metadata": {
    "id": "HxLmUaK9iz4r"
   },
   "source": [
    "## Bernoulli distribution\n",
    "\n",
    "scipy.stats.bernoulli\n",
    "\n",
    "https://docs.scipy.org/doc/scipy/reference/generated/scipy.stats.bernoulli.html"
   ]
  },
  {
   "cell_type": "code",
   "execution_count": 12,
   "metadata": {
    "colab": {
     "base_uri": "https://localhost:8080/",
     "height": 481
    },
    "executionInfo": {
     "elapsed": 1955,
     "status": "ok",
     "timestamp": 1694626863642,
     "user": {
      "displayName": "Ruwen Qin",
      "userId": "01885423067234457717"
     },
     "user_tz": 240
    },
    "id": "ai-wzywaSG7O",
    "outputId": "f0bb5b6a-5a77-4e95-cad1-d8fa24dfbfa0"
   },
   "outputs": [
    {
     "name": "stdout",
     "output_type": "stream",
     "text": [
      "The mean of the random variable is: 0.700\n",
      "The standard deviation of the random variable is: 0.458\n",
      "The sample mean is: 0.699\n",
      "The sample standard deviation is: 0.458\n"
     ]
    },
    {
     "data": {
      "image/png": "[encoded data removed]",
      "text/plain": [
       "<Figure size 600x400 with 1 Axes>"
      ]
     },
     "metadata": {},
     "output_type": "display_data"
    }
   ],
   "source": [
    "from scipy.stats import bernoulli\n",
    "\n",
    "# define a Bernoulli distribution\n",
    "p = 0.7\n",
    "dist_bernoulli = bernoulli(p) # define an object that is a random variable following \n",
    "#print(f'The mean of the random variable is:', dist_bernoulli.mean().round(3))\n",
    "print(f'The mean of the random variable is: {dist_bernoulli.mean():.3f}')\n",
    "\n",
    "print(f'The standard deviation of the random variable is: {dist_bernoulli.std():.3f}')\n",
    "\n",
    "# generate a random sample from the distribution\n",
    "sample_size = 100_000\n",
    "sample_bernoulli=dist_bernoulli.rvs(sample_size) # use distribution.rvs(n) to generate a random sample of size from the distribution \n",
    "print(f'The sample mean is: {sample_bernoulli.mean():.3f}')\n",
    "print(f'The sample standard deviation is: {sample_bernoulli.std():.3f}')\n",
    "\n",
    "## Probability Mass Function ###\n",
    "plt.figure(figsize=(6,4))\n",
    "\n",
    "# - empirical PMF\n",
    "count, bin_edges, _ = plt.hist(sample_bernoulli,\n",
    "                               density=False, \n",
    "                               bins=2,\n",
    "                               cumulative=False, \n",
    "                               color='teal',\n",
    "                               alpha=0.5,\n",
    "                               width=0.45,\n",
    "                               align='mid')\n",
    "plt.xlabel('x')\n",
    "plt.title('Empirical Bernoulli  Distribution')\n",
    "plt.xticks((bin_edges[:-1] + bin_edges[1:])/2,[0,1])\n",
    "plt.show()"
   ]
  },
  {
   "cell_type": "markdown",
   "metadata": {
    "id": "orb7I3mC3mMA"
   },
   "source": [
    "## Binomial distribution\n",
    "\n",
    "scipy.stats.binom\n",
    "\n",
    "https://docs.scipy.org/doc/scipy/reference/generated/scipy.stats.binom.html"
   ]
  },
  {
   "cell_type": "code",
   "execution_count": 13,
   "metadata": {
    "colab": {
     "base_uri": "https://localhost:8080/",
     "height": 481
    },
    "executionInfo": {
     "elapsed": 2033,
     "status": "ok",
     "timestamp": 1694626868657,
     "user": {
      "displayName": "Ruwen Qin",
      "userId": "01885423067234457717"
     },
     "user_tz": 240
    },
    "id": "W9M-OpDhTlq1",
    "outputId": "489d90bc-a605-4f7a-b556-2be12adaac9b"
   },
   "outputs": [
    {
     "name": "stdout",
     "output_type": "stream",
     "text": [
      "The mean of the random variable is: 70.000\n",
      "The standard deviation of the random variable is: 4.583\n",
      "sample mean is\" 70.0104:.3f\n",
      "sample standard deviation is: 4.590\n"
     ]
    },
    {
     "data": {
      "image/png": "[encoded data removed]",
      "text/plain": [
       "<Figure size 600x400 with 1 Axes>"
      ]
     },
     "metadata": {},
     "output_type": "display_data"
    }
   ],
   "source": [
    "from scipy.stats import binom\n",
    "\n",
    "# define a binomial distribution\n",
    "n = 100 # the number of trials\n",
    "p = 0.7 # the probability of success\n",
    "dist_binom = binom(n,p)\n",
    "print(f'The mean of the random variable is: {dist_binom.mean():.3f}')\n",
    "print(f'The standard deviation of the random variable is: {dist_binom.std():.3f}')\n",
    "\n",
    "# generate a random sample from the distribution\n",
    "sample_size = 10000\n",
    "sample_binom=dist_binom.rvs(sample_size)\n",
    "print(f'sample mean is\" {np.mean(sample_binom)}:.3f')\n",
    "print(f'sample standard deviation is: {np.std(sample_binom):.3f}')\n",
    "\n",
    "## probability mass functions ###\n",
    "plt.figure(figsize=(6,4))\n",
    "\n",
    "# - PMF\n",
    "x = range(0,n+1)\n",
    "plt.plot(x,\n",
    "         dist_binom.pmf(x)*sample_size,\n",
    "         'y-',\n",
    "         alpha=0.6)\n",
    "\n",
    "# - empirical PMF\n",
    "plt.hist(sample_binom,\n",
    "         density=False, \n",
    "         bins=n+1, \n",
    "         cumulative=False, \n",
    "         color='teal',\n",
    "         alpha=0.5)\n",
    "plt.xlabel('x')\n",
    "plt.legend(['PMF','Empirical PMF'],loc='best')\n",
    "plt.title('Binomial  Distribution')\n",
    "plt.show()"
   ]
  },
  {
   "cell_type": "markdown",
   "metadata": {
    "id": "FIMdUz7Z3tij"
   },
   "source": [
    "## Poisson distribution\n",
    "\n",
    "scipy.stats.poisson\n",
    "\n",
    "https://docs.scipy.org/doc/scipy/reference/generated/scipy.stats.poisson.html"
   ]
  },
  {
   "cell_type": "code",
   "execution_count": 14,
   "metadata": {
    "colab": {
     "base_uri": "https://localhost:8080/",
     "height": 481
    },
    "executionInfo": {
     "elapsed": 1526,
     "status": "ok",
     "timestamp": 1694626872165,
     "user": {
      "displayName": "Ruwen Qin",
      "userId": "01885423067234457717"
     },
     "user_tz": 240
    },
    "id": "d3eMADtpVFyy",
    "outputId": "0daf4c8d-1d04-4f6b-dd8d-b7c7a8e650d1"
   },
   "outputs": [
    {
     "name": "stdout",
     "output_type": "stream",
     "text": [
      "The mean of the random variable is: 5.000\n",
      "The standard deviation of the random variable is: 2.236\n",
      "sample mean is 4.991\n",
      "sample standard deviation is 2.224\n"
     ]
    },
    {
     "data": {
      "image/png": "[encoded data removed]",
      "text/plain": [
       "<Figure size 600x400 with 1 Axes>"
      ]
     },
     "metadata": {},
     "output_type": "display_data"
    }
   ],
   "source": [
    "from scipy.stats import poisson\n",
    "\n",
    "# define a poisson distribution\n",
    "mu = 5 # mean occurance rate\n",
    "dist_poisson = poisson(mu)\n",
    "print(f'The mean of the random variable is: {dist_poisson.mean():.3f}')\n",
    "print(f'The standard deviation of the random variable is: {dist_poisson.std():.3f}')\n",
    "\n",
    "# generate a random sample from the distribution\n",
    "sample_size = 10000\n",
    "sample_poisson=dist_poisson.rvs(sample_size)\n",
    "print('sample mean is',np.mean(sample_poisson).round(3))\n",
    "print('sample standard deviation is', np.std(sample_poisson).round(3))\n",
    "\n",
    "# probability mass function\n",
    "plt.figure(figsize=(6,4))\n",
    "\n",
    "#- PMF\n",
    "x=range(0,30)\n",
    "plt.plot(x,\n",
    "         dist_poisson.pmf(x)*sample_size,\n",
    "         'y-',\n",
    "         lw=4, \n",
    "         alpha=0.6)\n",
    "\n",
    " # - empirical PMF\n",
    "plt.hist(sample_poisson,\n",
    "         density=False, \n",
    "         bins=101, \n",
    "         cumulative=False, \n",
    "         color='teal',\n",
    "         alpha=0.5)\n",
    "\n",
    "plt.xlabel('x')\n",
    "plt.legend(['PMF','Empirical PMF'],loc='best')\n",
    "plt.title('Poisson  Distribution')\n",
    "plt.show()"
   ]
  },
  {
   "cell_type": "markdown",
   "metadata": {
    "id": "_17wIX6lZMvZ"
   },
   "source": [
    "# Countinuous Random Variables"
   ]
  },
  {
   "cell_type": "markdown",
   "metadata": {
    "id": "o9cyXCHQgEwX"
   },
   "source": [
    "## Continuous uniform distribution\n",
    "\n",
    "scipy.stats.uniform\n",
    "\n",
    "https://docs.scipy.org/doc/scipy/reference/generated/scipy.stats.uniform.html"
   ]
  },
  {
   "cell_type": "code",
   "execution_count": 15,
   "metadata": {
    "colab": {
     "base_uri": "https://localhost:8080/",
     "height": 481
    },
    "executionInfo": {
     "elapsed": 715,
     "status": "ok",
     "timestamp": 1694626875682,
     "user": {
      "displayName": "Ruwen Qin",
      "userId": "01885423067234457717"
     },
     "user_tz": 240
    },
    "id": "Ic9Q6fwFupJk",
    "outputId": "c369e9dd-b884-46c1-8ed8-547752750db6",
    "scrolled": true
   },
   "outputs": [
    {
     "name": "stdout",
     "output_type": "stream",
     "text": [
      "The mean of the random variable is: 2.500\n",
      "The standard deviation of the random variable is: 0.289\n",
      "sample mean is: 2.502\n",
      "sample standard deviation is: 0.290\n"
     ]
    },
    {
     "data": {
      "image/png": "[encoded data removed]",
      "text/plain": [
       "<Figure size 600x400 with 1 Axes>"
      ]
     },
     "metadata": {},
     "output_type": "display_data"
    }
   ],
   "source": [
    "from scipy.stats import uniform\n",
    "\n",
    "# define a uniform distribution\n",
    "loc = 2\n",
    "scale = 1\n",
    "dist_uniform = uniform(loc,scale)\n",
    "print(f'The mean of the random variable is: {dist_uniform.mean():.3f}')\n",
    "print(f'The standard deviation of the random variable is: {dist_uniform.std():.3f}')\n",
    "\n",
    "# generate a random sample from the distribution\n",
    "sample_size = 10000\n",
    "sample_uniform=dist_uniform.rvs(sample_size)\n",
    "print(f'sample mean is: {sample_uniform.mean():.3f}') #\n",
    "print(f'sample standard deviation is: {sample_uniform.std():.3f}')\n",
    "\n",
    "## probability density function ##\n",
    "plt.figure(figsize=(6,4))\n",
    "\n",
    "# -- the PDF function ---\n",
    "x = np.linspace(dist_uniform.ppf(0.0001), \n",
    "                dist_uniform.ppf(0.9999), \n",
    "                100)\n",
    "plt.plot(x, \n",
    "         dist_uniform.pdf(x),\n",
    "         'y-', \n",
    "         lw=4, \n",
    "         alpha=0.6)\n",
    "\n",
    "# -- the empirical PDF ---\n",
    "plt.hist(sample_uniform,\n",
    "         density=True, \n",
    "         bins=101, \n",
    "         cumulative=False, \n",
    "         color='teal',\n",
    "         alpha=0.5)\n",
    "\n",
    "plt.xlabel('x')\n",
    "plt.legend(['PDF','Empirical PDF'],loc='best')\n",
    "plt.title('Uniform Distribution')\n",
    "plt.show()\n"
   ]
  },
  {
   "cell_type": "markdown",
   "metadata": {
    "id": "0Ae7G0U6f8mr"
   },
   "source": [
    "## Normal distribution\n",
    "\n",
    "Scipy.stats.norm\n",
    "\n",
    "https://docs.scipy.org/doc/scipy/reference/generated/scipy.stats.norm.html"
   ]
  },
  {
   "cell_type": "code",
   "execution_count": 16,
   "metadata": {
    "colab": {
     "base_uri": "https://localhost:8080/",
     "height": 481
    },
    "executionInfo": {
     "elapsed": 574,
     "status": "ok",
     "timestamp": 1694626879603,
     "user": {
      "displayName": "Ruwen Qin",
      "userId": "01885423067234457717"
     },
     "user_tz": 240
    },
    "id": "-a76DOQygm1X",
    "outputId": "519f6936-f8c8-49cd-b651-74feb8de984d"
   },
   "outputs": [
    {
     "name": "stdout",
     "output_type": "stream",
     "text": [
      "The mean of the random variable is: 0.000\n",
      "The standard deviation of the random variable is: 1.000\n",
      "sample mean is: 0.004\n",
      "sample standard deviation is: 1.003\n"
     ]
    },
    {
     "data": {
      "image/png": "[encoded data removed]",
      "text/plain": [
       "<Figure size 600x400 with 1 Axes>"
      ]
     },
     "metadata": {},
     "output_type": "display_data"
    }
   ],
   "source": [
    "from scipy.stats import norm\n",
    "\n",
    "#define a normal distribution\n",
    "loc = 0 # mean\n",
    "scale = 1 # standard deviation\n",
    "dist_normal = norm(loc,scale) # sp.stats.norm(loc,scale) defines the normal distribution with a mean and a standard deviation\n",
    "print(f'The mean of the random variable is: {dist_normal.mean():.3f}')\n",
    "print(f'The standard deviation of the random variable is: {dist_normal.std():.3f}')\n",
    "\n",
    "# generate a random sample from the distribution\n",
    "sample_size = 10000\n",
    "sample_normal=dist_normal.rvs(sample_size) #distribution.rvs(sample size) generates a random sample of the given size from the defined probability distribution\n",
    "print(f'sample mean is: {sample_normal.mean():.3f}') # np.mean() returns sample mean\n",
    "print(f'sample standard deviation is: {sample_normal.std():.3f}') #np.var() returns sample standard deviation\n",
    "\n",
    "## probability density function ##\n",
    "plt.figure(figsize=(6,4))\n",
    "\n",
    "# -- the pdf function ---\n",
    "x = np.linspace(dist_normal.ppf(0.0001), \n",
    "                dist_normal.ppf(0.9999), \n",
    "                100)\n",
    "plt.plot(x, \n",
    "         dist_normal.pdf(x),\n",
    "         'y-', \n",
    "         lw=4, \n",
    "         alpha=0.6)\n",
    "\n",
    "# -- the empirical pdf ---\n",
    "plt.hist(sample_normal,\n",
    "         density=True, \n",
    "         bins=101, \n",
    "         cumulative=False,\n",
    "         color='teal',\n",
    "         alpha=0.5) # plt.hist() genrates the histogram using the sample x. You can define the number of bins using \"bins=\". When density=True, the histogram approximates the probability density function. When cumulative=True, the the plot is the cumulative probability distribution\n",
    "\n",
    "plt.xlabel('x')\n",
    "plt.legend(['PDF','Empirical PDF'])\n",
    "plt.title('Normal Distribution')\n",
    "plt.show()\n",
    "\n"
   ]
  },
  {
   "cell_type": "markdown",
   "metadata": {
    "id": "rIEHWZ5jgpvW"
   },
   "source": [
    "## Triangular distribution\n",
    "\n",
    "scipy.stats.triang\n",
    "\n",
    "https://docs.scipy.org/doc/scipy/reference/generated/scipy.stats.triang.html"
   ]
  },
  {
   "cell_type": "code",
   "execution_count": 17,
   "metadata": {
    "colab": {
     "base_uri": "https://localhost:8080/",
     "height": 481
    },
    "executionInfo": {
     "elapsed": 798,
     "status": "ok",
     "timestamp": 1694626884180,
     "user": {
      "displayName": "Ruwen Qin",
      "userId": "01885423067234457717"
     },
     "user_tz": 240
    },
    "id": "9aFb2bkR3EWp",
    "outputId": "3f710018-933a-4b89-ae56-9976b67542c0"
   },
   "outputs": [
    {
     "name": "stdout",
     "output_type": "stream",
     "text": [
      "The mean of the random variable is: 34.000\n",
      "The standard deviation of the random variable is: 5.099\n",
      "sample mean is: 33.983\n",
      "sample standard deviation is: 5.073\n"
     ]
    },
    {
     "data": {
      "image/png": "[encoded data removed]",
      "text/plain": [
       "<Figure size 600x400 with 1 Axes>"
      ]
     },
     "metadata": {},
     "output_type": "display_data"
    }
   ],
   "source": [
    "from scipy.stats import triang\n",
    "\n",
    "# define a triangular distribution\n",
    "c = 0.25 # the location of peak in percent c=(m-a)/(b-a)\n",
    "loc = 24 # left end (loc=a)\n",
    "scale = 24 # width (scale=b-a)\n",
    "dist_triang = triang(c, loc, scale)\n",
    "print(f'The mean of the random variable is: {dist_triang.mean():.3f}')\n",
    "print(f'The standard deviation of the random variable is: {dist_triang.std():.3f}')\n",
    "\n",
    "# generate a random sample from the distribution\n",
    "sample_size = 10000\n",
    "sample_triang=dist_triang.rvs(sample_size)\n",
    "print(f'sample mean is: {sample_triang.mean():.3f}')\n",
    "print(f'sample standard deviation is: {sample_triang.std():.3f}')\n",
    "\n",
    "## probability density function ##\n",
    "plt.figure(figsize=(6,4))\n",
    "\n",
    "# -- the pdf function ---\n",
    "x = np.linspace(dist_triang.ppf(0.0001), \n",
    "                dist_triang.ppf(0.9999), \n",
    "                100)\n",
    "plt.plot(x, \n",
    "         dist_triang.pdf(x),\n",
    "         'y-', \n",
    "         lw=4, \n",
    "         alpha=0.6)\n",
    "\n",
    "# -- the empirical pdf ---\n",
    "plt.hist(sample_triang,\n",
    "         density=True, \n",
    "         bins=101, \n",
    "         cumulative=False,\n",
    "         color='teal',\n",
    "         alpha=0.5)\n",
    "\n",
    "plt.xlabel('x')\n",
    "plt.legend(['PDF','Empirical PDF'],loc='best')\n",
    "plt.title('Triangular Distribution')\n",
    "plt.show()\n"
   ]
  },
  {
   "cell_type": "markdown",
   "metadata": {
    "id": "qdeQ_qiche__"
   },
   "source": [
    "##Exponential distribution\n",
    "\n",
    "scipy.stats.expon\n",
    "\n",
    "https://docs.scipy.org/doc/scipy/reference/generated/scipy.stats.expon.html"
   ]
  },
  {
   "cell_type": "code",
   "execution_count": 18,
   "metadata": {
    "colab": {
     "base_uri": "https://localhost:8080/",
     "height": 481
    },
    "executionInfo": {
     "elapsed": 513,
     "status": "ok",
     "timestamp": 1694626887877,
     "user": {
      "displayName": "Ruwen Qin",
      "userId": "01885423067234457717"
     },
     "user_tz": 240
    },
    "id": "tEP_EmCf4kqm",
    "outputId": "47c5591e-0090-43e2-eb49-0c9b0dc688f6"
   },
   "outputs": [
    {
     "name": "stdout",
     "output_type": "stream",
     "text": [
      "The mean of the random variable is: 0.200\n",
      "The standard deviation of the random variable is: 0.200\n",
      "sample mean is: 0.195\n",
      "sample standard deviation is: 0.197\n"
     ]
    },
    {
     "data": {
      "image/png": "[encoded data removed]",
      "text/plain": [
       "<Figure size 600x400 with 1 Axes>"
      ]
     },
     "metadata": {},
     "output_type": "display_data"
    }
   ],
   "source": [
    "from scipy.stats import expon\n",
    "\n",
    "# define an exponential distribution\n",
    "loc=0 # location\n",
    "scale = 0.2 # scale = 1/lambda\n",
    "dist_expon = expon(loc, scale)\n",
    "print(f'The mean of the random variable is: {dist_expon.mean():.3f}')\n",
    "print(f'The standard deviation of the random variable is: {dist_expon.std():.3f}')\n",
    "\n",
    "# generate a random sample from the distribution\n",
    "sample_size = 10000\n",
    "sample_expon=dist_expon.rvs(sample_size)\n",
    "print(f'sample mean is: {sample_expon.mean():.3f}')\n",
    "print(f'sample standard deviation is: {sample_expon.std():.3f}')\n",
    "\n",
    "## probability density function ##\n",
    "plt.figure(figsize=(6,4))\n",
    "\n",
    "# -- the pdf function ---\n",
    "x = np.linspace(dist_expon.ppf(0.0001), \n",
    "                dist_expon.ppf(0.9999), \n",
    "                100)\n",
    "plt.plot(x, \n",
    "         dist_expon.pdf(x),\n",
    "         'y-', \n",
    "         lw=4, \n",
    "         alpha=0.6)\n",
    "\n",
    "# -- the empirical pdf ---\n",
    "plt.hist(sample_expon,\n",
    "         density=True, \n",
    "         bins=101, \n",
    "         cumulative=False, \n",
    "         color='teal',\n",
    "         alpha=0.5)\n",
    "\n",
    "plt.xlabel('x')\n",
    "plt.legend(['PDF','empirical PDF'],loc='best')\n",
    "plt.title('Exponential Distribution')\n",
    "plt.show()\n"
   ]
  },
  {
   "cell_type": "markdown",
   "metadata": {
    "id": "YH_rBULriRND"
   },
   "source": [
    "## Gamma distribution\n",
    "\n",
    "scipy.stats.gamma\n",
    "\n",
    "https://docs.scipy.org/doc/scipy/reference/generated/scipy.stats.gamma.html"
   ]
  },
  {
   "cell_type": "code",
   "execution_count": 19,
   "metadata": {
    "colab": {
     "base_uri": "https://localhost:8080/",
     "height": 481
    },
    "executionInfo": {
     "elapsed": 658,
     "status": "ok",
     "timestamp": 1694626891645,
     "user": {
      "displayName": "Ruwen Qin",
      "userId": "01885423067234457717"
     },
     "user_tz": 240
    },
    "id": "ZgF3pycYDQ4w",
    "outputId": "b1f32065-1d14-4d4d-bba7-abbc2efbb5c1"
   },
   "outputs": [
    {
     "name": "stdout",
     "output_type": "stream",
     "text": [
      "The mean of the random variable is: 6.000\n",
      "The standard deviation of the random variable is: 3.464\n",
      "sample mean is: 6.002\n",
      "sample standard deviation is: 3.456\n"
     ]
    },
    {
     "data": {
      "image/png": "[encoded data removed]",
      "text/plain": [
       "<Figure size 600x400 with 1 Axes>"
      ]
     },
     "metadata": {},
     "output_type": "display_data"
    }
   ],
   "source": [
    "from scipy.stats import gamma\n",
    "\n",
    "# define a gamma distribution\n",
    "a = 3 # concentration\n",
    "loc = 0\n",
    "scale = 2 # scale=1/beta(rate)\n",
    "dist_gamma = gamma(a, loc, scale)\n",
    "print(f'The mean of the random variable is: {dist_gamma.mean():.3f}')\n",
    "print(f'The standard deviation of the random variable is: { dist_gamma.std():.3f}')\n",
    "\n",
    "# generate a random sample from the distribution\n",
    "sample_size = 100000\n",
    "sample_gamma=dist_gamma.rvs(sample_size)\n",
    "print(f'sample mean is: {sample_gamma.mean():.3f}')\n",
    "print(f'sample standard deviation is: {sample_gamma.std():.3f}')\n",
    "\n",
    "## probability density function ##\n",
    "plt.figure(figsize=(6,4))\n",
    "\n",
    "# -- the pdf function ---\n",
    "x = np.linspace(dist_gamma.ppf(0.0001), \n",
    "                dist_gamma.ppf(0.9999), \n",
    "                100)\n",
    "plt.plot(x, \n",
    "         dist_gamma.pdf(x),\n",
    "         'y-', \n",
    "         lw=4, \n",
    "         alpha=0.6, \n",
    "         label='norm pdf')\n",
    "\n",
    "# -- the empirical pdf ---\n",
    "plt.hist(sample_gamma,density=True, bins=101, cumulative=False, color='teal',alpha=0.5)\n",
    "\n",
    "plt.xlabel('x')\n",
    "plt.legend(['PDF','empirical PDF'],loc='best')\n",
    "plt.title('Gamma Distribution')\n",
    "plt.show()\n",
    "\n"
   ]
  },
  {
   "cell_type": "markdown",
   "metadata": {
    "id": "PR_DEcUi8XsF"
   },
   "source": [
    "# Fitting Data to Distributions"
   ]
  },
  {
   "cell_type": "code",
   "execution_count": 20,
   "metadata": {
    "colab": {
     "base_uri": "https://localhost:8080/",
     "height": 957
    },
    "executionInfo": {
     "elapsed": 30803,
     "status": "ok",
     "timestamp": 1694626928068,
     "user": {
      "displayName": "Ruwen Qin",
      "userId": "01885423067234457717"
     },
     "user_tz": 240
    },
    "id": "ULMoQbxP7trC",
    "outputId": "44626b84-07d6-4e1c-c008-d4edbca9bbd4"
   },
   "outputs": [],
   "source": [
    "# isntall fitter if it's not available in your computer or Colab\n",
    "# !pip install fitter"
   ]
  },
  {
   "cell_type": "code",
   "execution_count": 21,
   "metadata": {
    "executionInfo": {
     "elapsed": 312,
     "status": "ok",
     "timestamp": 1694626932377,
     "user": {
      "displayName": "Ruwen Qin",
      "userId": "01885423067234457717"
     },
     "user_tz": 240
    },
    "id": "DwicPJXaDiEf"
   },
   "outputs": [],
   "source": [
    "from fitter import Fitter # import the module Fitter from the library fitter"
   ]
  },
  {
   "cell_type": "code",
   "execution_count": 22,
   "metadata": {
    "colab": {
     "base_uri": "https://localhost:8080/"
    },
    "executionInfo": {
     "elapsed": 2,
     "status": "ok",
     "timestamp": 1694626933289,
     "user": {
      "displayName": "Ruwen Qin",
      "userId": "01885423067234457717"
     },
     "user_tz": 240
    },
    "id": "EnLKH87_D2Ar",
    "outputId": "36f124c1-2bba-4151-ab8c-77dd19848c81"
   },
   "outputs": [
    {
     "name": "stdout",
     "output_type": "stream",
     "text": [
      "    Date        Day  High_Temp_F  Low_Temp_F  Precipitation Weather  \\\n",
      "0  1-Apr   Saturday         46.0        37.0           0.00       N   \n",
      "1  2-Apr     Sunday         62.1        41.0           0.00       N   \n",
      "2  3-Apr     Monday         63.0        50.0           0.03       R   \n",
      "3  4-Apr    Tuesday         51.1        46.0           1.18       R   \n",
      "4  5-Apr  Wednesday         63.0        46.0           0.00       N   \n",
      "\n",
      "   Brooklyn_Bridge  Manhattan_Bridge  Williamsburg_Bridge  Queensboro_Bridge  \\\n",
      "0              606              1446                 1915               1430   \n",
      "1             2021              3943                 4207               2862   \n",
      "2             2470              4988                 5178               3689   \n",
      "3              723              1913                 2279               1666   \n",
      "4             2807              5276                 5711               4197   \n",
      "\n",
      "   Total  \n",
      "0   5397  \n",
      "1  13033  \n",
      "2  16325  \n",
      "3   6581  \n",
      "4  17991  \n"
     ]
    }
   ],
   "source": [
    "# read the datafile into colab\n",
    "NY_bicycle=pd.read_csv(\"Data/NY_Bicycle.csv\") # read the data in csv format using pd.read_csv\n",
    "del NY_bicycle[\"Unnamed: 0\"] # delete the column \"Unnamed: 0\" because it duplicates the index of dataframe\n",
    "print(NY_bicycle.head())"
   ]
  },
  {
   "cell_type": "code",
   "execution_count": 23,
   "metadata": {
    "colab": {
     "base_uri": "https://localhost:8080/",
     "height": 477
    },
    "executionInfo": {
     "elapsed": 819,
     "status": "ok",
     "timestamp": 1694626936322,
     "user": {
      "displayName": "Ruwen Qin",
      "userId": "01885423067234457717"
     },
     "user_tz": 240
    },
    "id": "Cci_Ku95lyoE",
    "outputId": "b609d3c1-c527-424e-d2cf-db4f94ca7194"
   },
   "outputs": [
    {
     "data": {
      "image/png": "[encoded data removed]",
      "text/plain": [
       "<Figure size 640x480 with 1 Axes>"
      ]
     },
     "metadata": {},
     "output_type": "display_data"
    }
   ],
   "source": [
    "# Empirical probability density function of daily bicycle volume\n",
    "plt.hist(NY_bicycle.Total,\n",
    "         bins=17,\n",
    "         density=False,\n",
    "         color='teal',\n",
    "         alpha=0.6)\n",
    "\n",
    "plt.xlabel('Daily Volume',fontsize=12)\n",
    "plt.title('Empirical PDF', fontsize=14)\n",
    "plt.show()"
   ]
  },
  {
   "cell_type": "code",
   "execution_count": null,
   "metadata": {
    "colab": {
     "base_uri": "https://localhost:8080/",
     "height": 771
    },
    "executionInfo": {
     "elapsed": 63369,
     "status": "ok",
     "timestamp": 1694627002682,
     "user": {
      "displayName": "Ruwen Qin",
      "userId": "01885423067234457717"
     },
     "user_tz": 240
    },
    "id": "7UEki8Yt7ORQ",
    "outputId": "397ff026-ee45-499e-d369-e94b8cd79806"
   },
   "outputs": [],
   "source": [
    "# fit distributions for NY_bicycle.Total\n",
    "f=Fitter(NY_bicycle.Total)\n",
    "f.fit()\n",
    "f.summary(Nbest=3,plot=True)\n",
    "f.get_best(method='sumsquare_error')"
   ]
  },
  {
   "cell_type": "code",
   "execution_count": null,
   "metadata": {
    "colab": {
     "base_uri": "https://localhost:8080/",
     "height": 1000
    },
    "executionInfo": {
     "elapsed": 67735,
     "status": "ok",
     "timestamp": 1694627174090,
     "user": {
      "displayName": "Ruwen Qin",
      "userId": "01885423067234457717"
     },
     "user_tz": 240
    },
    "id": "yew1gp2HBqFJ",
    "outputId": "dff6520a-c233-4a06-8731-51fa50bc0743"
   },
   "outputs": [
    {
     "name": "stderr",
     "output_type": "stream",
     "text": [
      "2024-09-09 22:41:00.639 | WARNING  | fitter.fitter:_fit_single_distribution:337 - SKIPPED _fit distribution (taking more than 30 seconds)\n",
      "2024-09-09 22:41:00.646 | INFO     | fitter.fitter:_fit_single_distribution:333 - Fitted anglit distribution with error=0.082607)\n",
      "2024-09-09 22:41:00.660 | INFO     | fitter.fitter:_fit_single_distribution:333 - Fitted beta distribution with error=0.078116)\n",
      "2024-09-09 22:41:00.661 | INFO     | fitter.fitter:_fit_single_distribution:333 - Fitted argus distribution with error=0.079532)\n",
      "2024-09-09 22:41:00.663 | INFO     | fitter.fitter:_fit_single_distribution:333 - Fitted arcsine distribution with error=0.12369)\n",
      "2024-09-09 22:41:00.666 | INFO     | fitter.fitter:_fit_single_distribution:333 - Fitted alpha distribution with error=0.081702)\n",
      "2024-09-09 22:41:00.667 | INFO     | fitter.fitter:_fit_single_distribution:333 - Fitted cauchy distribution with error=0.085524)\n",
      "2024-09-09 22:41:00.670 | INFO     | fitter.fitter:_fit_single_distribution:333 - Fitted cosine distribution with error=0.080806)\n",
      "2024-09-09 22:41:00.672 | INFO     | fitter.fitter:_fit_single_distribution:333 - Fitted bradford distribution with error=0.099537)\n",
      "2024-09-09 22:41:00.675 | INFO     | fitter.fitter:_fit_single_distribution:333 - Fitted dweibull distribution with error=0.080225)\n",
      "2024-09-09 22:41:00.675 | INFO     | fitter.fitter:_fit_single_distribution:333 - Fitted expon distribution with error=0.112138)\n",
      "2024-09-09 22:41:00.681 | INFO     | fitter.fitter:_fit_single_distribution:333 - Fitted dgamma distribution with error=0.081702)\n",
      "2024-09-09 22:41:00.687 | INFO     | fitter.fitter:_fit_single_distribution:333 - Fitted exponnorm distribution with error=0.080616)\n",
      "2024-09-09 22:41:00.688 | INFO     | fitter.fitter:_fit_single_distribution:333 - Fitted chi distribution with error=0.080868)\n",
      "2024-09-09 22:41:00.694 | INFO     | fitter.fitter:_fit_single_distribution:333 - Fitted betaprime distribution with error=0.083113)\n",
      "2024-09-09 22:41:00.696 | INFO     | fitter.fitter:_fit_single_distribution:333 - Fitted erlang distribution with error=0.080934)\n",
      "2024-09-09 22:41:00.704 | INFO     | fitter.fitter:_fit_single_distribution:333 - Fitted chi2 distribution with error=0.081268)\n",
      "2024-09-09 22:41:00.711 | INFO     | fitter.fitter:_fit_single_distribution:333 - Fitted foldnorm distribution with error=0.080581)\n",
      "2024-09-09 22:41:00.715 | INFO     | fitter.fitter:_fit_single_distribution:333 - Fitted fatiguelife distribution with error=0.08078)\n",
      "2024-09-09 22:41:00.719 | INFO     | fitter.fitter:_fit_single_distribution:333 - Fitted genextreme distribution with error=0.078243)\n",
      "2024-09-09 22:41:00.724 | INFO     | fitter.fitter:_fit_single_distribution:333 - Fitted burr12 distribution with error=0.078772)\n",
      "2024-09-09 22:41:00.728 | INFO     | fitter.fitter:_fit_single_distribution:333 - Fitted crystalball distribution with error=0.080616)\n",
      "2024-09-09 22:41:00.728 | INFO     | fitter.fitter:_fit_single_distribution:333 - Fitted f distribution with error=0.080608)\n",
      "2024-09-09 22:41:00.728 | INFO     | fitter.fitter:_fit_single_distribution:333 - Fitted genhalflogistic distribution with error=0.084009)\n",
      "2024-09-09 22:41:00.731 | INFO     | fitter.fitter:_fit_single_distribution:333 - Fitted gumbel_l distribution with error=0.078364)\n",
      "2024-09-09 22:41:00.734 | INFO     | fitter.fitter:_fit_single_distribution:333 - Fitted gumbel_r distribution with error=0.085027)\n",
      "2024-09-09 22:41:00.736 | INFO     | fitter.fitter:_fit_single_distribution:333 - Fitted gamma distribution with error=0.080925)\n",
      "2024-09-09 22:41:00.738 | INFO     | fitter.fitter:_fit_single_distribution:333 - Fitted gennorm distribution with error=0.080115)\n",
      "2024-09-09 22:41:00.740 | INFO     | fitter.fitter:_fit_single_distribution:333 - Fitted exponpow distribution with error=0.195969)\n",
      "2024-09-09 22:41:00.743 | INFO     | fitter.fitter:_fit_single_distribution:333 - Fitted gibrat distribution with error=0.102761)\n",
      "2024-09-09 22:41:00.746 | INFO     | fitter.fitter:_fit_single_distribution:333 - Fitted halfcauchy distribution with error=0.1085)\n",
      "2024-09-09 22:41:00.747 | INFO     | fitter.fitter:_fit_single_distribution:333 - Fitted hypsecant distribution with error=0.082192)\n",
      "2024-09-09 22:41:00.749 | INFO     | fitter.fitter:_fit_single_distribution:333 - Fitted halflogistic distribution with error=0.104115)\n",
      "2024-09-09 22:41:00.760 | INFO     | fitter.fitter:_fit_single_distribution:333 - Fitted fisk distribution with error=0.081342)\n",
      "2024-09-09 22:41:00.762 | INFO     | fitter.fitter:_fit_single_distribution:333 - Fitted halfnorm distribution with error=0.102753)\n",
      "2024-09-09 22:41:00.770 | INFO     | fitter.fitter:_fit_single_distribution:333 - Fitted genpareto distribution with error=0.10636)\n",
      "2024-09-09 22:41:00.773 | INFO     | fitter.fitter:_fit_single_distribution:333 - Fitted invgamma distribution with error=0.081573)\n",
      "2024-09-09 22:41:00.776 | INFO     | fitter.fitter:_fit_single_distribution:333 - Fitted foldcauchy distribution with error=0.085325)\n",
      "/opt/anaconda3/lib/python3.11/site-packages/scipy/integrate/_quadpack_py.py:1233: IntegrationWarning: The maximum number of subdivisions (50) has been achieved.\n",
      "  If increasing the limit yields no improvement it is advised to analyze \n",
      "  the integrand in order to determine the difficulties.  If the position of a \n",
      "  local difficulty can be determined (singularity, discontinuity) one will \n",
      "  probably gain from splitting up the interval and calling the integrator \n",
      "  on the subranges.  Perhaps a special-purpose integrator should be used.\n",
      "  quad_r = quad(f, low, high, args=args, full_output=self.full_output,\n",
      "2024-09-09 22:41:00.788 | INFO     | fitter.fitter:_fit_single_distribution:333 - Fitted invgauss distribution with error=0.082314)\n",
      "2024-09-09 22:41:00.788 | INFO     | fitter.fitter:_fit_single_distribution:333 - Fitted gengamma distribution with error=0.081254)\n",
      "2024-09-09 22:41:00.789 | INFO     | fitter.fitter:_fit_single_distribution:333 - Fitted ksone distribution with error=0.092388)\n",
      "2024-09-09 22:41:00.791 | INFO     | fitter.fitter:_fit_single_distribution:333 - Fitted geninvgauss distribution with error=0.090453)\n",
      "2024-09-09 22:41:00.794 | INFO     | fitter.fitter:_fit_single_distribution:333 - Fitted halfgennorm distribution with error=0.145116)\n",
      "2024-09-09 22:41:00.794 | WARNING  | fitter.fitter:_fit_single_distribution:337 - SKIPPED kstwo distribution (taking more than 30 seconds)\n",
      "2024-09-09 22:41:00.803 | INFO     | fitter.fitter:_fit_single_distribution:333 - Fitted levy_l distribution with error=0.099511)\n",
      "2024-09-09 22:41:00.803 | INFO     | fitter.fitter:_fit_single_distribution:333 - Fitted genlogistic distribution with error=0.07958)\n",
      "2024-09-09 22:41:00.804 | INFO     | fitter.fitter:_fit_single_distribution:333 - Fitted kappa3 distribution with error=0.091177)\n",
      "2024-09-09 22:41:00.807 | INFO     | fitter.fitter:_fit_single_distribution:333 - Fitted laplace_asymmetric distribution with error=0.080048)\n",
      "2024-09-09 22:41:00.814 | INFO     | fitter.fitter:_fit_single_distribution:333 - Fitted loggamma distribution with error=0.078823)\n",
      "2024-09-09 22:41:00.818 | INFO     | fitter.fitter:_fit_single_distribution:333 - Fitted logistic distribution with error=0.081341)\n",
      "2024-09-09 22:41:00.818 | INFO     | fitter.fitter:_fit_single_distribution:333 - Fitted gompertz distribution with error=0.32381)\n",
      "2024-09-09 22:41:00.818 | INFO     | fitter.fitter:_fit_single_distribution:333 - Fitted invweibull distribution with error=0.085046)\n",
      "2024-09-09 22:41:00.820 | INFO     | fitter.fitter:_fit_single_distribution:333 - Fitted exponweib distribution with error=0.083718)\n",
      "2024-09-09 22:41:00.822 | INFO     | fitter.fitter:_fit_single_distribution:333 - Fitted levy distribution with error=0.111403)\n",
      "2024-09-09 22:41:00.827 | INFO     | fitter.fitter:_fit_single_distribution:333 - Fitted moyal distribution with error=0.087576)\n",
      "2024-09-09 22:41:00.829 | INFO     | fitter.fitter:_fit_single_distribution:333 - Fitted loguniform distribution with error=0.098972)\n",
      "2024-09-09 22:41:00.829 | INFO     | fitter.fitter:_fit_single_distribution:333 - Fitted maxwell distribution with error=0.083484)\n",
      "2024-09-09 22:41:00.858 | INFO     | fitter.fitter:_fit_single_distribution:333 - Fitted loglaplace distribution with error=0.08641)\n",
      "2024-09-09 22:41:00.864 | INFO     | fitter.fitter:_fit_single_distribution:333 - Fitted lognorm distribution with error=0.080616)\n",
      "/opt/anaconda3/lib/python3.11/site-packages/scipy/integrate/_quadpack_py.py:1233: IntegrationWarning: The maximum number of subdivisions (50) has been achieved.\n",
      "  If increasing the limit yields no improvement it is advised to analyze \n",
      "  the integrand in order to determine the difficulties.  If the position of a \n",
      "  local difficulty can be determined (singularity, discontinuity) one will \n",
      "  probably gain from splitting up the interval and calling the integrator \n",
      "  on the subranges.  Perhaps a special-purpose integrator should be used.\n",
      "  quad_r = quad(f, low, high, args=args, full_output=self.full_output,\n",
      "2024-09-09 22:41:00.870 | INFO     | fitter.fitter:_fit_single_distribution:333 - Fitted lomax distribution with error=0.112115)\n",
      "2024-09-09 22:41:00.872 | INFO     | fitter.fitter:_fit_single_distribution:333 - Fitted burr distribution with error=0.085747)\n",
      "2024-09-09 22:41:00.866 | INFO     | fitter.fitter:_fit_single_distribution:333 - Fitted nakagami distribution with error=0.08063)\n",
      "/opt/anaconda3/lib/python3.11/site-packages/scipy/integrate/_quadpack_py.py:1233: IntegrationWarning: The maximum number of subdivisions (50) has been achieved.\n",
      "  If increasing the limit yields no improvement it is advised to analyze \n",
      "  the integrand in order to determine the difficulties.  If the position of a \n",
      "  local difficulty can be determined (singularity, discontinuity) one will \n",
      "  probably gain from splitting up the interval and calling the integrator \n",
      "  on the subranges.  Perhaps a special-purpose integrator should be used.\n",
      "  quad_r = quad(f, low, high, args=args, full_output=self.full_output,\n",
      "2024-09-09 22:41:00.875 | INFO     | fitter.fitter:_fit_single_distribution:333 - Fitted norm distribution with error=0.080616)\n",
      "2024-09-09 22:41:00.878 | INFO     | fitter.fitter:_fit_single_distribution:333 - Fitted mielke distribution with error=0.078373)\n",
      "2024-09-09 22:41:00.879 | INFO     | fitter.fitter:_fit_single_distribution:333 - Fitted pareto distribution with error=0.112138)\n",
      "2024-09-09 22:41:00.883 | INFO     | fitter.fitter:_fit_single_distribution:333 - Fitted powerlaw distribution with error=0.085941)\n",
      "2024-09-09 22:41:00.894 | INFO     | fitter.fitter:_fit_single_distribution:333 - Fitted kstwobign distribution with error=0.086346)\n",
      "2024-09-09 22:41:00.897 | INFO     | fitter.fitter:_fit_single_distribution:333 - Fitted laplace distribution with error=0.085205)\n",
      "2024-09-09 22:41:00.904 | INFO     | fitter.fitter:_fit_single_distribution:333 - Fitted pearson3 distribution with error=0.078338)\n",
      "2024-09-09 22:41:00.908 | INFO     | fitter.fitter:_fit_single_distribution:333 - Fitted rayleigh distribution with error=0.087184)\n",
      "2024-09-09 22:41:00.929 | INFO     | fitter.fitter:_fit_single_distribution:333 - Fitted johnsonsb distribution with error=0.077908)\n",
      "2024-09-09 22:41:00.930 | INFO     | fitter.fitter:_fit_single_distribution:333 - Fitted rdist distribution with error=0.116903)\n",
      "2024-09-09 22:41:00.940 | INFO     | fitter.fitter:_fit_single_distribution:333 - Fitted ncf distribution with error=0.08134)\n",
      "/opt/anaconda3/lib/python3.11/site-packages/scipy/integrate/_quadpack_py.py:1233: IntegrationWarning: The occurrence of roundoff error is detected, which prevents \n",
      "  the requested tolerance from being achieved.  The error may be \n",
      "  underestimated.\n",
      "  quad_r = quad(f, low, high, args=args, full_output=self.full_output,\n",
      "2024-09-09 22:41:00.944 | INFO     | fitter.fitter:_fit_single_distribution:333 - Fitted ncx2 distribution with error=0.137899)\n",
      "2024-09-09 22:41:00.954 | INFO     | fitter.fitter:_fit_single_distribution:333 - Fitted reciprocal distribution with error=0.098972)\n",
      "2024-09-09 22:41:00.966 | INFO     | fitter.fitter:_fit_single_distribution:333 - Fitted johnsonsu distribution with error=0.078634)\n",
      "2024-09-09 22:41:00.968 | WARNING  | fitter.fitter:_fit_single_distribution:337 - SKIPPED rv_continuous distribution (taking more than 30 seconds)\n",
      "2024-09-09 22:41:00.969 | WARNING  | fitter.fitter:_fit_single_distribution:337 - SKIPPED rv_histogram distribution (taking more than 30 seconds)\n",
      "2024-09-09 22:41:00.970 | INFO     | fitter.fitter:_fit_single_distribution:333 - Fitted rel_breitwigner distribution with error=0.082836)\n",
      "2024-09-09 22:41:00.978 | INFO     | fitter.fitter:_fit_single_distribution:333 - Fitted semicircular distribution with error=0.085335)\n",
      "2024-09-09 22:41:00.984 | INFO     | fitter.fitter:_fit_single_distribution:333 - Fitted powernorm distribution with error=0.078732)\n",
      "2024-09-09 22:41:00.985 | INFO     | fitter.fitter:_fit_single_distribution:333 - Fitted skewcauchy distribution with error=0.08125)\n",
      "2024-09-09 22:41:00.986 | INFO     | fitter.fitter:_fit_single_distribution:333 - Fitted rice distribution with error=0.080616)\n",
      "2024-09-09 22:41:00.996 | INFO     | fitter.fitter:_fit_single_distribution:333 - Fitted skewnorm distribution with error=0.077873)\n",
      "2024-09-09 22:41:00.999 | INFO     | fitter.fitter:_fit_single_distribution:333 - Fitted nct distribution with error=0.080817)\n",
      "2024-09-09 22:41:01.006 | INFO     | fitter.fitter:_fit_single_distribution:333 - Fitted trapezoid distribution with error=0.088548)\n",
      "2024-09-09 22:41:01.016 | INFO     | fitter.fitter:_fit_single_distribution:333 - Fitted trapz distribution with error=0.088548)\n",
      "2024-09-09 22:41:01.019 | INFO     | fitter.fitter:_fit_single_distribution:333 - Fitted truncexpon distribution with error=0.101167)\n",
      "2024-09-09 22:41:01.024 | INFO     | fitter.fitter:_fit_single_distribution:333 - Fitted gausshyper distribution with error=0.077871)\n",
      "2024-09-09 22:41:01.025 | INFO     | fitter.fitter:_fit_single_distribution:333 - Fitted triang distribution with error=0.077177)\n",
      "2024-09-09 22:41:01.044 | INFO     | fitter.fitter:_fit_single_distribution:333 - Fitted truncpareto distribution with error=0.116876)\n",
      "2024-09-09 22:41:01.069 | INFO     | fitter.fitter:_fit_single_distribution:333 - Fitted truncnorm distribution with error=0.096482)\n",
      "2024-09-09 22:41:01.071 | INFO     | fitter.fitter:_fit_single_distribution:333 - Fitted uniform distribution with error=0.091177)\n",
      "2024-09-09 22:41:01.073 | INFO     | fitter.fitter:_fit_single_distribution:333 - Fitted truncweibull_min distribution with error=0.084234)\n",
      "2024-09-09 22:41:01.074 | INFO     | fitter.fitter:_fit_single_distribution:333 - Fitted vonmises distribution with error=1.996848)\n",
      "2024-09-09 22:41:01.074 | WARNING  | fitter.fitter:_fit_single_distribution:337 - SKIPPED vonmises_fisher distribution (taking more than 30 seconds)\n",
      "2024-09-09 22:41:01.080 | INFO     | fitter.fitter:_fit_single_distribution:333 - Fitted t distribution with error=0.080618)\n",
      "2024-09-09 22:41:01.087 | INFO     | fitter.fitter:_fit_single_distribution:333 - Fitted wald distribution with error=0.100934)\n",
      "2024-09-09 22:41:01.088 | INFO     | fitter.fitter:_fit_single_distribution:333 - Fitted powerlognorm distribution with error=0.079088)\n",
      "2024-09-09 22:41:01.099 | INFO     | fitter.fitter:_fit_single_distribution:333 - Fitted weibull_min distribution with error=0.078832)\n",
      "2024-09-09 22:41:01.103 | INFO     | fitter.fitter:_fit_single_distribution:333 - Fitted wrapcauchy distribution with error=0.091474)\n",
      "2024-09-09 22:41:01.106 | INFO     | fitter.fitter:_fit_single_distribution:333 - Fitted weibull_max distribution with error=0.345871)\n",
      "2024-09-09 22:41:01.109 | INFO     | fitter.fitter:_fit_single_distribution:333 - Fitted genexpon distribution with error=0.107608)\n",
      "2024-09-09 22:41:01.136 | INFO     | fitter.fitter:_fit_single_distribution:333 - Fitted kappa4 distribution with error=0.09139)\n",
      "2024-09-09 22:41:01.167 | INFO     | fitter.fitter:_fit_single_distribution:333 - Fitted norminvgauss distribution with error=0.078534)\n",
      "2024-09-09 22:41:01.212 | INFO     | fitter.fitter:_fit_single_distribution:333 - Fitted tukeylambda distribution with error=0.080571)\n",
      "2024-09-09 22:41:01.234 | INFO     | fitter.fitter:_fit_single_distribution:333 - Fitted genhyperbolic distribution with error=0.078253)\n",
      "2024-09-09 22:41:01.268 | INFO     | fitter.fitter:_fit_single_distribution:333 - Fitted vonmises_line distribution with error=0.081517)\n",
      "2024-09-09 22:41:01.302 | INFO     | fitter.fitter:_fit_single_distribution:333 - Fitted levy_stable distribution with error=0.079145)\n"
     ]
    },
    {
     "name": "stderr",
     "output_type": "stream",
     "text": [
      "2024-09-09 22:41:01.859 | INFO     | fitter.fitter:_fit_single_distribution:333 - Fitted recipinvgauss distribution with error=0.081305)\n",
      "/opt/anaconda3/lib/python3.11/site-packages/scipy/integrate/_quadpack_py.py:1233: IntegrationWarning: The maximum number of subdivisions (50) has been achieved.\n",
      "  If increasing the limit yields no improvement it is advised to analyze \n",
      "  the integrand in order to determine the difficulties.  If the position of a \n",
      "  local difficulty can be determined (singularity, discontinuity) one will \n",
      "  probably gain from splitting up the interval and calling the integrator \n",
      "  on the subranges.  Perhaps a special-purpose integrator should be used.\n",
      "  quad_r = quad(f, low, high, args=args, full_output=self.full_output,\n",
      "/opt/anaconda3/lib/python3.11/site-packages/scipy/integrate/_quadpack_py.py:1233: IntegrationWarning: The integral is probably divergent, or slowly convergent.\n",
      "  quad_r = quad(f, low, high, args=args, full_output=self.full_output,\n"
     ]
    }
   ],
   "source": [
    "# fit distributions for NY_bicycle.High_Temp_F\n",
    "f=Fitter(NY_bicycle.High_Temp_F)\n",
    "f.fit()\n",
    "f.summary(Nbest=3,plot=True)\n",
    "f.get_best(method='sumsquare_error')"
   ]
  },
  {
   "cell_type": "code",
   "execution_count": null,
   "metadata": {},
   "outputs": [],
   "source": []
  }
 ],
 "metadata": {
  "colab": {
   "provenance": [],
   "toc_visible": true
  },
  "kernelspec": {
   "display_name": "Python 3 (ipykernel)",
   "language": "python",
   "name": "python3"
  },
  "language_info": {
   "codemirror_mode": {
    "name": "ipython",
    "version": 3
   },
   "file_extension": ".py",
   "mimetype": "text/x-python",
   "name": "python",
   "nbconvert_exporter": "python",
   "pygments_lexer": "ipython3",
   "version": "3.11.8"
  },
  "toc": {
   "base_numbering": 1,
   "nav_menu": {},
   "number_sections": true,
   "sideBar": true,
   "skip_h1_title": false,
   "title_cell": "Modeling Uncertainty using Probability",
   "title_sidebar": "Contents",
   "toc_cell": true,
   "toc_position": {
    "height": "calc(100% - 180px)",
    "left": "10px",
    "top": "150px",
    "width": "302.391px"
   },
   "toc_section_display": true,
   "toc_window_display": true
  },
  "varInspector": {
   "cols": {
    "lenName": 16,
    "lenType": 16,
    "lenVar": 40
   },
   "kernels_config": {
    "python": {
     "delete_cmd_postfix": "",
     "delete_cmd_prefix": "del ",
     "library": "var_list.py",
     "varRefreshCmd": "print(var_dic_list())"
    },
    "r": {
     "delete_cmd_postfix": ") ",
     "delete_cmd_prefix": "rm(",
     "library": "var_list.r",
     "varRefreshCmd": "cat(var_dic_list()) "
    }
   },
   "types_to_exclude": [
    "module",
    "function",
    "builtin_function_or_method",
    "instance",
    "_Feature"
   ],
   "window_display": false
  }
 },
 "nbformat": 4,
 "nbformat_minor": 1
}
