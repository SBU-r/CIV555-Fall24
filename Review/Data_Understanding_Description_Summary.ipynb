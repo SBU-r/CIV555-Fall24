{
 "cells": [
  {
   "cell_type": "markdown",
   "metadata": {
    "toc": true
   },
   "source": [
    "<h1>Module 1: Data Understanding, Description, and Summary<span class=\"tocSkip\"></span></h1>\n",
    "<div class=\"toc\"><ul class=\"toc-item\"><li><span><a href=\"#1.-Get-to-Know-the-Dataset\" data-toc-modified-id=\"1.-Get-to-Know-the-Dataset-1\">1. Get to Know the Dataset</a></span><ul class=\"toc-item\"><li><span><a href=\"#1.1-DataFrame\" data-toc-modified-id=\"1.1-DataFrame-1.1\">1.1 DataFrame</a></span></li><li><span><a href=\"#1.2-Data-Modification\" data-toc-modified-id=\"1.2-Data-Modification-1.2\">1.2 Data Modification</a></span><ul class=\"toc-item\"><li><span><a href=\"#1.2.1-Sorting\" data-toc-modified-id=\"1.2.1-Sorting-1.2.1\">1.2.1 Sorting</a></span></li><li><span><a href=\"#1.2.2-Filtering\" data-toc-modified-id=\"1.2.2-Filtering-1.2.2\">1.2.2 Filtering</a></span></li></ul></li></ul></li><li><span><a href=\"#2-Data-Distribution\" data-toc-modified-id=\"2-Data-Distribution-2\">2 Data Distribution</a></span><ul class=\"toc-item\"><li><span><a href=\"#2.1-Categorical-Data\" data-toc-modified-id=\"2.1-Categorical-Data-2.1\">2.1 Categorical Data</a></span></li><li><span><a href=\"#2.2-Numerical-Data\" data-toc-modified-id=\"2.2-Numerical-Data-2.2\">2.2 Numerical Data</a></span></li></ul></li><li><span><a href=\"#3.-Numerical-Data-Description\" data-toc-modified-id=\"3.-Numerical-Data-Description-3\">3. Numerical Data Description</a></span><ul class=\"toc-item\"><li><span><a href=\"#3.1-Measurements-of-Locations\" data-toc-modified-id=\"3.1-Measurements-of-Locations-3.1\">3.1 Measurements of Locations</a></span></li><li><span><a href=\"#3.2-Measurements-of-Variability\" data-toc-modified-id=\"3.2-Measurements-of-Variability-3.2\">3.2 Measurements of Variability</a></span></li><li><span><a href=\"#3.3-Measurements-of-Shapes\" data-toc-modified-id=\"3.3-Measurements-of-Shapes-3.3\">3.3 Measurements of Shapes</a></span></li><li><span><a href=\"#3.4-Measurements-of-Distribution\" data-toc-modified-id=\"3.4-Measurements-of-Distribution-3.4\">3.4 Measurements of Distribution</a></span></li><li><span><a href=\"#3.5-Measurements-of-Correlation\" data-toc-modified-id=\"3.5-Measurements-of-Correlation-3.5\">3.5 Measurements of Correlation</a></span></li></ul></li><li><span><a href=\"#4.-Grouping-&amp;-Aggregrating-Data\" data-toc-modified-id=\"4.-Grouping-&amp;-Aggregrating-Data-4\">4. Grouping &amp; Aggregrating Data</a></span><ul class=\"toc-item\"><li><span><a href=\"#4.1-Time-Series\" data-toc-modified-id=\"4.1-Time-Series-4.1\">4.1 Time Series</a></span></li><li><span><a href=\"#4.2-Aggregrate-Data-with-groupby\" data-toc-modified-id=\"4.2-Aggregrate-Data-with-groupby-4.2\">4.2 Aggregrate Data with groupby</a></span></li><li><span><a href=\"#4.3-Cross-Tabulation\" data-toc-modified-id=\"4.3-Cross-Tabulation-4.3\">4.3 Cross-Tabulation</a></span><ul class=\"toc-item\"><li><span><a href=\"#4.3.1-Use-crosstab\" data-toc-modified-id=\"4.3.1-Use-crosstab-4.3.1\">4.3.1 Use crosstab</a></span></li><li><span><a href=\"#4.3.2-Use-pivot_table\" data-toc-modified-id=\"4.3.2-Use-pivot_table-4.3.2\">4.3.2 Use pivot_table</a></span></li></ul></li></ul></li></ul></div>"
   ]
  },
  {
   "cell_type": "code",
   "execution_count": 1,
   "metadata": {
    "colab": {
     "base_uri": "https://localhost:8080/"
    },
    "executionInfo": {
     "elapsed": 19929,
     "status": "ok",
     "timestamp": 1695075422375,
     "user": {
      "displayName": "Ruwen Qin",
      "userId": "01885423067234457717"
     },
     "user_tz": 240
    },
    "id": "IwI_PxadRcW9",
    "outputId": "a5bb2462-c720-4085-ab77-85f080c5a3ab"
   },
   "outputs": [],
   "source": [
    "# If you use Colab Notebook, you can uncomment the following to mount your Google Drive to Colab\n",
    "# After that, your colab notebook can read/write files and data in your Google Drive\n",
    "\n",
    "#from google.colab import drive\n",
    "#drive.mount('/content/drive')"
   ]
  },
  {
   "cell_type": "code",
   "execution_count": 2,
   "metadata": {
    "colab": {
     "base_uri": "https://localhost:8080/"
    },
    "executionInfo": {
     "elapsed": 10,
     "status": "ok",
     "timestamp": 1695075422376,
     "user": {
      "displayName": "Ruwen Qin",
      "userId": "01885423067234457717"
     },
     "user_tz": 240
    },
    "id": "PsIesNpkQnjr",
    "outputId": "6fe628b2-1231-4dc3-c4ae-9e8ec6d058f5"
   },
   "outputs": [],
   "source": [
    "# If you use Colab Notebook, please change the current directory to be the folder that you save \n",
    "# your Notebook and data folder for example, I save my Colab files and data in the following location\n",
    "\n",
    "#%cd /content/drive/MyDrive/Colab\\ Notebooks"
   ]
  },
  {
   "cell_type": "code",
   "execution_count": null,
   "metadata": {},
   "outputs": [],
   "source": [
    "# Install numpy pandas and matplolib by uncomment the script if they are not in your computer\n",
    "#If you use Colab, they are already installed there\n",
    "\n",
    "#!pip3 install numpy pandas matplotlib"
   ]
  },
  {
   "cell_type": "code",
   "execution_count": 4,
   "metadata": {},
   "outputs": [],
   "source": [
    "# import required libraries and modules, and define default setting for the notebook\n",
    "\n",
    "import numpy as np # a foundamental package for scientific computing https://numpy.org/\n",
    "np.random.seed(12345)\n",
    "np.set_printoptions(precision=4, suppress=True)\n",
    "\n",
    "import pandas as pd # a library of data analysis, https://pandas.pydata.org/\n",
    "from pandas import Series, DataFrame # import modules into the local namespace if they are frequently used\n",
    "PREVIOUS_MAX_ROWS = pd.options.display.max_rows\n",
    "pd.options.display.max_rows = 30\n",
    "pd.options.display.max_columns = 20\n",
    "pd.options.display.max_colwidth = 80\n",
    "\n",
    "import matplotlib.pyplot as plt # a module for plotting, https://matplotlib.org/\n",
    "plt.rc(\"figure\", figsize=(10, 6))\n",
    "\n",
    "# to display multiple outputs in one cell\n",
    "from IPython.core.interactiveshell import InteractiveShell\n",
    "InteractiveShell.ast_node_interactivity = \"all\""
   ]
  },
  {
   "cell_type": "markdown",
   "metadata": {
    "id": "IDd0QFuzot-f"
   },
   "source": [
    "# 1. Get to Know the Dataset\n",
    "\n",
    "In this section, we would like to develop an initial understanding of the dataset \"NY_bicycle.csv\", originally from NYC Open Data:\n",
    "https://data.cityofnewyork.us/Transportation/Bicycle-Counts-for-East-River-Bridges-Historical-/gua4-p9wg/about_data\n",
    "\n",
    "This dataset was used to measure the utilization of bicycles for the transportation planning purpose. This dataset is daily counts of bicycles crossing into or out of Manhattan via one of the East River bridges excluding Bronx thruways and the non-bikeable Hudson River tunnels for 7 months.\n",
    "\n"
   ]
  },
  {
   "cell_type": "markdown",
   "metadata": {},
   "source": [
    "## 1.1 DataFrame\n",
    "\n",
    "Suggested expertises:\n",
    "\n",
    "1. Read the data file NY_Bicycle.csv as a DataFrame [Hint: use pd.read_csv)\n",
    "2. Take a look at the first few rows of data [Hint: use .head( )]\n",
    "3. Do you see any column that is not meaningful? [Hint: column 0]. If you feel that column is not useful, you may delete it. [Hint: use del]\n",
    "4. What columns are there in the dataset? What are their datatype? [Hint: use .info() or .columns()]\n",
    "5. What is the name of column 4? [Hint: columns are an object. use columns[int] to check specific column name]\n",
    "6. What is the datatypes of the DataFrame NY_Bicycle? [Hint: use .dtypes]\n",
    "7. What is the datatype of the column \"Weather\"? \n",
    "8. What is the index object of this DataFrame? [Hint: use .index] \n",
    "9. What are values in column 3 [Hint: .values[]]\n",
    "10. What are values in row 2 [Hint: .values[]]\n",
    "11. What is the value in row 2 of column 3 [Hint: .values[]]\n",
    "12. Extract \"Weather\", a column of the DataFrame, as a series \n",
    "13. How to use .iloc[] method to access one datapoint or a slice of the DataFrame? Try to following: access column 3, row 2, row 2 in column 3, a segment consists of rows 2&3 in columns 3&4 "
   ]
  },
  {
   "cell_type": "code",
   "execution_count": 5,
   "metadata": {
    "colab": {
     "base_uri": "https://localhost:8080/"
    },
    "executionInfo": {
     "elapsed": 460,
     "status": "ok",
     "timestamp": 1695075426973,
     "user": {
      "displayName": "Ruwen Qin",
      "userId": "01885423067234457717"
     },
     "user_tz": 240
    },
    "id": "lv6jyI7pYdyH",
    "outputId": "7b8cb71f-f9a9-4904-83d2-e90c00083e47"
   },
   "outputs": [
    {
     "data": {
      "text/html": [
       "<div>\n",
       "<style scoped>\n",
       "    .dataframe tbody tr th:only-of-type {\n",
       "        vertical-align: middle;\n",
       "    }\n",
       "\n",
       "    .dataframe tbody tr th {\n",
       "        vertical-align: top;\n",
       "    }\n",
       "\n",
       "    .dataframe thead th {\n",
       "        text-align: right;\n",
       "    }\n",
       "</style>\n",
       "<table border=\"1\" class=\"dataframe\">\n",
       "  <thead>\n",
       "    <tr style=\"text-align: right;\">\n",
       "      <th></th>\n",
       "      <th>Unnamed: 0</th>\n",
       "      <th>Date</th>\n",
       "      <th>Day</th>\n",
       "      <th>High_Temp_F</th>\n",
       "      <th>Low_Temp_F</th>\n",
       "      <th>Precipitation</th>\n",
       "      <th>Weather</th>\n",
       "      <th>Brooklyn_Bridge</th>\n",
       "      <th>Manhattan_Bridge</th>\n",
       "      <th>Williamsburg_Bridge</th>\n",
       "      <th>Queensboro_Bridge</th>\n",
       "      <th>Total</th>\n",
       "    </tr>\n",
       "  </thead>\n",
       "  <tbody>\n",
       "    <tr>\n",
       "      <th>0</th>\n",
       "      <td>1</td>\n",
       "      <td>1-Apr</td>\n",
       "      <td>Saturday</td>\n",
       "      <td>46.0</td>\n",
       "      <td>37.0</td>\n",
       "      <td>0.00</td>\n",
       "      <td>N</td>\n",
       "      <td>606</td>\n",
       "      <td>1446</td>\n",
       "      <td>1915</td>\n",
       "      <td>1430</td>\n",
       "      <td>5397</td>\n",
       "    </tr>\n",
       "    <tr>\n",
       "      <th>1</th>\n",
       "      <td>2</td>\n",
       "      <td>2-Apr</td>\n",
       "      <td>Sunday</td>\n",
       "      <td>62.1</td>\n",
       "      <td>41.0</td>\n",
       "      <td>0.00</td>\n",
       "      <td>N</td>\n",
       "      <td>2021</td>\n",
       "      <td>3943</td>\n",
       "      <td>4207</td>\n",
       "      <td>2862</td>\n",
       "      <td>13033</td>\n",
       "    </tr>\n",
       "    <tr>\n",
       "      <th>2</th>\n",
       "      <td>3</td>\n",
       "      <td>3-Apr</td>\n",
       "      <td>Monday</td>\n",
       "      <td>63.0</td>\n",
       "      <td>50.0</td>\n",
       "      <td>0.03</td>\n",
       "      <td>R</td>\n",
       "      <td>2470</td>\n",
       "      <td>4988</td>\n",
       "      <td>5178</td>\n",
       "      <td>3689</td>\n",
       "      <td>16325</td>\n",
       "    </tr>\n",
       "    <tr>\n",
       "      <th>3</th>\n",
       "      <td>4</td>\n",
       "      <td>4-Apr</td>\n",
       "      <td>Tuesday</td>\n",
       "      <td>51.1</td>\n",
       "      <td>46.0</td>\n",
       "      <td>1.18</td>\n",
       "      <td>R</td>\n",
       "      <td>723</td>\n",
       "      <td>1913</td>\n",
       "      <td>2279</td>\n",
       "      <td>1666</td>\n",
       "      <td>6581</td>\n",
       "    </tr>\n",
       "    <tr>\n",
       "      <th>4</th>\n",
       "      <td>5</td>\n",
       "      <td>5-Apr</td>\n",
       "      <td>Wednesday</td>\n",
       "      <td>63.0</td>\n",
       "      <td>46.0</td>\n",
       "      <td>0.00</td>\n",
       "      <td>N</td>\n",
       "      <td>2807</td>\n",
       "      <td>5276</td>\n",
       "      <td>5711</td>\n",
       "      <td>4197</td>\n",
       "      <td>17991</td>\n",
       "    </tr>\n",
       "  </tbody>\n",
       "</table>\n",
       "</div>"
      ],
      "text/plain": [
       "   Unnamed: 0   Date        Day  High_Temp_F  Low_Temp_F  Precipitation  \\\n",
       "0           1  1-Apr   Saturday         46.0        37.0           0.00   \n",
       "1           2  2-Apr     Sunday         62.1        41.0           0.00   \n",
       "2           3  3-Apr     Monday         63.0        50.0           0.03   \n",
       "3           4  4-Apr    Tuesday         51.1        46.0           1.18   \n",
       "4           5  5-Apr  Wednesday         63.0        46.0           0.00   \n",
       "\n",
       "  Weather  Brooklyn_Bridge  Manhattan_Bridge  Williamsburg_Bridge  \\\n",
       "0       N              606              1446                 1915   \n",
       "1       N             2021              3943                 4207   \n",
       "2       R             2470              4988                 5178   \n",
       "3       R              723              1913                 2279   \n",
       "4       N             2807              5276                 5711   \n",
       "\n",
       "   Queensboro_Bridge  Total  \n",
       "0               1430   5397  \n",
       "1               2862  13033  \n",
       "2               3689  16325  \n",
       "3               1666   6581  \n",
       "4               4197  17991  "
      ]
     },
     "execution_count": 5,
     "metadata": {},
     "output_type": "execute_result"
    }
   ],
   "source": [
    "# read the data file\n",
    "\n",
    "NY_bicycle=pd.read_csv(\"Data/NY_Bicycle.csv\") # read the data file in csv format using pd.read_csv()\n",
    "NY_bicycle.head()"
   ]
  },
  {
   "cell_type": "code",
   "execution_count": 6,
   "metadata": {},
   "outputs": [
    {
     "data": {
      "text/html": [
       "<div>\n",
       "<style scoped>\n",
       "    .dataframe tbody tr th:only-of-type {\n",
       "        vertical-align: middle;\n",
       "    }\n",
       "\n",
       "    .dataframe tbody tr th {\n",
       "        vertical-align: top;\n",
       "    }\n",
       "\n",
       "    .dataframe thead th {\n",
       "        text-align: right;\n",
       "    }\n",
       "</style>\n",
       "<table border=\"1\" class=\"dataframe\">\n",
       "  <thead>\n",
       "    <tr style=\"text-align: right;\">\n",
       "      <th></th>\n",
       "      <th>Date</th>\n",
       "      <th>Day</th>\n",
       "      <th>High_Temp_F</th>\n",
       "      <th>Low_Temp_F</th>\n",
       "      <th>Precipitation</th>\n",
       "      <th>Weather</th>\n",
       "      <th>Brooklyn_Bridge</th>\n",
       "      <th>Manhattan_Bridge</th>\n",
       "      <th>Williamsburg_Bridge</th>\n",
       "      <th>Queensboro_Bridge</th>\n",
       "      <th>Total</th>\n",
       "    </tr>\n",
       "  </thead>\n",
       "  <tbody>\n",
       "    <tr>\n",
       "      <th>0</th>\n",
       "      <td>1-Apr</td>\n",
       "      <td>Saturday</td>\n",
       "      <td>46.0</td>\n",
       "      <td>37.0</td>\n",
       "      <td>0.00</td>\n",
       "      <td>N</td>\n",
       "      <td>606</td>\n",
       "      <td>1446</td>\n",
       "      <td>1915</td>\n",
       "      <td>1430</td>\n",
       "      <td>5397</td>\n",
       "    </tr>\n",
       "    <tr>\n",
       "      <th>1</th>\n",
       "      <td>2-Apr</td>\n",
       "      <td>Sunday</td>\n",
       "      <td>62.1</td>\n",
       "      <td>41.0</td>\n",
       "      <td>0.00</td>\n",
       "      <td>N</td>\n",
       "      <td>2021</td>\n",
       "      <td>3943</td>\n",
       "      <td>4207</td>\n",
       "      <td>2862</td>\n",
       "      <td>13033</td>\n",
       "    </tr>\n",
       "    <tr>\n",
       "      <th>2</th>\n",
       "      <td>3-Apr</td>\n",
       "      <td>Monday</td>\n",
       "      <td>63.0</td>\n",
       "      <td>50.0</td>\n",
       "      <td>0.03</td>\n",
       "      <td>R</td>\n",
       "      <td>2470</td>\n",
       "      <td>4988</td>\n",
       "      <td>5178</td>\n",
       "      <td>3689</td>\n",
       "      <td>16325</td>\n",
       "    </tr>\n",
       "    <tr>\n",
       "      <th>3</th>\n",
       "      <td>4-Apr</td>\n",
       "      <td>Tuesday</td>\n",
       "      <td>51.1</td>\n",
       "      <td>46.0</td>\n",
       "      <td>1.18</td>\n",
       "      <td>R</td>\n",
       "      <td>723</td>\n",
       "      <td>1913</td>\n",
       "      <td>2279</td>\n",
       "      <td>1666</td>\n",
       "      <td>6581</td>\n",
       "    </tr>\n",
       "    <tr>\n",
       "      <th>4</th>\n",
       "      <td>5-Apr</td>\n",
       "      <td>Wednesday</td>\n",
       "      <td>63.0</td>\n",
       "      <td>46.0</td>\n",
       "      <td>0.00</td>\n",
       "      <td>N</td>\n",
       "      <td>2807</td>\n",
       "      <td>5276</td>\n",
       "      <td>5711</td>\n",
       "      <td>4197</td>\n",
       "      <td>17991</td>\n",
       "    </tr>\n",
       "  </tbody>\n",
       "</table>\n",
       "</div>"
      ],
      "text/plain": [
       "    Date        Day  High_Temp_F  Low_Temp_F  Precipitation Weather  \\\n",
       "0  1-Apr   Saturday         46.0        37.0           0.00       N   \n",
       "1  2-Apr     Sunday         62.1        41.0           0.00       N   \n",
       "2  3-Apr     Monday         63.0        50.0           0.03       R   \n",
       "3  4-Apr    Tuesday         51.1        46.0           1.18       R   \n",
       "4  5-Apr  Wednesday         63.0        46.0           0.00       N   \n",
       "\n",
       "   Brooklyn_Bridge  Manhattan_Bridge  Williamsburg_Bridge  Queensboro_Bridge  \\\n",
       "0              606              1446                 1915               1430   \n",
       "1             2021              3943                 4207               2862   \n",
       "2             2470              4988                 5178               3689   \n",
       "3              723              1913                 2279               1666   \n",
       "4             2807              5276                 5711               4197   \n",
       "\n",
       "   Total  \n",
       "0   5397  \n",
       "1  13033  \n",
       "2  16325  \n",
       "3   6581  \n",
       "4  17991  "
      ]
     },
     "execution_count": 6,
     "metadata": {},
     "output_type": "execute_result"
    }
   ],
   "source": [
    "# delete the old index column from the csv file\n",
    "\n",
    "del NY_bicycle[\"Unnamed: 0\"] # delete the column \"Unnamed: 0\" because it duplicates the index of dataframe\n",
    "NY_bicycle.head() # take a look at the data again after deleting the unnamed column"
   ]
  },
  {
   "cell_type": "code",
   "execution_count": 7,
   "metadata": {
    "colab": {
     "base_uri": "https://localhost:8080/"
    },
    "executionInfo": {
     "elapsed": 10,
     "status": "ok",
     "timestamp": 1695075426974,
     "user": {
      "displayName": "Ruwen Qin",
      "userId": "01885423067234457717"
     },
     "user_tz": 240
    },
    "id": "tW1o3Ggil9Ts",
    "outputId": "ec1b4f77-0a90-4197-d821-f5a109a4ea63"
   },
   "outputs": [
    {
     "name": "stdout",
     "output_type": "stream",
     "text": [
      "<class 'pandas.core.frame.DataFrame'>\n",
      "RangeIndex: 214 entries, 0 to 213\n",
      "Data columns (total 11 columns):\n",
      " #   Column               Non-Null Count  Dtype  \n",
      "---  ------               --------------  -----  \n",
      " 0   Date                 214 non-null    object \n",
      " 1   Day                  214 non-null    object \n",
      " 2   High_Temp_F          214 non-null    float64\n",
      " 3   Low_Temp_F           214 non-null    float64\n",
      " 4   Precipitation        200 non-null    float64\n",
      " 5   Weather              214 non-null    object \n",
      " 6   Brooklyn_Bridge      214 non-null    int64  \n",
      " 7   Manhattan_Bridge     214 non-null    int64  \n",
      " 8   Williamsburg_Bridge  214 non-null    int64  \n",
      " 9   Queensboro_Bridge    214 non-null    int64  \n",
      " 10  Total                214 non-null    int64  \n",
      "dtypes: float64(3), int64(5), object(3)\n",
      "memory usage: 18.5+ KB\n"
     ]
    }
   ],
   "source": [
    "#info() summarizes columns and their data types\n",
    "\n",
    "NY_bicycle.info() "
   ]
  },
  {
   "cell_type": "code",
   "execution_count": 8,
   "metadata": {
    "colab": {
     "base_uri": "https://localhost:8080/"
    },
    "executionInfo": {
     "elapsed": 248,
     "status": "ok",
     "timestamp": 1695075427216,
     "user": {
      "displayName": "Ruwen Qin",
      "userId": "01885423067234457717"
     },
     "user_tz": 240
    },
    "id": "cKBdvZ_vmHtz",
    "outputId": "41e6c580-8120-41b0-c9e6-2b6c364be34b"
   },
   "outputs": [
    {
     "data": {
      "text/plain": [
       "Index(['Date', 'Day', 'High_Temp_F', 'Low_Temp_F', 'Precipitation', 'Weather',\n",
       "       'Brooklyn_Bridge', 'Manhattan_Bridge', 'Williamsburg_Bridge',\n",
       "       'Queensboro_Bridge', 'Total'],\n",
       "      dtype='object')"
      ]
     },
     "execution_count": 8,
     "metadata": {},
     "output_type": "execute_result"
    }
   ],
   "source": [
    "# dataframe.columns shows column lables\n",
    "\n",
    "NY_bicycle.columns "
   ]
  },
  {
   "cell_type": "code",
   "execution_count": 9,
   "metadata": {
    "colab": {
     "base_uri": "https://localhost:8080/",
     "height": 35
    },
    "executionInfo": {
     "elapsed": 31,
     "status": "ok",
     "timestamp": 1695075427216,
     "user": {
      "displayName": "Ruwen Qin",
      "userId": "01885423067234457717"
     },
     "user_tz": 240
    },
    "id": "WEThQYngocPT",
    "outputId": "f9c6f0ee-aacf-4c4b-aa41-e5db3bc35a21"
   },
   "outputs": [
    {
     "data": {
      "text/plain": [
       "'Precipitation'"
      ]
     },
     "execution_count": 9,
     "metadata": {},
     "output_type": "execute_result"
    }
   ],
   "source": [
    "# to check the column label by colum index. Keep in mind that the first column index value is zero, not one\n",
    "\n",
    "NY_bicycle.columns[4] "
   ]
  },
  {
   "cell_type": "code",
   "execution_count": 10,
   "metadata": {},
   "outputs": [
    {
     "data": {
      "text/plain": [
       "Date                    object\n",
       "Day                     object\n",
       "High_Temp_F            float64\n",
       "Low_Temp_F             float64\n",
       "Precipitation          float64\n",
       "Weather                 object\n",
       "Brooklyn_Bridge          int64\n",
       "Manhattan_Bridge         int64\n",
       "Williamsburg_Bridge      int64\n",
       "Queensboro_Bridge        int64\n",
       "Total                    int64\n",
       "dtype: object"
      ]
     },
     "execution_count": 10,
     "metadata": {},
     "output_type": "execute_result"
    }
   ],
   "source": [
    "# check the datatypes of the dataframe\n",
    "\n",
    "NY_bicycle.dtypes"
   ]
  },
  {
   "cell_type": "code",
   "execution_count": 11,
   "metadata": {
    "colab": {
     "base_uri": "https://localhost:8080/"
    },
    "executionInfo": {
     "elapsed": 29,
     "status": "ok",
     "timestamp": 1695075427217,
     "user": {
      "displayName": "Ruwen Qin",
      "userId": "01885423067234457717"
     },
     "user_tz": 240
    },
    "id": "1U_Vx7AGmf2t",
    "outputId": "81e09834-bbb7-4947-8259-ec23829603bc"
   },
   "outputs": [
    {
     "data": {
      "text/plain": [
       "dtype('O')"
      ]
     },
     "execution_count": 11,
     "metadata": {},
     "output_type": "execute_result"
    }
   ],
   "source": [
    "#if we would like to check the datatype of a column or all, using dataframe.dtypes\n",
    "\n",
    "NY_bicycle.dtypes['Weather'] "
   ]
  },
  {
   "cell_type": "code",
   "execution_count": 12,
   "metadata": {
    "colab": {
     "base_uri": "https://localhost:8080/"
    },
    "executionInfo": {
     "elapsed": 24,
     "status": "ok",
     "timestamp": 1695075427218,
     "user": {
      "displayName": "Ruwen Qin",
      "userId": "01885423067234457717"
     },
     "user_tz": 240
    },
    "id": "ywDvA51Um2CT",
    "outputId": "b0d6aed6-02ab-4e94-fb7d-4c2a1d662425"
   },
   "outputs": [
    {
     "data": {
      "text/plain": [
       "RangeIndex(start=0, stop=214, step=1)"
      ]
     },
     "execution_count": 12,
     "metadata": {},
     "output_type": "execute_result"
    }
   ],
   "source": [
    "# to find how the data are indexed, using DataFrame.index\n",
    "\n",
    "NY_bicycle.index "
   ]
  },
  {
   "cell_type": "code",
   "execution_count": 13,
   "metadata": {},
   "outputs": [
    {
     "name": "stdout",
     "output_type": "stream",
     "text": [
      "Values in column 3:\n"
     ]
    },
    {
     "data": {
      "text/plain": [
       "array([37.0, 41.0, 50.0, 46.0, 46.0, 41.0, 43.0, 39.9, 45.0, 55.0, 62.1,\n",
       "       57.9, 48.9, 48.9, 52.0, 62.1, 64.0, 50.0, 45.0, 50.0, 48.0, 52.0,\n",
       "       46.9, 50.0, 50.0, 54.0, 59.0, 57.9, 64.0, 54.0, 50.0, 66.9, 57.9,\n",
       "       50.0, 52.0, 57.0, 48.9, 45.0, 48.0, 51.1, 51.8, 51.1, 45.0, 46.0,\n",
       "       55.9, 57.9, 66.0, 75.0, 75.9, 55.9, 55.0, 54.0, 57.9, 57.0, 55.9,\n",
       "       55.9, 61.0, 59.0, 55.9, 55.9, 57.9, 62.1, 60.1, 55.0, 60.1, 60.1,\n",
       "       53.1, 54.0, 59.0, 59.0, 68.0, 73.0, 77.0, 78.1, 69.1, 66.0, 66.0,\n",
       "       66.9, 72.0, 70.0, 72.0, 72.0, 70.0, 75.9, 71.1, 69.1, 66.0, 61.0,\n",
       "       62.1, 68.0, 73.9, 72.0, 73.0, 71.1, 70.0, 71.1, 71.1, 68.0, 70.0,\n",
       "       69.1, 71.1, 75.0, 77.0, 77.0, 64.9, 68.0, 70.0, 73.9, 75.9, 77.0,\n",
       "       78.1, 77.0, 78.1, 73.0, 63.0, 64.0, 66.0, 66.9, 73.0, 68.0, 64.9,\n",
       "       66.9, 72.0, 69.1, 70.0, 70.0, 70.0, 64.0, 64.9, 66.0, 66.0, 69.1,\n",
       "       70.0, 64.9, 71.1, 70.0, 69.1, 70.0, 71.1, 73.0, 73.0, 70.0, 73.0,\n",
       "       75.0, 71.1, 66.0, 64.0, 62.1, 63.0, 63.0, 62.1, 61.0, 64.0, 55.0,\n",
       "       54.0, 60.1, 62.1, 70.0, 62.1, 59.0, 59.0, 55.0, 57.0, 55.0, 61.0,\n",
       "       64.9, 70.0, 66.9, 70.0, 70.0, 69.1, 69.1, 71.1, 71.1, 66.0, 68.0,\n",
       "       69.1, 72.0, 69.1, 71.1, 66.0, 55.0, 55.9, 50.0, 52.0, 57.0, 55.9,\n",
       "       64.9, 69.1, 66.0, 72.0, 72.0, 66.0, 64.9, 55.9, 52.0, 62.1, 66.0,\n",
       "       52.0, 43.0, 50.0, 55.9, 57.9, 57.0, 57.0, 64.0, 66.9, 57.9, 53.1,\n",
       "       48.0, 55.9, 61.0, 46.0, 44.0], dtype=object)"
      ]
     },
     "execution_count": 13,
     "metadata": {},
     "output_type": "execute_result"
    },
    {
     "name": "stdout",
     "output_type": "stream",
     "text": [
      "Values in  row 2:\n"
     ]
    },
    {
     "data": {
      "text/plain": [
       "array(['3-Apr', 'Monday', 63.0, 50.0, 0.03, 'R', 2470, 4988, 5178, 3689,\n",
       "       16325], dtype=object)"
      ]
     },
     "execution_count": 13,
     "metadata": {},
     "output_type": "execute_result"
    }
   ],
   "source": [
    "# to check an observation of the DataFrame, using dataframe.values[index of the observation]\n",
    "\n",
    "print(f'Values in column {3}:')\n",
    "NY_bicycle.values[:,3] # values in column 3\n",
    "\n",
    "print(f'Values in  row {2}:')\n",
    "NY_bicycle.values[2] # values in row 2"
   ]
  },
  {
   "cell_type": "code",
   "execution_count": 14,
   "metadata": {
    "colab": {
     "base_uri": "https://localhost:8080/"
    },
    "executionInfo": {
     "elapsed": 20,
     "status": "ok",
     "timestamp": 1695075427219,
     "user": {
      "displayName": "Ruwen Qin",
      "userId": "01885423067234457717"
     },
     "user_tz": 240
    },
    "id": "Xk_wgxDmnvXo",
    "outputId": "544b25d2-2ea5-41aa-d70e-ba378ed446b0"
   },
   "outputs": [
    {
     "data": {
      "text/plain": [
       "50.0"
      ]
     },
     "execution_count": 14,
     "metadata": {},
     "output_type": "execute_result"
    }
   ],
   "source": [
    "# to check the value of a column in an observation, using DataFrame.values[index of the observation][index of column]\n",
    "\n",
    "NY_bicycle.values[2][3] "
   ]
  },
  {
   "cell_type": "code",
   "execution_count": 15,
   "metadata": {
    "colab": {
     "base_uri": "https://localhost:8080/"
    },
    "executionInfo": {
     "elapsed": 18,
     "status": "ok",
     "timestamp": 1695075427219,
     "user": {
      "displayName": "Ruwen Qin",
      "userId": "01885423067234457717"
     },
     "user_tz": 240
    },
    "id": "U-J2at_fnzQw",
    "outputId": "d8cb8d0a-a509-4dad-85eb-7b31173ac9f5"
   },
   "outputs": [
    {
     "data": {
      "text/plain": [
       "0      N\n",
       "1      N\n",
       "2      R\n",
       "3      R\n",
       "4      N\n",
       "      ..\n",
       "209    N\n",
       "210    N\n",
       "211    R\n",
       "212    R\n",
       "213    N\n",
       "Name: Weather, Length: 214, dtype: object"
      ]
     },
     "execution_count": 15,
     "metadata": {},
     "output_type": "execute_result"
    }
   ],
   "source": [
    "# display the data of a column using dataframe.column label\n",
    "\n",
    "NY_bicycle.Weather "
   ]
  },
  {
   "cell_type": "code",
   "execution_count": 16,
   "metadata": {
    "colab": {
     "base_uri": "https://localhost:8080/"
    },
    "executionInfo": {
     "elapsed": 17,
     "status": "ok",
     "timestamp": 1695075427220,
     "user": {
      "displayName": "Ruwen Qin",
      "userId": "01885423067234457717"
     },
     "user_tz": 240
    },
    "id": "lECbl0ZuqCZs",
    "outputId": "42f6db01-5065-452a-ff82-3b5f7e00b360"
   },
   "outputs": [
    {
     "data": {
      "text/plain": [
       "0      37.0\n",
       "1      41.0\n",
       "2      50.0\n",
       "3      46.0\n",
       "4      46.0\n",
       "       ... \n",
       "209    48.0\n",
       "210    55.9\n",
       "211    61.0\n",
       "212    46.0\n",
       "213    44.0\n",
       "Name: Low_Temp_F, Length: 214, dtype: float64"
      ]
     },
     "execution_count": 16,
     "metadata": {},
     "output_type": "execute_result"
    }
   ],
   "source": [
    "# using DataFrame.iloc[:,column index] to display a column of data by indices\n",
    "\n",
    "NY_bicycle.iloc[:,3] "
   ]
  },
  {
   "cell_type": "code",
   "execution_count": 17,
   "metadata": {
    "colab": {
     "base_uri": "https://localhost:8080/"
    },
    "executionInfo": {
     "elapsed": 15,
     "status": "ok",
     "timestamp": 1695075427220,
     "user": {
      "displayName": "Ruwen Qin",
      "userId": "01885423067234457717"
     },
     "user_tz": 240
    },
    "id": "QzDNuIxJqVRg",
    "outputId": "341c4b96-e584-4ad9-87ba-3a79d047da24"
   },
   "outputs": [
    {
     "data": {
      "text/plain": [
       "Date                    3-Apr\n",
       "Day                    Monday\n",
       "High_Temp_F              63.0\n",
       "Low_Temp_F               50.0\n",
       "Precipitation            0.03\n",
       "Weather                     R\n",
       "Brooklyn_Bridge          2470\n",
       "Manhattan_Bridge         4988\n",
       "Williamsburg_Bridge      5178\n",
       "Queensboro_Bridge        3689\n",
       "Total                   16325\n",
       "Name: 2, dtype: object"
      ]
     },
     "execution_count": 17,
     "metadata": {},
     "output_type": "execute_result"
    }
   ],
   "source": [
    "# DataFrame.iloc[observation index,:] to display an observation by the observation index\n",
    "\n",
    "NY_bicycle.iloc[2,:] "
   ]
  },
  {
   "cell_type": "code",
   "execution_count": 18,
   "metadata": {},
   "outputs": [
    {
     "data": {
      "text/plain": [
       "Date                    3-Apr\n",
       "Day                    Monday\n",
       "High_Temp_F              63.0\n",
       "Low_Temp_F               50.0\n",
       "Precipitation            0.03\n",
       "Weather                     R\n",
       "Brooklyn_Bridge          2470\n",
       "Manhattan_Bridge         4988\n",
       "Williamsburg_Bridge      5178\n",
       "Queensboro_Bridge        3689\n",
       "Total                   16325\n",
       "Name: 2, dtype: object"
      ]
     },
     "execution_count": 18,
     "metadata": {},
     "output_type": "execute_result"
    }
   ],
   "source": [
    "NY_bicycle.loc[2,:]"
   ]
  },
  {
   "cell_type": "code",
   "execution_count": 19,
   "metadata": {},
   "outputs": [
    {
     "data": {
      "text/html": [
       "<div>\n",
       "<style scoped>\n",
       "    .dataframe tbody tr th:only-of-type {\n",
       "        vertical-align: middle;\n",
       "    }\n",
       "\n",
       "    .dataframe tbody tr th {\n",
       "        vertical-align: top;\n",
       "    }\n",
       "\n",
       "    .dataframe thead th {\n",
       "        text-align: right;\n",
       "    }\n",
       "</style>\n",
       "<table border=\"1\" class=\"dataframe\">\n",
       "  <thead>\n",
       "    <tr style=\"text-align: right;\">\n",
       "      <th></th>\n",
       "      <th>Low_Temp_F</th>\n",
       "      <th>Precipitation</th>\n",
       "    </tr>\n",
       "  </thead>\n",
       "  <tbody>\n",
       "    <tr>\n",
       "      <th>2</th>\n",
       "      <td>50.0</td>\n",
       "      <td>0.03</td>\n",
       "    </tr>\n",
       "    <tr>\n",
       "      <th>3</th>\n",
       "      <td>46.0</td>\n",
       "      <td>1.18</td>\n",
       "    </tr>\n",
       "  </tbody>\n",
       "</table>\n",
       "</div>"
      ],
      "text/plain": [
       "   Low_Temp_F  Precipitation\n",
       "2        50.0           0.03\n",
       "3        46.0           1.18"
      ]
     },
     "execution_count": 19,
     "metadata": {},
     "output_type": "execute_result"
    }
   ],
   "source": [
    "# DataFrame.iloc for accessing a segment of data\n",
    "\n",
    "NY_bicycle.iloc[2:4,3:5]"
   ]
  },
  {
   "cell_type": "code",
   "execution_count": 20,
   "metadata": {
    "colab": {
     "base_uri": "https://localhost:8080/"
    },
    "executionInfo": {
     "elapsed": 12,
     "status": "ok",
     "timestamp": 1695075427220,
     "user": {
      "displayName": "Ruwen Qin",
      "userId": "01885423067234457717"
     },
     "user_tz": 240
    },
    "id": "J_5hY6sJXiD1",
    "outputId": "28ac92c7-bdba-41a3-c32e-0a954b2fd772"
   },
   "outputs": [
    {
     "data": {
      "text/plain": [
       "50.0"
      ]
     },
     "execution_count": 20,
     "metadata": {},
     "output_type": "execute_result"
    }
   ],
   "source": [
    "# DataFrame.iloc[observation index,column index] retrieves the value at the coordinates\n",
    "\n",
    "NY_bicycle.iloc[2,3] "
   ]
  },
  {
   "cell_type": "markdown",
   "metadata": {
    "id": "ySSy0PsD-ucJ"
   },
   "source": [
    "## 1.2 Data Modification\n",
    "\n",
    "Sorting and filtering are commonly used methods to modify data so that we can understand data conveniently"
   ]
  },
  {
   "cell_type": "markdown",
   "metadata": {
    "id": "sqf7h2O6YX7P"
   },
   "source": [
    "### 1.2.1 Sorting\n",
    "\n",
    "Sorting is about ordering observations in the DataFrame\n",
    "\n",
    "Suggested exercises\n",
    "1. Sort the DataFrame by column \"Total\" in a descending order (i.e., from largest value to smallest value). If there are any missing values, put them at the begining [Hint: use .sort_values]\n",
    "2. Sort the DataFrame by column \"Weather\" in reverse alphabetical order\n",
    "3. Save the sorted results in step 1 as a new DataFrame. Then sort it by index [Hint: use .sort_index()]\n",
    "4. Sort the DataFrame by values of multiple columns in the following sequence: \"High_Temp_F\", \"Low_Temp_F\", \"Total\". Save the result as a new DataFrame\n",
    "5. display only columns \"High_Temp_F\", \"Low_Temp_F\", and \"Total\" of the sorted DataFrame in step 4"
   ]
  },
  {
   "cell_type": "code",
   "execution_count": 21,
   "metadata": {
    "colab": {
     "base_uri": "https://localhost:8080/",
     "height": 617
    },
    "executionInfo": {
     "elapsed": 247,
     "status": "ok",
     "timestamp": 1695075427457,
     "user": {
      "displayName": "Ruwen Qin",
      "userId": "01885423067234457717"
     },
     "user_tz": 240
    },
    "id": "JSTs0EBlqhUa",
    "outputId": "6d8ac803-3b9d-4e6f-9d2c-e4b118b9ed70"
   },
   "outputs": [
    {
     "data": {
      "text/html": [
       "<div>\n",
       "<style scoped>\n",
       "    .dataframe tbody tr th:only-of-type {\n",
       "        vertical-align: middle;\n",
       "    }\n",
       "\n",
       "    .dataframe tbody tr th {\n",
       "        vertical-align: top;\n",
       "    }\n",
       "\n",
       "    .dataframe thead th {\n",
       "        text-align: right;\n",
       "    }\n",
       "</style>\n",
       "<table border=\"1\" class=\"dataframe\">\n",
       "  <thead>\n",
       "    <tr style=\"text-align: right;\">\n",
       "      <th></th>\n",
       "      <th>Date</th>\n",
       "      <th>Day</th>\n",
       "      <th>High_Temp_F</th>\n",
       "      <th>Low_Temp_F</th>\n",
       "      <th>Precipitation</th>\n",
       "      <th>Weather</th>\n",
       "      <th>Brooklyn_Bridge</th>\n",
       "      <th>Manhattan_Bridge</th>\n",
       "      <th>Williamsburg_Bridge</th>\n",
       "      <th>Queensboro_Bridge</th>\n",
       "      <th>Total</th>\n",
       "    </tr>\n",
       "  </thead>\n",
       "  <tbody>\n",
       "    <tr>\n",
       "      <th>116</th>\n",
       "      <td>26-Jul</td>\n",
       "      <td>Wednesday</td>\n",
       "      <td>75.9</td>\n",
       "      <td>66.0</td>\n",
       "      <td>0.00</td>\n",
       "      <td>N</td>\n",
       "      <td>3821</td>\n",
       "      <td>7987</td>\n",
       "      <td>8605</td>\n",
       "      <td>6556</td>\n",
       "      <td>26969</td>\n",
       "    </tr>\n",
       "    <tr>\n",
       "      <th>130</th>\n",
       "      <td>9-Aug</td>\n",
       "      <td>Wednesday</td>\n",
       "      <td>82.9</td>\n",
       "      <td>66.0</td>\n",
       "      <td>0.00</td>\n",
       "      <td>N</td>\n",
       "      <td>3893</td>\n",
       "      <td>7791</td>\n",
       "      <td>8589</td>\n",
       "      <td>6582</td>\n",
       "      <td>26855</td>\n",
       "    </tr>\n",
       "    <tr>\n",
       "      <th>88</th>\n",
       "      <td>28-Jun</td>\n",
       "      <td>Wednesday</td>\n",
       "      <td>78.1</td>\n",
       "      <td>62.1</td>\n",
       "      <td>0.00</td>\n",
       "      <td>N</td>\n",
       "      <td>3766</td>\n",
       "      <td>8239</td>\n",
       "      <td>8873</td>\n",
       "      <td>5834</td>\n",
       "      <td>26712</td>\n",
       "    </tr>\n",
       "    <tr>\n",
       "      <th>164</th>\n",
       "      <td>12-Sep</td>\n",
       "      <td>Tuesday</td>\n",
       "      <td>78.1</td>\n",
       "      <td>61.0</td>\n",
       "      <td>0.00</td>\n",
       "      <td>N</td>\n",
       "      <td>3497</td>\n",
       "      <td>7983</td>\n",
       "      <td>8756</td>\n",
       "      <td>6386</td>\n",
       "      <td>26622</td>\n",
       "    </tr>\n",
       "    <tr>\n",
       "      <th>75</th>\n",
       "      <td>15-Jun</td>\n",
       "      <td>Thursday</td>\n",
       "      <td>75.0</td>\n",
       "      <td>66.0</td>\n",
       "      <td>0.00</td>\n",
       "      <td>N</td>\n",
       "      <td>3510</td>\n",
       "      <td>7854</td>\n",
       "      <td>8652</td>\n",
       "      <td>6344</td>\n",
       "      <td>26360</td>\n",
       "    </tr>\n",
       "    <tr>\n",
       "      <th>...</th>\n",
       "      <td>...</td>\n",
       "      <td>...</td>\n",
       "      <td>...</td>\n",
       "      <td>...</td>\n",
       "      <td>...</td>\n",
       "      <td>...</td>\n",
       "      <td>...</td>\n",
       "      <td>...</td>\n",
       "      <td>...</td>\n",
       "      <td>...</td>\n",
       "      <td>...</td>\n",
       "    </tr>\n",
       "    <tr>\n",
       "      <th>34</th>\n",
       "      <td>5-May</td>\n",
       "      <td>Friday</td>\n",
       "      <td>59.0</td>\n",
       "      <td>52.0</td>\n",
       "      <td>3.02</td>\n",
       "      <td>R</td>\n",
       "      <td>513</td>\n",
       "      <td>1471</td>\n",
       "      <td>1951</td>\n",
       "      <td>1421</td>\n",
       "      <td>5356</td>\n",
       "    </tr>\n",
       "    <tr>\n",
       "      <th>5</th>\n",
       "      <td>6-Apr</td>\n",
       "      <td>Thursday</td>\n",
       "      <td>48.9</td>\n",
       "      <td>41.0</td>\n",
       "      <td>0.73</td>\n",
       "      <td>R</td>\n",
       "      <td>461</td>\n",
       "      <td>1324</td>\n",
       "      <td>1739</td>\n",
       "      <td>1372</td>\n",
       "      <td>4896</td>\n",
       "    </tr>\n",
       "    <tr>\n",
       "      <th>54</th>\n",
       "      <td>25-May</td>\n",
       "      <td>Thursday</td>\n",
       "      <td>57.9</td>\n",
       "      <td>55.9</td>\n",
       "      <td>0.58</td>\n",
       "      <td>R</td>\n",
       "      <td>488</td>\n",
       "      <td>1196</td>\n",
       "      <td>1789</td>\n",
       "      <td>1316</td>\n",
       "      <td>4789</td>\n",
       "    </tr>\n",
       "    <tr>\n",
       "      <th>211</th>\n",
       "      <td>29-Oct</td>\n",
       "      <td>Sunday</td>\n",
       "      <td>64.9</td>\n",
       "      <td>61.0</td>\n",
       "      <td>3.03</td>\n",
       "      <td>R</td>\n",
       "      <td>183</td>\n",
       "      <td>661</td>\n",
       "      <td>1026</td>\n",
       "      <td>965</td>\n",
       "      <td>2835</td>\n",
       "    </tr>\n",
       "    <tr>\n",
       "      <th>42</th>\n",
       "      <td>13-May</td>\n",
       "      <td>Saturday</td>\n",
       "      <td>51.1</td>\n",
       "      <td>45.0</td>\n",
       "      <td>1.31</td>\n",
       "      <td>R</td>\n",
       "      <td>151</td>\n",
       "      <td>484</td>\n",
       "      <td>874</td>\n",
       "      <td>865</td>\n",
       "      <td>2374</td>\n",
       "    </tr>\n",
       "  </tbody>\n",
       "</table>\n",
       "<p>214 rows × 11 columns</p>\n",
       "</div>"
      ],
      "text/plain": [
       "       Date        Day  High_Temp_F  Low_Temp_F  Precipitation Weather  \\\n",
       "116  26-Jul  Wednesday         75.9        66.0           0.00       N   \n",
       "130   9-Aug  Wednesday         82.9        66.0           0.00       N   \n",
       "88   28-Jun  Wednesday         78.1        62.1           0.00       N   \n",
       "164  12-Sep    Tuesday         78.1        61.0           0.00       N   \n",
       "75   15-Jun   Thursday         75.0        66.0           0.00       N   \n",
       "..      ...        ...          ...         ...            ...     ...   \n",
       "34    5-May     Friday         59.0        52.0           3.02       R   \n",
       "5     6-Apr   Thursday         48.9        41.0           0.73       R   \n",
       "54   25-May   Thursday         57.9        55.9           0.58       R   \n",
       "211  29-Oct     Sunday         64.9        61.0           3.03       R   \n",
       "42   13-May   Saturday         51.1        45.0           1.31       R   \n",
       "\n",
       "     Brooklyn_Bridge  Manhattan_Bridge  Williamsburg_Bridge  \\\n",
       "116             3821              7987                 8605   \n",
       "130             3893              7791                 8589   \n",
       "88              3766              8239                 8873   \n",
       "164             3497              7983                 8756   \n",
       "75              3510              7854                 8652   \n",
       "..               ...               ...                  ...   \n",
       "34               513              1471                 1951   \n",
       "5                461              1324                 1739   \n",
       "54               488              1196                 1789   \n",
       "211              183               661                 1026   \n",
       "42               151               484                  874   \n",
       "\n",
       "     Queensboro_Bridge  Total  \n",
       "116               6556  26969  \n",
       "130               6582  26855  \n",
       "88                5834  26712  \n",
       "164               6386  26622  \n",
       "75                6344  26360  \n",
       "..                 ...    ...  \n",
       "34                1421   5356  \n",
       "5                 1372   4896  \n",
       "54                1316   4789  \n",
       "211                965   2835  \n",
       "42                 865   2374  \n",
       "\n",
       "[214 rows x 11 columns]"
      ]
     },
     "execution_count": 21,
     "metadata": {},
     "output_type": "execute_result"
    }
   ],
   "source": [
    "# DataFrame.sort_values() sorts dataframe by values of a column\n",
    "\n",
    "NY_bicycle.sort_values(by='Total', \n",
    "                       na_position='first',\n",
    "                       ascending=False) "
   ]
  },
  {
   "cell_type": "code",
   "execution_count": 22,
   "metadata": {
    "colab": {
     "base_uri": "https://localhost:8080/",
     "height": 617
    },
    "executionInfo": {
     "elapsed": 9,
     "status": "ok",
     "timestamp": 1695075427457,
     "user": {
      "displayName": "Ruwen Qin",
      "userId": "01885423067234457717"
     },
     "user_tz": 240
    },
    "id": "MQhnf8TvpX3F",
    "outputId": "50b8f467-d8d4-4ba5-8b0d-32595b0a946e"
   },
   "outputs": [
    {
     "data": {
      "text/html": [
       "<div>\n",
       "<style scoped>\n",
       "    .dataframe tbody tr th:only-of-type {\n",
       "        vertical-align: middle;\n",
       "    }\n",
       "\n",
       "    .dataframe tbody tr th {\n",
       "        vertical-align: top;\n",
       "    }\n",
       "\n",
       "    .dataframe thead th {\n",
       "        text-align: right;\n",
       "    }\n",
       "</style>\n",
       "<table border=\"1\" class=\"dataframe\">\n",
       "  <thead>\n",
       "    <tr style=\"text-align: right;\">\n",
       "      <th></th>\n",
       "      <th>Date</th>\n",
       "      <th>Day</th>\n",
       "      <th>High_Temp_F</th>\n",
       "      <th>Low_Temp_F</th>\n",
       "      <th>Precipitation</th>\n",
       "      <th>Weather</th>\n",
       "      <th>Brooklyn_Bridge</th>\n",
       "      <th>Manhattan_Bridge</th>\n",
       "      <th>Williamsburg_Bridge</th>\n",
       "      <th>Queensboro_Bridge</th>\n",
       "      <th>Total</th>\n",
       "    </tr>\n",
       "  </thead>\n",
       "  <tbody>\n",
       "    <tr>\n",
       "      <th>0</th>\n",
       "      <td>1-Apr</td>\n",
       "      <td>Saturday</td>\n",
       "      <td>46.0</td>\n",
       "      <td>37.0</td>\n",
       "      <td>0.0</td>\n",
       "      <td>N</td>\n",
       "      <td>606</td>\n",
       "      <td>1446</td>\n",
       "      <td>1915</td>\n",
       "      <td>1430</td>\n",
       "      <td>5397</td>\n",
       "    </tr>\n",
       "    <tr>\n",
       "      <th>124</th>\n",
       "      <td>3-Aug</td>\n",
       "      <td>Thursday</td>\n",
       "      <td>86.0</td>\n",
       "      <td>70.0</td>\n",
       "      <td>0.0</td>\n",
       "      <td>N</td>\n",
       "      <td>3346</td>\n",
       "      <td>6728</td>\n",
       "      <td>7297</td>\n",
       "      <td>5835</td>\n",
       "      <td>23206</td>\n",
       "    </tr>\n",
       "    <tr>\n",
       "      <th>127</th>\n",
       "      <td>6-Aug</td>\n",
       "      <td>Sunday</td>\n",
       "      <td>75.9</td>\n",
       "      <td>64.0</td>\n",
       "      <td>0.0</td>\n",
       "      <td>N</td>\n",
       "      <td>3130</td>\n",
       "      <td>5088</td>\n",
       "      <td>5634</td>\n",
       "      <td>4207</td>\n",
       "      <td>18059</td>\n",
       "    </tr>\n",
       "    <tr>\n",
       "      <th>129</th>\n",
       "      <td>8-Aug</td>\n",
       "      <td>Tuesday</td>\n",
       "      <td>77.0</td>\n",
       "      <td>66.0</td>\n",
       "      <td>0.0</td>\n",
       "      <td>N</td>\n",
       "      <td>3598</td>\n",
       "      <td>7176</td>\n",
       "      <td>7571</td>\n",
       "      <td>5932</td>\n",
       "      <td>24277</td>\n",
       "    </tr>\n",
       "    <tr>\n",
       "      <th>130</th>\n",
       "      <td>9-Aug</td>\n",
       "      <td>Wednesday</td>\n",
       "      <td>82.9</td>\n",
       "      <td>66.0</td>\n",
       "      <td>0.0</td>\n",
       "      <td>N</td>\n",
       "      <td>3893</td>\n",
       "      <td>7791</td>\n",
       "      <td>8589</td>\n",
       "      <td>6582</td>\n",
       "      <td>26855</td>\n",
       "    </tr>\n",
       "    <tr>\n",
       "      <th>...</th>\n",
       "      <td>...</td>\n",
       "      <td>...</td>\n",
       "      <td>...</td>\n",
       "      <td>...</td>\n",
       "      <td>...</td>\n",
       "      <td>...</td>\n",
       "      <td>...</td>\n",
       "      <td>...</td>\n",
       "      <td>...</td>\n",
       "      <td>...</td>\n",
       "      <td>...</td>\n",
       "    </tr>\n",
       "    <tr>\n",
       "      <th>144</th>\n",
       "      <td>23-Aug</td>\n",
       "      <td>Wednesday</td>\n",
       "      <td>80.1</td>\n",
       "      <td>71.1</td>\n",
       "      <td>NaN</td>\n",
       "      <td>T</td>\n",
       "      <td>2994</td>\n",
       "      <td>6586</td>\n",
       "      <td>7297</td>\n",
       "      <td>6122</td>\n",
       "      <td>22999</td>\n",
       "    </tr>\n",
       "    <tr>\n",
       "      <th>15</th>\n",
       "      <td>16-Apr</td>\n",
       "      <td>Sunday</td>\n",
       "      <td>84.9</td>\n",
       "      <td>62.1</td>\n",
       "      <td>NaN</td>\n",
       "      <td>T</td>\n",
       "      <td>2877</td>\n",
       "      <td>4585</td>\n",
       "      <td>5259</td>\n",
       "      <td>3687</td>\n",
       "      <td>16408</td>\n",
       "    </tr>\n",
       "    <tr>\n",
       "      <th>16</th>\n",
       "      <td>17-Apr</td>\n",
       "      <td>Monday</td>\n",
       "      <td>73.9</td>\n",
       "      <td>64.0</td>\n",
       "      <td>NaN</td>\n",
       "      <td>T</td>\n",
       "      <td>3152</td>\n",
       "      <td>6352</td>\n",
       "      <td>6924</td>\n",
       "      <td>4658</td>\n",
       "      <td>21086</td>\n",
       "    </tr>\n",
       "    <tr>\n",
       "      <th>90</th>\n",
       "      <td>30-Jun</td>\n",
       "      <td>Friday</td>\n",
       "      <td>88.0</td>\n",
       "      <td>73.9</td>\n",
       "      <td>NaN</td>\n",
       "      <td>T</td>\n",
       "      <td>2687</td>\n",
       "      <td>5890</td>\n",
       "      <td>7013</td>\n",
       "      <td>4754</td>\n",
       "      <td>20344</td>\n",
       "    </tr>\n",
       "    <tr>\n",
       "      <th>132</th>\n",
       "      <td>11-Aug</td>\n",
       "      <td>Friday</td>\n",
       "      <td>81.0</td>\n",
       "      <td>70.0</td>\n",
       "      <td>NaN</td>\n",
       "      <td>T</td>\n",
       "      <td>3148</td>\n",
       "      <td>6295</td>\n",
       "      <td>7068</td>\n",
       "      <td>5669</td>\n",
       "      <td>22180</td>\n",
       "    </tr>\n",
       "  </tbody>\n",
       "</table>\n",
       "<p>214 rows × 11 columns</p>\n",
       "</div>"
      ],
      "text/plain": [
       "       Date        Day  High_Temp_F  Low_Temp_F  Precipitation Weather  \\\n",
       "0     1-Apr   Saturday         46.0        37.0            0.0       N   \n",
       "124   3-Aug   Thursday         86.0        70.0            0.0       N   \n",
       "127   6-Aug     Sunday         75.9        64.0            0.0       N   \n",
       "129   8-Aug    Tuesday         77.0        66.0            0.0       N   \n",
       "130   9-Aug  Wednesday         82.9        66.0            0.0       N   \n",
       "..      ...        ...          ...         ...            ...     ...   \n",
       "144  23-Aug  Wednesday         80.1        71.1            NaN       T   \n",
       "15   16-Apr     Sunday         84.9        62.1            NaN       T   \n",
       "16   17-Apr     Monday         73.9        64.0            NaN       T   \n",
       "90   30-Jun     Friday         88.0        73.9            NaN       T   \n",
       "132  11-Aug     Friday         81.0        70.0            NaN       T   \n",
       "\n",
       "     Brooklyn_Bridge  Manhattan_Bridge  Williamsburg_Bridge  \\\n",
       "0                606              1446                 1915   \n",
       "124             3346              6728                 7297   \n",
       "127             3130              5088                 5634   \n",
       "129             3598              7176                 7571   \n",
       "130             3893              7791                 8589   \n",
       "..               ...               ...                  ...   \n",
       "144             2994              6586                 7297   \n",
       "15              2877              4585                 5259   \n",
       "16              3152              6352                 6924   \n",
       "90              2687              5890                 7013   \n",
       "132             3148              6295                 7068   \n",
       "\n",
       "     Queensboro_Bridge  Total  \n",
       "0                 1430   5397  \n",
       "124               5835  23206  \n",
       "127               4207  18059  \n",
       "129               5932  24277  \n",
       "130               6582  26855  \n",
       "..                 ...    ...  \n",
       "144               6122  22999  \n",
       "15                3687  16408  \n",
       "16                4658  21086  \n",
       "90                4754  20344  \n",
       "132               5669  22180  \n",
       "\n",
       "[214 rows x 11 columns]"
      ]
     },
     "execution_count": 22,
     "metadata": {},
     "output_type": "execute_result"
    }
   ],
   "source": [
    "# ascending=False returns the sorting result in the reverse alphabetical order\n",
    "\n",
    "NY_bicycle.sort_values(by='Weather', \n",
    "                       ascending=True\n",
    "                      ) "
   ]
  },
  {
   "cell_type": "code",
   "execution_count": 23,
   "metadata": {
    "colab": {
     "base_uri": "https://localhost:8080/",
     "height": 1000
    },
    "executionInfo": {
     "elapsed": 222,
     "status": "ok",
     "timestamp": 1695075427671,
     "user": {
      "displayName": "Ruwen Qin",
      "userId": "01885423067234457717"
     },
     "user_tz": 240
    },
    "id": "bYh_YmWXtrh6",
    "outputId": "4d89e90e-e15e-462e-d6da-d3de02bbf8d6"
   },
   "outputs": [
    {
     "data": {
      "text/html": [
       "<div>\n",
       "<style scoped>\n",
       "    .dataframe tbody tr th:only-of-type {\n",
       "        vertical-align: middle;\n",
       "    }\n",
       "\n",
       "    .dataframe tbody tr th {\n",
       "        vertical-align: top;\n",
       "    }\n",
       "\n",
       "    .dataframe thead th {\n",
       "        text-align: right;\n",
       "    }\n",
       "</style>\n",
       "<table border=\"1\" class=\"dataframe\">\n",
       "  <thead>\n",
       "    <tr style=\"text-align: right;\">\n",
       "      <th></th>\n",
       "      <th>Date</th>\n",
       "      <th>Day</th>\n",
       "      <th>High_Temp_F</th>\n",
       "      <th>Low_Temp_F</th>\n",
       "      <th>Precipitation</th>\n",
       "      <th>Weather</th>\n",
       "      <th>Brooklyn_Bridge</th>\n",
       "      <th>Manhattan_Bridge</th>\n",
       "      <th>Williamsburg_Bridge</th>\n",
       "      <th>Queensboro_Bridge</th>\n",
       "      <th>Total</th>\n",
       "    </tr>\n",
       "  </thead>\n",
       "  <tbody>\n",
       "    <tr>\n",
       "      <th>116</th>\n",
       "      <td>26-Jul</td>\n",
       "      <td>Wednesday</td>\n",
       "      <td>75.9</td>\n",
       "      <td>66.0</td>\n",
       "      <td>0.00</td>\n",
       "      <td>N</td>\n",
       "      <td>3821</td>\n",
       "      <td>7987</td>\n",
       "      <td>8605</td>\n",
       "      <td>6556</td>\n",
       "      <td>26969</td>\n",
       "    </tr>\n",
       "    <tr>\n",
       "      <th>130</th>\n",
       "      <td>9-Aug</td>\n",
       "      <td>Wednesday</td>\n",
       "      <td>82.9</td>\n",
       "      <td>66.0</td>\n",
       "      <td>0.00</td>\n",
       "      <td>N</td>\n",
       "      <td>3893</td>\n",
       "      <td>7791</td>\n",
       "      <td>8589</td>\n",
       "      <td>6582</td>\n",
       "      <td>26855</td>\n",
       "    </tr>\n",
       "    <tr>\n",
       "      <th>88</th>\n",
       "      <td>28-Jun</td>\n",
       "      <td>Wednesday</td>\n",
       "      <td>78.1</td>\n",
       "      <td>62.1</td>\n",
       "      <td>0.00</td>\n",
       "      <td>N</td>\n",
       "      <td>3766</td>\n",
       "      <td>8239</td>\n",
       "      <td>8873</td>\n",
       "      <td>5834</td>\n",
       "      <td>26712</td>\n",
       "    </tr>\n",
       "    <tr>\n",
       "      <th>164</th>\n",
       "      <td>12-Sep</td>\n",
       "      <td>Tuesday</td>\n",
       "      <td>78.1</td>\n",
       "      <td>61.0</td>\n",
       "      <td>0.00</td>\n",
       "      <td>N</td>\n",
       "      <td>3497</td>\n",
       "      <td>7983</td>\n",
       "      <td>8756</td>\n",
       "      <td>6386</td>\n",
       "      <td>26622</td>\n",
       "    </tr>\n",
       "    <tr>\n",
       "      <th>75</th>\n",
       "      <td>15-Jun</td>\n",
       "      <td>Thursday</td>\n",
       "      <td>75.0</td>\n",
       "      <td>66.0</td>\n",
       "      <td>0.00</td>\n",
       "      <td>N</td>\n",
       "      <td>3510</td>\n",
       "      <td>7854</td>\n",
       "      <td>8652</td>\n",
       "      <td>6344</td>\n",
       "      <td>26360</td>\n",
       "    </tr>\n",
       "    <tr>\n",
       "      <th>...</th>\n",
       "      <td>...</td>\n",
       "      <td>...</td>\n",
       "      <td>...</td>\n",
       "      <td>...</td>\n",
       "      <td>...</td>\n",
       "      <td>...</td>\n",
       "      <td>...</td>\n",
       "      <td>...</td>\n",
       "      <td>...</td>\n",
       "      <td>...</td>\n",
       "      <td>...</td>\n",
       "    </tr>\n",
       "    <tr>\n",
       "      <th>34</th>\n",
       "      <td>5-May</td>\n",
       "      <td>Friday</td>\n",
       "      <td>59.0</td>\n",
       "      <td>52.0</td>\n",
       "      <td>3.02</td>\n",
       "      <td>R</td>\n",
       "      <td>513</td>\n",
       "      <td>1471</td>\n",
       "      <td>1951</td>\n",
       "      <td>1421</td>\n",
       "      <td>5356</td>\n",
       "    </tr>\n",
       "    <tr>\n",
       "      <th>5</th>\n",
       "      <td>6-Apr</td>\n",
       "      <td>Thursday</td>\n",
       "      <td>48.9</td>\n",
       "      <td>41.0</td>\n",
       "      <td>0.73</td>\n",
       "      <td>R</td>\n",
       "      <td>461</td>\n",
       "      <td>1324</td>\n",
       "      <td>1739</td>\n",
       "      <td>1372</td>\n",
       "      <td>4896</td>\n",
       "    </tr>\n",
       "    <tr>\n",
       "      <th>54</th>\n",
       "      <td>25-May</td>\n",
       "      <td>Thursday</td>\n",
       "      <td>57.9</td>\n",
       "      <td>55.9</td>\n",
       "      <td>0.58</td>\n",
       "      <td>R</td>\n",
       "      <td>488</td>\n",
       "      <td>1196</td>\n",
       "      <td>1789</td>\n",
       "      <td>1316</td>\n",
       "      <td>4789</td>\n",
       "    </tr>\n",
       "    <tr>\n",
       "      <th>211</th>\n",
       "      <td>29-Oct</td>\n",
       "      <td>Sunday</td>\n",
       "      <td>64.9</td>\n",
       "      <td>61.0</td>\n",
       "      <td>3.03</td>\n",
       "      <td>R</td>\n",
       "      <td>183</td>\n",
       "      <td>661</td>\n",
       "      <td>1026</td>\n",
       "      <td>965</td>\n",
       "      <td>2835</td>\n",
       "    </tr>\n",
       "    <tr>\n",
       "      <th>42</th>\n",
       "      <td>13-May</td>\n",
       "      <td>Saturday</td>\n",
       "      <td>51.1</td>\n",
       "      <td>45.0</td>\n",
       "      <td>1.31</td>\n",
       "      <td>R</td>\n",
       "      <td>151</td>\n",
       "      <td>484</td>\n",
       "      <td>874</td>\n",
       "      <td>865</td>\n",
       "      <td>2374</td>\n",
       "    </tr>\n",
       "  </tbody>\n",
       "</table>\n",
       "<p>214 rows × 11 columns</p>\n",
       "</div>"
      ],
      "text/plain": [
       "       Date        Day  High_Temp_F  Low_Temp_F  Precipitation Weather  \\\n",
       "116  26-Jul  Wednesday         75.9        66.0           0.00       N   \n",
       "130   9-Aug  Wednesday         82.9        66.0           0.00       N   \n",
       "88   28-Jun  Wednesday         78.1        62.1           0.00       N   \n",
       "164  12-Sep    Tuesday         78.1        61.0           0.00       N   \n",
       "75   15-Jun   Thursday         75.0        66.0           0.00       N   \n",
       "..      ...        ...          ...         ...            ...     ...   \n",
       "34    5-May     Friday         59.0        52.0           3.02       R   \n",
       "5     6-Apr   Thursday         48.9        41.0           0.73       R   \n",
       "54   25-May   Thursday         57.9        55.9           0.58       R   \n",
       "211  29-Oct     Sunday         64.9        61.0           3.03       R   \n",
       "42   13-May   Saturday         51.1        45.0           1.31       R   \n",
       "\n",
       "     Brooklyn_Bridge  Manhattan_Bridge  Williamsburg_Bridge  \\\n",
       "116             3821              7987                 8605   \n",
       "130             3893              7791                 8589   \n",
       "88              3766              8239                 8873   \n",
       "164             3497              7983                 8756   \n",
       "75              3510              7854                 8652   \n",
       "..               ...               ...                  ...   \n",
       "34               513              1471                 1951   \n",
       "5                461              1324                 1739   \n",
       "54               488              1196                 1789   \n",
       "211              183               661                 1026   \n",
       "42               151               484                  874   \n",
       "\n",
       "     Queensboro_Bridge  Total  \n",
       "116               6556  26969  \n",
       "130               6582  26855  \n",
       "88                5834  26712  \n",
       "164               6386  26622  \n",
       "75                6344  26360  \n",
       "..                 ...    ...  \n",
       "34                1421   5356  \n",
       "5                 1372   4896  \n",
       "54                1316   4789  \n",
       "211                965   2835  \n",
       "42                 865   2374  \n",
       "\n",
       "[214 rows x 11 columns]"
      ]
     },
     "execution_count": 23,
     "metadata": {},
     "output_type": "execute_result"
    },
    {
     "data": {
      "text/html": [
       "<div>\n",
       "<style scoped>\n",
       "    .dataframe tbody tr th:only-of-type {\n",
       "        vertical-align: middle;\n",
       "    }\n",
       "\n",
       "    .dataframe tbody tr th {\n",
       "        vertical-align: top;\n",
       "    }\n",
       "\n",
       "    .dataframe thead th {\n",
       "        text-align: right;\n",
       "    }\n",
       "</style>\n",
       "<table border=\"1\" class=\"dataframe\">\n",
       "  <thead>\n",
       "    <tr style=\"text-align: right;\">\n",
       "      <th></th>\n",
       "      <th>Date</th>\n",
       "      <th>Day</th>\n",
       "      <th>High_Temp_F</th>\n",
       "      <th>Low_Temp_F</th>\n",
       "      <th>Precipitation</th>\n",
       "      <th>Weather</th>\n",
       "      <th>Brooklyn_Bridge</th>\n",
       "      <th>Manhattan_Bridge</th>\n",
       "      <th>Williamsburg_Bridge</th>\n",
       "      <th>Queensboro_Bridge</th>\n",
       "      <th>Total</th>\n",
       "    </tr>\n",
       "  </thead>\n",
       "  <tbody>\n",
       "    <tr>\n",
       "      <th>0</th>\n",
       "      <td>1-Apr</td>\n",
       "      <td>Saturday</td>\n",
       "      <td>46.0</td>\n",
       "      <td>37.0</td>\n",
       "      <td>0.00</td>\n",
       "      <td>N</td>\n",
       "      <td>606</td>\n",
       "      <td>1446</td>\n",
       "      <td>1915</td>\n",
       "      <td>1430</td>\n",
       "      <td>5397</td>\n",
       "    </tr>\n",
       "    <tr>\n",
       "      <th>1</th>\n",
       "      <td>2-Apr</td>\n",
       "      <td>Sunday</td>\n",
       "      <td>62.1</td>\n",
       "      <td>41.0</td>\n",
       "      <td>0.00</td>\n",
       "      <td>N</td>\n",
       "      <td>2021</td>\n",
       "      <td>3943</td>\n",
       "      <td>4207</td>\n",
       "      <td>2862</td>\n",
       "      <td>13033</td>\n",
       "    </tr>\n",
       "    <tr>\n",
       "      <th>2</th>\n",
       "      <td>3-Apr</td>\n",
       "      <td>Monday</td>\n",
       "      <td>63.0</td>\n",
       "      <td>50.0</td>\n",
       "      <td>0.03</td>\n",
       "      <td>R</td>\n",
       "      <td>2470</td>\n",
       "      <td>4988</td>\n",
       "      <td>5178</td>\n",
       "      <td>3689</td>\n",
       "      <td>16325</td>\n",
       "    </tr>\n",
       "    <tr>\n",
       "      <th>3</th>\n",
       "      <td>4-Apr</td>\n",
       "      <td>Tuesday</td>\n",
       "      <td>51.1</td>\n",
       "      <td>46.0</td>\n",
       "      <td>1.18</td>\n",
       "      <td>R</td>\n",
       "      <td>723</td>\n",
       "      <td>1913</td>\n",
       "      <td>2279</td>\n",
       "      <td>1666</td>\n",
       "      <td>6581</td>\n",
       "    </tr>\n",
       "    <tr>\n",
       "      <th>4</th>\n",
       "      <td>5-Apr</td>\n",
       "      <td>Wednesday</td>\n",
       "      <td>63.0</td>\n",
       "      <td>46.0</td>\n",
       "      <td>0.00</td>\n",
       "      <td>N</td>\n",
       "      <td>2807</td>\n",
       "      <td>5276</td>\n",
       "      <td>5711</td>\n",
       "      <td>4197</td>\n",
       "      <td>17991</td>\n",
       "    </tr>\n",
       "    <tr>\n",
       "      <th>...</th>\n",
       "      <td>...</td>\n",
       "      <td>...</td>\n",
       "      <td>...</td>\n",
       "      <td>...</td>\n",
       "      <td>...</td>\n",
       "      <td>...</td>\n",
       "      <td>...</td>\n",
       "      <td>...</td>\n",
       "      <td>...</td>\n",
       "      <td>...</td>\n",
       "      <td>...</td>\n",
       "    </tr>\n",
       "    <tr>\n",
       "      <th>209</th>\n",
       "      <td>27-Oct</td>\n",
       "      <td>Friday</td>\n",
       "      <td>62.1</td>\n",
       "      <td>48.0</td>\n",
       "      <td>0.00</td>\n",
       "      <td>N</td>\n",
       "      <td>3150</td>\n",
       "      <td>5610</td>\n",
       "      <td>6450</td>\n",
       "      <td>5181</td>\n",
       "      <td>20391</td>\n",
       "    </tr>\n",
       "    <tr>\n",
       "      <th>210</th>\n",
       "      <td>28-Oct</td>\n",
       "      <td>Saturday</td>\n",
       "      <td>68.0</td>\n",
       "      <td>55.9</td>\n",
       "      <td>0.00</td>\n",
       "      <td>N</td>\n",
       "      <td>2245</td>\n",
       "      <td>4520</td>\n",
       "      <td>5104</td>\n",
       "      <td>4069</td>\n",
       "      <td>15938</td>\n",
       "    </tr>\n",
       "    <tr>\n",
       "      <th>211</th>\n",
       "      <td>29-Oct</td>\n",
       "      <td>Sunday</td>\n",
       "      <td>64.9</td>\n",
       "      <td>61.0</td>\n",
       "      <td>3.03</td>\n",
       "      <td>R</td>\n",
       "      <td>183</td>\n",
       "      <td>661</td>\n",
       "      <td>1026</td>\n",
       "      <td>965</td>\n",
       "      <td>2835</td>\n",
       "    </tr>\n",
       "    <tr>\n",
       "      <th>212</th>\n",
       "      <td>30-Oct</td>\n",
       "      <td>Monday</td>\n",
       "      <td>55.0</td>\n",
       "      <td>46.0</td>\n",
       "      <td>0.25</td>\n",
       "      <td>R</td>\n",
       "      <td>1428</td>\n",
       "      <td>2966</td>\n",
       "      <td>3547</td>\n",
       "      <td>2924</td>\n",
       "      <td>10865</td>\n",
       "    </tr>\n",
       "    <tr>\n",
       "      <th>213</th>\n",
       "      <td>31-Oct</td>\n",
       "      <td>Tuesday</td>\n",
       "      <td>54.0</td>\n",
       "      <td>44.0</td>\n",
       "      <td>0.00</td>\n",
       "      <td>N</td>\n",
       "      <td>2727</td>\n",
       "      <td>5597</td>\n",
       "      <td>5894</td>\n",
       "      <td>4883</td>\n",
       "      <td>19101</td>\n",
       "    </tr>\n",
       "  </tbody>\n",
       "</table>\n",
       "<p>214 rows × 11 columns</p>\n",
       "</div>"
      ],
      "text/plain": [
       "       Date        Day  High_Temp_F  Low_Temp_F  Precipitation Weather  \\\n",
       "0     1-Apr   Saturday         46.0        37.0           0.00       N   \n",
       "1     2-Apr     Sunday         62.1        41.0           0.00       N   \n",
       "2     3-Apr     Monday         63.0        50.0           0.03       R   \n",
       "3     4-Apr    Tuesday         51.1        46.0           1.18       R   \n",
       "4     5-Apr  Wednesday         63.0        46.0           0.00       N   \n",
       "..      ...        ...          ...         ...            ...     ...   \n",
       "209  27-Oct     Friday         62.1        48.0           0.00       N   \n",
       "210  28-Oct   Saturday         68.0        55.9           0.00       N   \n",
       "211  29-Oct     Sunday         64.9        61.0           3.03       R   \n",
       "212  30-Oct     Monday         55.0        46.0           0.25       R   \n",
       "213  31-Oct    Tuesday         54.0        44.0           0.00       N   \n",
       "\n",
       "     Brooklyn_Bridge  Manhattan_Bridge  Williamsburg_Bridge  \\\n",
       "0                606              1446                 1915   \n",
       "1               2021              3943                 4207   \n",
       "2               2470              4988                 5178   \n",
       "3                723              1913                 2279   \n",
       "4               2807              5276                 5711   \n",
       "..               ...               ...                  ...   \n",
       "209             3150              5610                 6450   \n",
       "210             2245              4520                 5104   \n",
       "211              183               661                 1026   \n",
       "212             1428              2966                 3547   \n",
       "213             2727              5597                 5894   \n",
       "\n",
       "     Queensboro_Bridge  Total  \n",
       "0                 1430   5397  \n",
       "1                 2862  13033  \n",
       "2                 3689  16325  \n",
       "3                 1666   6581  \n",
       "4                 4197  17991  \n",
       "..                 ...    ...  \n",
       "209               5181  20391  \n",
       "210               4069  15938  \n",
       "211                965   2835  \n",
       "212               2924  10865  \n",
       "213               4883  19101  \n",
       "\n",
       "[214 rows x 11 columns]"
      ]
     },
     "execution_count": 23,
     "metadata": {},
     "output_type": "execute_result"
    }
   ],
   "source": [
    "# sort by total\n",
    "\n",
    "out1 = NY_bicycle.sort_values(by='Total', \n",
    "                              na_position='first',\n",
    "                              ascending=False) \n",
    "out1\n",
    "\n",
    "out1.sort_index() "
   ]
  },
  {
   "cell_type": "code",
   "execution_count": 24,
   "metadata": {
    "colab": {
     "base_uri": "https://localhost:8080/"
    },
    "executionInfo": {
     "elapsed": 199,
     "status": "ok",
     "timestamp": 1695075427862,
     "user": {
      "displayName": "Ruwen Qin",
      "userId": "01885423067234457717"
     },
     "user_tz": 240
    },
    "id": "jBKf-DWruz0O",
    "outputId": "a3bc4fab-cd88-4038-f964-425b38bd49ac"
   },
   "outputs": [
    {
     "data": {
      "text/html": [
       "<div>\n",
       "<style scoped>\n",
       "    .dataframe tbody tr th:only-of-type {\n",
       "        vertical-align: middle;\n",
       "    }\n",
       "\n",
       "    .dataframe tbody tr th {\n",
       "        vertical-align: top;\n",
       "    }\n",
       "\n",
       "    .dataframe thead th {\n",
       "        text-align: right;\n",
       "    }\n",
       "</style>\n",
       "<table border=\"1\" class=\"dataframe\">\n",
       "  <thead>\n",
       "    <tr style=\"text-align: right;\">\n",
       "      <th></th>\n",
       "      <th>High_Temp_F</th>\n",
       "      <th>Low_Temp_F</th>\n",
       "      <th>Total</th>\n",
       "    </tr>\n",
       "  </thead>\n",
       "  <tbody>\n",
       "    <tr>\n",
       "      <th>73</th>\n",
       "      <td>93.9</td>\n",
       "      <td>78.1</td>\n",
       "      <td>21577</td>\n",
       "    </tr>\n",
       "    <tr>\n",
       "      <th>110</th>\n",
       "      <td>93.0</td>\n",
       "      <td>78.1</td>\n",
       "      <td>20405</td>\n",
       "    </tr>\n",
       "    <tr>\n",
       "      <th>72</th>\n",
       "      <td>91.9</td>\n",
       "      <td>77.0</td>\n",
       "      <td>21200</td>\n",
       "    </tr>\n",
       "    <tr>\n",
       "      <th>47</th>\n",
       "      <td>91.9</td>\n",
       "      <td>75.0</td>\n",
       "      <td>23474</td>\n",
       "    </tr>\n",
       "    <tr>\n",
       "      <th>112</th>\n",
       "      <td>91.0</td>\n",
       "      <td>78.1</td>\n",
       "      <td>14422</td>\n",
       "    </tr>\n",
       "    <tr>\n",
       "      <th>...</th>\n",
       "      <td>...</td>\n",
       "      <td>...</td>\n",
       "      <td>...</td>\n",
       "    </tr>\n",
       "    <tr>\n",
       "      <th>3</th>\n",
       "      <td>51.1</td>\n",
       "      <td>46.0</td>\n",
       "      <td>6581</td>\n",
       "    </tr>\n",
       "    <tr>\n",
       "      <th>42</th>\n",
       "      <td>51.1</td>\n",
       "      <td>45.0</td>\n",
       "      <td>2374</td>\n",
       "    </tr>\n",
       "    <tr>\n",
       "      <th>5</th>\n",
       "      <td>48.9</td>\n",
       "      <td>41.0</td>\n",
       "      <td>4896</td>\n",
       "    </tr>\n",
       "    <tr>\n",
       "      <th>6</th>\n",
       "      <td>48.0</td>\n",
       "      <td>43.0</td>\n",
       "      <td>10341</td>\n",
       "    </tr>\n",
       "    <tr>\n",
       "      <th>0</th>\n",
       "      <td>46.0</td>\n",
       "      <td>37.0</td>\n",
       "      <td>5397</td>\n",
       "    </tr>\n",
       "  </tbody>\n",
       "</table>\n",
       "<p>214 rows × 3 columns</p>\n",
       "</div>"
      ],
      "text/plain": [
       "     High_Temp_F  Low_Temp_F  Total\n",
       "73          93.9        78.1  21577\n",
       "110         93.0        78.1  20405\n",
       "72          91.9        77.0  21200\n",
       "47          91.9        75.0  23474\n",
       "112         91.0        78.1  14422\n",
       "..           ...         ...    ...\n",
       "3           51.1        46.0   6581\n",
       "42          51.1        45.0   2374\n",
       "5           48.9        41.0   4896\n",
       "6           48.0        43.0  10341\n",
       "0           46.0        37.0   5397\n",
       "\n",
       "[214 rows x 3 columns]"
      ]
     },
     "execution_count": 24,
     "metadata": {},
     "output_type": "execute_result"
    }
   ],
   "source": [
    "# sort the DataFrame by multiple columns\n",
    "\n",
    "#NY_bicycle.info()\n",
    "out2 = NY_bicycle.sort_values(\n",
    "    by=['High_Temp_F', 'Low_Temp_F', 'Total'],\n",
    "    ascending=False\n",
    ")\n",
    "\n",
    "# display selected columns of the sorted dataframe, whose indices are 2, 3, and 10\n",
    "out2.loc[:,['High_Temp_F', 'Low_Temp_F', 'Total']] "
   ]
  },
  {
   "cell_type": "markdown",
   "metadata": {
    "id": "Kw52kPIMc2bK"
   },
   "source": [
    "### 1.2.2 Filtering\n",
    "\n",
    "Filtering is a method to select an interested segment/slice of the data frame.\n",
    "\n",
    "Suggested Exercises:\n",
    "\n",
    "1. Extract rows 3~5 in columns 6-9 [Hint: .iloc]\n",
    "2. Sort the DataFrame by \"Total\" in the descending order, review the sorting result, and then extract the segment that meets the criteron \"Total\">26,000\n",
    "3. extract the segment with the crition \"Total\" value >26,000\n",
    "4. extract columns 'Precipitation','High_Temp_F', and 'Low_Temp_F' whose \"Total\" value >26,000 [Hint: use .loc[])\n",
    "5. extract the column 'Precipitation' whose 'Weather' value is equal to T\n",
    "6. extract columns 'Low_Temp_F' and 'High_Temp_F' with 'Brooklyn_Bridge' >=3,000 and 'Day'= Wednesday. Sort values by both 'Low_Temp_F' and 'High_Temp_F' in that order.\n",
    "\n"
   ]
  },
  {
   "cell_type": "code",
   "execution_count": 25,
   "metadata": {
    "colab": {
     "base_uri": "https://localhost:8080/",
     "height": 143
    },
    "executionInfo": {
     "elapsed": 12,
     "status": "ok",
     "timestamp": 1695075427863,
     "user": {
      "displayName": "Ruwen Qin",
      "userId": "01885423067234457717"
     },
     "user_tz": 240
    },
    "id": "K39_EsD24bBW",
    "outputId": "ed39fd47-d102-4409-c5ef-54a53c89006a"
   },
   "outputs": [
    {
     "data": {
      "text/html": [
       "<div>\n",
       "<style scoped>\n",
       "    .dataframe tbody tr th:only-of-type {\n",
       "        vertical-align: middle;\n",
       "    }\n",
       "\n",
       "    .dataframe tbody tr th {\n",
       "        vertical-align: top;\n",
       "    }\n",
       "\n",
       "    .dataframe thead th {\n",
       "        text-align: right;\n",
       "    }\n",
       "</style>\n",
       "<table border=\"1\" class=\"dataframe\">\n",
       "  <thead>\n",
       "    <tr style=\"text-align: right;\">\n",
       "      <th></th>\n",
       "      <th>Brooklyn_Bridge</th>\n",
       "      <th>Manhattan_Bridge</th>\n",
       "      <th>Williamsburg_Bridge</th>\n",
       "      <th>Queensboro_Bridge</th>\n",
       "    </tr>\n",
       "  </thead>\n",
       "  <tbody>\n",
       "    <tr>\n",
       "      <th>3</th>\n",
       "      <td>723</td>\n",
       "      <td>1913</td>\n",
       "      <td>2279</td>\n",
       "      <td>1666</td>\n",
       "    </tr>\n",
       "    <tr>\n",
       "      <th>4</th>\n",
       "      <td>2807</td>\n",
       "      <td>5276</td>\n",
       "      <td>5711</td>\n",
       "      <td>4197</td>\n",
       "    </tr>\n",
       "    <tr>\n",
       "      <th>5</th>\n",
       "      <td>461</td>\n",
       "      <td>1324</td>\n",
       "      <td>1739</td>\n",
       "      <td>1372</td>\n",
       "    </tr>\n",
       "  </tbody>\n",
       "</table>\n",
       "</div>"
      ],
      "text/plain": [
       "   Brooklyn_Bridge  Manhattan_Bridge  Williamsburg_Bridge  Queensboro_Bridge\n",
       "3              723              1913                 2279               1666\n",
       "4             2807              5276                 5711               4197\n",
       "5              461              1324                 1739               1372"
      ]
     },
     "execution_count": 25,
     "metadata": {},
     "output_type": "execute_result"
    }
   ],
   "source": [
    "# use DataFrame.iloc to get a segment by its indices. \n",
    "# This example extracts values of the columns indexed 6-9 in observations indexed 3-5\n",
    "    \n",
    "NY_bicycle.iloc[3:6,6:10]"
   ]
  },
  {
   "cell_type": "code",
   "execution_count": 26,
   "metadata": {
    "colab": {
     "base_uri": "https://localhost:8080/",
     "height": 459
    },
    "executionInfo": {
     "elapsed": 12,
     "status": "ok",
     "timestamp": 1695075428050,
     "user": {
      "displayName": "Ruwen Qin",
      "userId": "01885423067234457717"
     },
     "user_tz": 240
    },
    "id": "V9oalOBImDfm",
    "outputId": "5e7b3ac3-27e7-4222-f32a-eb2cd770ddff"
   },
   "outputs": [
    {
     "data": {
      "text/html": [
       "<div>\n",
       "<style scoped>\n",
       "    .dataframe tbody tr th:only-of-type {\n",
       "        vertical-align: middle;\n",
       "    }\n",
       "\n",
       "    .dataframe tbody tr th {\n",
       "        vertical-align: top;\n",
       "    }\n",
       "\n",
       "    .dataframe thead th {\n",
       "        text-align: right;\n",
       "    }\n",
       "</style>\n",
       "<table border=\"1\" class=\"dataframe\">\n",
       "  <thead>\n",
       "    <tr style=\"text-align: right;\">\n",
       "      <th></th>\n",
       "      <th>Date</th>\n",
       "      <th>Day</th>\n",
       "      <th>High_Temp_F</th>\n",
       "      <th>Low_Temp_F</th>\n",
       "      <th>Precipitation</th>\n",
       "      <th>Weather</th>\n",
       "      <th>Brooklyn_Bridge</th>\n",
       "      <th>Manhattan_Bridge</th>\n",
       "      <th>Williamsburg_Bridge</th>\n",
       "      <th>Queensboro_Bridge</th>\n",
       "      <th>Total</th>\n",
       "    </tr>\n",
       "  </thead>\n",
       "  <tbody>\n",
       "    <tr>\n",
       "      <th>45</th>\n",
       "      <td>16-May</td>\n",
       "      <td>Tuesday</td>\n",
       "      <td>78.1</td>\n",
       "      <td>57.9</td>\n",
       "      <td>0.0</td>\n",
       "      <td>N</td>\n",
       "      <td>3666</td>\n",
       "      <td>7847</td>\n",
       "      <td>8420</td>\n",
       "      <td>6209</td>\n",
       "      <td>26142</td>\n",
       "    </tr>\n",
       "    <tr>\n",
       "      <th>46</th>\n",
       "      <td>17-May</td>\n",
       "      <td>Wednesday</td>\n",
       "      <td>90.0</td>\n",
       "      <td>66.0</td>\n",
       "      <td>0.0</td>\n",
       "      <td>N</td>\n",
       "      <td>3535</td>\n",
       "      <td>7888</td>\n",
       "      <td>8540</td>\n",
       "      <td>6121</td>\n",
       "      <td>26084</td>\n",
       "    </tr>\n",
       "    <tr>\n",
       "      <th>75</th>\n",
       "      <td>15-Jun</td>\n",
       "      <td>Thursday</td>\n",
       "      <td>75.0</td>\n",
       "      <td>66.0</td>\n",
       "      <td>0.0</td>\n",
       "      <td>N</td>\n",
       "      <td>3510</td>\n",
       "      <td>7854</td>\n",
       "      <td>8652</td>\n",
       "      <td>6344</td>\n",
       "      <td>26360</td>\n",
       "    </tr>\n",
       "    <tr>\n",
       "      <th>88</th>\n",
       "      <td>28-Jun</td>\n",
       "      <td>Wednesday</td>\n",
       "      <td>78.1</td>\n",
       "      <td>62.1</td>\n",
       "      <td>0.0</td>\n",
       "      <td>N</td>\n",
       "      <td>3766</td>\n",
       "      <td>8239</td>\n",
       "      <td>8873</td>\n",
       "      <td>5834</td>\n",
       "      <td>26712</td>\n",
       "    </tr>\n",
       "    <tr>\n",
       "      <th>116</th>\n",
       "      <td>26-Jul</td>\n",
       "      <td>Wednesday</td>\n",
       "      <td>75.9</td>\n",
       "      <td>66.0</td>\n",
       "      <td>0.0</td>\n",
       "      <td>N</td>\n",
       "      <td>3821</td>\n",
       "      <td>7987</td>\n",
       "      <td>8605</td>\n",
       "      <td>6556</td>\n",
       "      <td>26969</td>\n",
       "    </tr>\n",
       "    <tr>\n",
       "      <th>130</th>\n",
       "      <td>9-Aug</td>\n",
       "      <td>Wednesday</td>\n",
       "      <td>82.9</td>\n",
       "      <td>66.0</td>\n",
       "      <td>0.0</td>\n",
       "      <td>N</td>\n",
       "      <td>3893</td>\n",
       "      <td>7791</td>\n",
       "      <td>8589</td>\n",
       "      <td>6582</td>\n",
       "      <td>26855</td>\n",
       "    </tr>\n",
       "    <tr>\n",
       "      <th>164</th>\n",
       "      <td>12-Sep</td>\n",
       "      <td>Tuesday</td>\n",
       "      <td>78.1</td>\n",
       "      <td>61.0</td>\n",
       "      <td>0.0</td>\n",
       "      <td>N</td>\n",
       "      <td>3497</td>\n",
       "      <td>7983</td>\n",
       "      <td>8756</td>\n",
       "      <td>6386</td>\n",
       "      <td>26622</td>\n",
       "    </tr>\n",
       "    <tr>\n",
       "      <th>192</th>\n",
       "      <td>10-Oct</td>\n",
       "      <td>Tuesday</td>\n",
       "      <td>80.1</td>\n",
       "      <td>66.0</td>\n",
       "      <td>0.0</td>\n",
       "      <td>N</td>\n",
       "      <td>3922</td>\n",
       "      <td>7499</td>\n",
       "      <td>8208</td>\n",
       "      <td>6421</td>\n",
       "      <td>26050</td>\n",
       "    </tr>\n",
       "  </tbody>\n",
       "</table>\n",
       "</div>"
      ],
      "text/plain": [
       "       Date        Day  High_Temp_F  Low_Temp_F  Precipitation Weather  \\\n",
       "45   16-May    Tuesday         78.1        57.9            0.0       N   \n",
       "46   17-May  Wednesday         90.0        66.0            0.0       N   \n",
       "75   15-Jun   Thursday         75.0        66.0            0.0       N   \n",
       "88   28-Jun  Wednesday         78.1        62.1            0.0       N   \n",
       "116  26-Jul  Wednesday         75.9        66.0            0.0       N   \n",
       "130   9-Aug  Wednesday         82.9        66.0            0.0       N   \n",
       "164  12-Sep    Tuesday         78.1        61.0            0.0       N   \n",
       "192  10-Oct    Tuesday         80.1        66.0            0.0       N   \n",
       "\n",
       "     Brooklyn_Bridge  Manhattan_Bridge  Williamsburg_Bridge  \\\n",
       "45              3666              7847                 8420   \n",
       "46              3535              7888                 8540   \n",
       "75              3510              7854                 8652   \n",
       "88              3766              8239                 8873   \n",
       "116             3821              7987                 8605   \n",
       "130             3893              7791                 8589   \n",
       "164             3497              7983                 8756   \n",
       "192             3922              7499                 8208   \n",
       "\n",
       "     Queensboro_Bridge  Total  \n",
       "45                6209  26142  \n",
       "46                6121  26084  \n",
       "75                6344  26360  \n",
       "88                5834  26712  \n",
       "116               6556  26969  \n",
       "130               6582  26855  \n",
       "164               6386  26622  \n",
       "192               6421  26050  "
      ]
     },
     "execution_count": 26,
     "metadata": {},
     "output_type": "execute_result"
    }
   ],
   "source": [
    "# extract observations with the crition: 'Total' value >26,000\n",
    "    \n",
    "NY_bicycle[NY_bicycle.Total>26_000]"
   ]
  },
  {
   "cell_type": "code",
   "execution_count": 27,
   "metadata": {
    "colab": {
     "base_uri": "https://localhost:8080/",
     "height": 459
    },
    "executionInfo": {
     "elapsed": 195,
     "status": "ok",
     "timestamp": 1695075428049,
     "user": {
      "displayName": "Ruwen Qin",
      "userId": "01885423067234457717"
     },
     "user_tz": 240
    },
    "id": "1v_wVM9hUrGz",
    "outputId": "f747ed50-b289-4829-ed92-44d1dc663ddd"
   },
   "outputs": [
    {
     "data": {
      "text/html": [
       "<div>\n",
       "<style scoped>\n",
       "    .dataframe tbody tr th:only-of-type {\n",
       "        vertical-align: middle;\n",
       "    }\n",
       "\n",
       "    .dataframe tbody tr th {\n",
       "        vertical-align: top;\n",
       "    }\n",
       "\n",
       "    .dataframe thead th {\n",
       "        text-align: right;\n",
       "    }\n",
       "</style>\n",
       "<table border=\"1\" class=\"dataframe\">\n",
       "  <thead>\n",
       "    <tr style=\"text-align: right;\">\n",
       "      <th></th>\n",
       "      <th>Date</th>\n",
       "      <th>Day</th>\n",
       "      <th>High_Temp_F</th>\n",
       "      <th>Low_Temp_F</th>\n",
       "      <th>Precipitation</th>\n",
       "      <th>Weather</th>\n",
       "      <th>Brooklyn_Bridge</th>\n",
       "      <th>Manhattan_Bridge</th>\n",
       "      <th>Williamsburg_Bridge</th>\n",
       "      <th>Queensboro_Bridge</th>\n",
       "      <th>Total</th>\n",
       "    </tr>\n",
       "  </thead>\n",
       "  <tbody>\n",
       "    <tr>\n",
       "      <th>116</th>\n",
       "      <td>26-Jul</td>\n",
       "      <td>Wednesday</td>\n",
       "      <td>75.9</td>\n",
       "      <td>66.0</td>\n",
       "      <td>0.0</td>\n",
       "      <td>N</td>\n",
       "      <td>3821</td>\n",
       "      <td>7987</td>\n",
       "      <td>8605</td>\n",
       "      <td>6556</td>\n",
       "      <td>26969</td>\n",
       "    </tr>\n",
       "    <tr>\n",
       "      <th>130</th>\n",
       "      <td>9-Aug</td>\n",
       "      <td>Wednesday</td>\n",
       "      <td>82.9</td>\n",
       "      <td>66.0</td>\n",
       "      <td>0.0</td>\n",
       "      <td>N</td>\n",
       "      <td>3893</td>\n",
       "      <td>7791</td>\n",
       "      <td>8589</td>\n",
       "      <td>6582</td>\n",
       "      <td>26855</td>\n",
       "    </tr>\n",
       "    <tr>\n",
       "      <th>88</th>\n",
       "      <td>28-Jun</td>\n",
       "      <td>Wednesday</td>\n",
       "      <td>78.1</td>\n",
       "      <td>62.1</td>\n",
       "      <td>0.0</td>\n",
       "      <td>N</td>\n",
       "      <td>3766</td>\n",
       "      <td>8239</td>\n",
       "      <td>8873</td>\n",
       "      <td>5834</td>\n",
       "      <td>26712</td>\n",
       "    </tr>\n",
       "    <tr>\n",
       "      <th>164</th>\n",
       "      <td>12-Sep</td>\n",
       "      <td>Tuesday</td>\n",
       "      <td>78.1</td>\n",
       "      <td>61.0</td>\n",
       "      <td>0.0</td>\n",
       "      <td>N</td>\n",
       "      <td>3497</td>\n",
       "      <td>7983</td>\n",
       "      <td>8756</td>\n",
       "      <td>6386</td>\n",
       "      <td>26622</td>\n",
       "    </tr>\n",
       "    <tr>\n",
       "      <th>75</th>\n",
       "      <td>15-Jun</td>\n",
       "      <td>Thursday</td>\n",
       "      <td>75.0</td>\n",
       "      <td>66.0</td>\n",
       "      <td>0.0</td>\n",
       "      <td>N</td>\n",
       "      <td>3510</td>\n",
       "      <td>7854</td>\n",
       "      <td>8652</td>\n",
       "      <td>6344</td>\n",
       "      <td>26360</td>\n",
       "    </tr>\n",
       "    <tr>\n",
       "      <th>45</th>\n",
       "      <td>16-May</td>\n",
       "      <td>Tuesday</td>\n",
       "      <td>78.1</td>\n",
       "      <td>57.9</td>\n",
       "      <td>0.0</td>\n",
       "      <td>N</td>\n",
       "      <td>3666</td>\n",
       "      <td>7847</td>\n",
       "      <td>8420</td>\n",
       "      <td>6209</td>\n",
       "      <td>26142</td>\n",
       "    </tr>\n",
       "    <tr>\n",
       "      <th>46</th>\n",
       "      <td>17-May</td>\n",
       "      <td>Wednesday</td>\n",
       "      <td>90.0</td>\n",
       "      <td>66.0</td>\n",
       "      <td>0.0</td>\n",
       "      <td>N</td>\n",
       "      <td>3535</td>\n",
       "      <td>7888</td>\n",
       "      <td>8540</td>\n",
       "      <td>6121</td>\n",
       "      <td>26084</td>\n",
       "    </tr>\n",
       "    <tr>\n",
       "      <th>192</th>\n",
       "      <td>10-Oct</td>\n",
       "      <td>Tuesday</td>\n",
       "      <td>80.1</td>\n",
       "      <td>66.0</td>\n",
       "      <td>0.0</td>\n",
       "      <td>N</td>\n",
       "      <td>3922</td>\n",
       "      <td>7499</td>\n",
       "      <td>8208</td>\n",
       "      <td>6421</td>\n",
       "      <td>26050</td>\n",
       "    </tr>\n",
       "  </tbody>\n",
       "</table>\n",
       "</div>"
      ],
      "text/plain": [
       "       Date        Day  High_Temp_F  Low_Temp_F  Precipitation Weather  \\\n",
       "116  26-Jul  Wednesday         75.9        66.0            0.0       N   \n",
       "130   9-Aug  Wednesday         82.9        66.0            0.0       N   \n",
       "88   28-Jun  Wednesday         78.1        62.1            0.0       N   \n",
       "164  12-Sep    Tuesday         78.1        61.0            0.0       N   \n",
       "75   15-Jun   Thursday         75.0        66.0            0.0       N   \n",
       "45   16-May    Tuesday         78.1        57.9            0.0       N   \n",
       "46   17-May  Wednesday         90.0        66.0            0.0       N   \n",
       "192  10-Oct    Tuesday         80.1        66.0            0.0       N   \n",
       "\n",
       "     Brooklyn_Bridge  Manhattan_Bridge  Williamsburg_Bridge  \\\n",
       "116             3821              7987                 8605   \n",
       "130             3893              7791                 8589   \n",
       "88              3766              8239                 8873   \n",
       "164             3497              7983                 8756   \n",
       "75              3510              7854                 8652   \n",
       "45              3666              7847                 8420   \n",
       "46              3535              7888                 8540   \n",
       "192             3922              7499                 8208   \n",
       "\n",
       "     Queensboro_Bridge  Total  \n",
       "116               6556  26969  \n",
       "130               6582  26855  \n",
       "88                5834  26712  \n",
       "164               6386  26622  \n",
       "75                6344  26360  \n",
       "45                6209  26142  \n",
       "46                6121  26084  \n",
       "192               6421  26050  "
      ]
     },
     "execution_count": 27,
     "metadata": {},
     "output_type": "execute_result"
    }
   ],
   "source": [
    "# Extract the segment of DataFrame with \"Total\">26,000, which is sorted by \"Total\" in the descending order\n",
    "\n",
    "\n",
    "out3 = NY_bicycle.sort_values(by='Total', \n",
    "                              na_position='first',\n",
    "                              ascending=False\n",
    "                             ) #sort the dataframe by \"Total\" in the descending order\n",
    "\n",
    "out3[out3.Total>26_000] #extracts observations with the crition: 'Total' value >26,000"
   ]
  },
  {
   "cell_type": "code",
   "execution_count": 28,
   "metadata": {
    "colab": {
     "base_uri": "https://localhost:8080/",
     "height": 300
    },
    "executionInfo": {
     "elapsed": 174,
     "status": "ok",
     "timestamp": 1695075428214,
     "user": {
      "displayName": "Ruwen Qin",
      "userId": "01885423067234457717"
     },
     "user_tz": 240
    },
    "id": "iMYI7D30TpGR",
    "outputId": "d90c4f05-19f9-46f5-f023-52804cc3f961"
   },
   "outputs": [
    {
     "data": {
      "text/html": [
       "<div>\n",
       "<style scoped>\n",
       "    .dataframe tbody tr th:only-of-type {\n",
       "        vertical-align: middle;\n",
       "    }\n",
       "\n",
       "    .dataframe tbody tr th {\n",
       "        vertical-align: top;\n",
       "    }\n",
       "\n",
       "    .dataframe thead th {\n",
       "        text-align: right;\n",
       "    }\n",
       "</style>\n",
       "<table border=\"1\" class=\"dataframe\">\n",
       "  <thead>\n",
       "    <tr style=\"text-align: right;\">\n",
       "      <th></th>\n",
       "      <th>Precipitation</th>\n",
       "      <th>High_Temp_F</th>\n",
       "      <th>Low_Temp_F</th>\n",
       "    </tr>\n",
       "  </thead>\n",
       "  <tbody>\n",
       "    <tr>\n",
       "      <th>45</th>\n",
       "      <td>0.0</td>\n",
       "      <td>78.1</td>\n",
       "      <td>57.9</td>\n",
       "    </tr>\n",
       "    <tr>\n",
       "      <th>46</th>\n",
       "      <td>0.0</td>\n",
       "      <td>90.0</td>\n",
       "      <td>66.0</td>\n",
       "    </tr>\n",
       "    <tr>\n",
       "      <th>75</th>\n",
       "      <td>0.0</td>\n",
       "      <td>75.0</td>\n",
       "      <td>66.0</td>\n",
       "    </tr>\n",
       "    <tr>\n",
       "      <th>88</th>\n",
       "      <td>0.0</td>\n",
       "      <td>78.1</td>\n",
       "      <td>62.1</td>\n",
       "    </tr>\n",
       "    <tr>\n",
       "      <th>116</th>\n",
       "      <td>0.0</td>\n",
       "      <td>75.9</td>\n",
       "      <td>66.0</td>\n",
       "    </tr>\n",
       "    <tr>\n",
       "      <th>130</th>\n",
       "      <td>0.0</td>\n",
       "      <td>82.9</td>\n",
       "      <td>66.0</td>\n",
       "    </tr>\n",
       "    <tr>\n",
       "      <th>164</th>\n",
       "      <td>0.0</td>\n",
       "      <td>78.1</td>\n",
       "      <td>61.0</td>\n",
       "    </tr>\n",
       "    <tr>\n",
       "      <th>192</th>\n",
       "      <td>0.0</td>\n",
       "      <td>80.1</td>\n",
       "      <td>66.0</td>\n",
       "    </tr>\n",
       "  </tbody>\n",
       "</table>\n",
       "</div>"
      ],
      "text/plain": [
       "     Precipitation  High_Temp_F  Low_Temp_F\n",
       "45             0.0         78.1        57.9\n",
       "46             0.0         90.0        66.0\n",
       "75             0.0         75.0        66.0\n",
       "88             0.0         78.1        62.1\n",
       "116            0.0         75.9        66.0\n",
       "130            0.0         82.9        66.0\n",
       "164            0.0         78.1        61.0\n",
       "192            0.0         80.1        66.0"
      ]
     },
     "execution_count": 28,
     "metadata": {},
     "output_type": "execute_result"
    }
   ],
   "source": [
    "# # use dataframe.loc[] to Access a group of rows and columns by label(s) or a boolean array. \n",
    "# This example extracts columns 'Precipitation','High_Temp_F', 'Low_Temp_F', whose 'Total' values are greater than 26,000\n",
    "\n",
    "NY_bicycle.loc[NY_bicycle.Total>26_000, \n",
    "               ['Precipitation','High_Temp_F', 'Low_Temp_F']\n",
    "              ] "
   ]
  },
  {
   "cell_type": "code",
   "execution_count": 29,
   "metadata": {
    "colab": {
     "base_uri": "https://localhost:8080/",
     "height": 488
    },
    "executionInfo": {
     "elapsed": 9,
     "status": "ok",
     "timestamp": 1695075428215,
     "user": {
      "displayName": "Ruwen Qin",
      "userId": "01885423067234457717"
     },
     "user_tz": 240
    },
    "id": "Ex_R1Ip65OuS",
    "outputId": "2abafe6d-e086-4adc-8ff9-14d088538928"
   },
   "outputs": [
    {
     "data": {
      "text/html": [
       "<div>\n",
       "<style scoped>\n",
       "    .dataframe tbody tr th:only-of-type {\n",
       "        vertical-align: middle;\n",
       "    }\n",
       "\n",
       "    .dataframe tbody tr th {\n",
       "        vertical-align: top;\n",
       "    }\n",
       "\n",
       "    .dataframe thead th {\n",
       "        text-align: right;\n",
       "    }\n",
       "</style>\n",
       "<table border=\"1\" class=\"dataframe\">\n",
       "  <thead>\n",
       "    <tr style=\"text-align: right;\">\n",
       "      <th></th>\n",
       "      <th>Precipitation</th>\n",
       "    </tr>\n",
       "  </thead>\n",
       "  <tbody>\n",
       "    <tr>\n",
       "      <th>6</th>\n",
       "      <td>NaN</td>\n",
       "    </tr>\n",
       "    <tr>\n",
       "      <th>15</th>\n",
       "      <td>NaN</td>\n",
       "    </tr>\n",
       "    <tr>\n",
       "      <th>16</th>\n",
       "      <td>NaN</td>\n",
       "    </tr>\n",
       "    <tr>\n",
       "      <th>18</th>\n",
       "      <td>NaN</td>\n",
       "    </tr>\n",
       "    <tr>\n",
       "      <th>23</th>\n",
       "      <td>NaN</td>\n",
       "    </tr>\n",
       "    <tr>\n",
       "      <th>73</th>\n",
       "      <td>NaN</td>\n",
       "    </tr>\n",
       "    <tr>\n",
       "      <th>78</th>\n",
       "      <td>NaN</td>\n",
       "    </tr>\n",
       "    <tr>\n",
       "      <th>90</th>\n",
       "      <td>NaN</td>\n",
       "    </tr>\n",
       "    <tr>\n",
       "      <th>96</th>\n",
       "      <td>NaN</td>\n",
       "    </tr>\n",
       "    <tr>\n",
       "      <th>117</th>\n",
       "      <td>NaN</td>\n",
       "    </tr>\n",
       "    <tr>\n",
       "      <th>132</th>\n",
       "      <td>NaN</td>\n",
       "    </tr>\n",
       "    <tr>\n",
       "      <th>144</th>\n",
       "      <td>NaN</td>\n",
       "    </tr>\n",
       "    <tr>\n",
       "      <th>157</th>\n",
       "      <td>NaN</td>\n",
       "    </tr>\n",
       "    <tr>\n",
       "      <th>197</th>\n",
       "      <td>NaN</td>\n",
       "    </tr>\n",
       "  </tbody>\n",
       "</table>\n",
       "</div>"
      ],
      "text/plain": [
       "     Precipitation\n",
       "6              NaN\n",
       "15             NaN\n",
       "16             NaN\n",
       "18             NaN\n",
       "23             NaN\n",
       "73             NaN\n",
       "78             NaN\n",
       "90             NaN\n",
       "96             NaN\n",
       "117            NaN\n",
       "132            NaN\n",
       "144            NaN\n",
       "157            NaN\n",
       "197            NaN"
      ]
     },
     "execution_count": 29,
     "metadata": {},
     "output_type": "execute_result"
    }
   ],
   "source": [
    "# extract column 'Precipitation' whose 'Weather' value is equal to T\n",
    "\n",
    "NY_bicycle.loc[NY_bicycle.Weather=='T',['Precipitation']] "
   ]
  },
  {
   "cell_type": "code",
   "execution_count": 30,
   "metadata": {
    "colab": {
     "base_uri": "https://localhost:8080/",
     "height": 551
    },
    "executionInfo": {
     "elapsed": 175,
     "status": "ok",
     "timestamp": 1695075428382,
     "user": {
      "displayName": "Ruwen Qin",
      "userId": "01885423067234457717"
     },
     "user_tz": 240
    },
    "id": "QPijjx205bTd",
    "outputId": "c4e26ee6-1df1-49b1-8469-e56cbf29fe7e"
   },
   "outputs": [
    {
     "data": {
      "text/html": [
       "<div>\n",
       "<style scoped>\n",
       "    .dataframe tbody tr th:only-of-type {\n",
       "        vertical-align: middle;\n",
       "    }\n",
       "\n",
       "    .dataframe tbody tr th {\n",
       "        vertical-align: top;\n",
       "    }\n",
       "\n",
       "    .dataframe thead th {\n",
       "        text-align: right;\n",
       "    }\n",
       "</style>\n",
       "<table border=\"1\" class=\"dataframe\">\n",
       "  <thead>\n",
       "    <tr style=\"text-align: right;\">\n",
       "      <th></th>\n",
       "      <th>Low_Temp_F</th>\n",
       "      <th>High_Temp_F</th>\n",
       "    </tr>\n",
       "  </thead>\n",
       "  <tbody>\n",
       "    <tr>\n",
       "      <th>109</th>\n",
       "      <td>77.0</td>\n",
       "      <td>91.0</td>\n",
       "    </tr>\n",
       "    <tr>\n",
       "      <th>81</th>\n",
       "      <td>72.0</td>\n",
       "      <td>82.0</td>\n",
       "    </tr>\n",
       "    <tr>\n",
       "      <th>95</th>\n",
       "      <td>71.1</td>\n",
       "      <td>84.9</td>\n",
       "    </tr>\n",
       "    <tr>\n",
       "      <th>179</th>\n",
       "      <td>71.1</td>\n",
       "      <td>84.9</td>\n",
       "    </tr>\n",
       "    <tr>\n",
       "      <th>172</th>\n",
       "      <td>71.1</td>\n",
       "      <td>78.1</td>\n",
       "    </tr>\n",
       "    <tr>\n",
       "      <th>137</th>\n",
       "      <td>70.0</td>\n",
       "      <td>84.9</td>\n",
       "    </tr>\n",
       "    <tr>\n",
       "      <th>46</th>\n",
       "      <td>66.0</td>\n",
       "      <td>90.0</td>\n",
       "    </tr>\n",
       "    <tr>\n",
       "      <th>130</th>\n",
       "      <td>66.0</td>\n",
       "      <td>82.9</td>\n",
       "    </tr>\n",
       "    <tr>\n",
       "      <th>116</th>\n",
       "      <td>66.0</td>\n",
       "      <td>75.9</td>\n",
       "    </tr>\n",
       "    <tr>\n",
       "      <th>88</th>\n",
       "      <td>62.1</td>\n",
       "      <td>78.1</td>\n",
       "    </tr>\n",
       "    <tr>\n",
       "      <th>151</th>\n",
       "      <td>61.0</td>\n",
       "      <td>75.9</td>\n",
       "    </tr>\n",
       "    <tr>\n",
       "      <th>32</th>\n",
       "      <td>57.9</td>\n",
       "      <td>64.9</td>\n",
       "    </tr>\n",
       "    <tr>\n",
       "      <th>207</th>\n",
       "      <td>57.9</td>\n",
       "      <td>64.9</td>\n",
       "    </tr>\n",
       "    <tr>\n",
       "      <th>186</th>\n",
       "      <td>55.9</td>\n",
       "      <td>75.0</td>\n",
       "    </tr>\n",
       "    <tr>\n",
       "      <th>67</th>\n",
       "      <td>54.0</td>\n",
       "      <td>66.9</td>\n",
       "    </tr>\n",
       "    <tr>\n",
       "      <th>200</th>\n",
       "      <td>50.0</td>\n",
       "      <td>71.1</td>\n",
       "    </tr>\n",
       "  </tbody>\n",
       "</table>\n",
       "</div>"
      ],
      "text/plain": [
       "     Low_Temp_F  High_Temp_F\n",
       "109        77.0         91.0\n",
       "81         72.0         82.0\n",
       "95         71.1         84.9\n",
       "179        71.1         84.9\n",
       "172        71.1         78.1\n",
       "137        70.0         84.9\n",
       "46         66.0         90.0\n",
       "130        66.0         82.9\n",
       "116        66.0         75.9\n",
       "88         62.1         78.1\n",
       "151        61.0         75.9\n",
       "32         57.9         64.9\n",
       "207        57.9         64.9\n",
       "186        55.9         75.0\n",
       "67         54.0         66.9\n",
       "200        50.0         71.1"
      ]
     },
     "execution_count": 30,
     "metadata": {},
     "output_type": "execute_result"
    }
   ],
   "source": [
    "# extract columns 'Low_Temp_F' and 'High_Temp_F' with 'Brooklyn_Bridge' >=3,000 and 'Day'= Wednesday\n",
    "\n",
    "NY_bicycle.loc[(NY_bicycle.Brooklyn_Bridge>=3000) & (NY_bicycle.Day=='Wednesday'),\n",
    "               ['Low_Temp_F', 'High_Temp_F']].sort_values(['Low_Temp_F','High_Temp_F'],\n",
    "                                                          ascending=False\n",
    "                                                         ) "
   ]
  },
  {
   "cell_type": "markdown",
   "metadata": {
    "id": "WS5v2FhBLu9b"
   },
   "source": [
    "# 2 Data Distribution\n",
    "\n",
    "Almost every column in the DataFrame has distributed values. Data distribution refers to the way data are distributed across different values. \n",
    "\n",
    "Suggested exercise:\n",
    "\n",
    "1. generate column-wise descriptive statistics [Hint: use the .describe() instance method]"
   ]
  },
  {
   "cell_type": "code",
   "execution_count": 31,
   "metadata": {
    "colab": {
     "base_uri": "https://localhost:8080/",
     "height": 432
    },
    "executionInfo": {
     "elapsed": 185,
     "status": "ok",
     "timestamp": 1695075428565,
     "user": {
      "displayName": "Ruwen Qin",
      "userId": "01885423067234457717"
     },
     "user_tz": 240
    },
    "id": "uw1vzLNW7d2W",
    "outputId": "44e8d571-d74a-4b7c-ce5a-59c2bb7ffbbe"
   },
   "outputs": [
    {
     "data": {
      "text/html": [
       "<div>\n",
       "<style scoped>\n",
       "    .dataframe tbody tr th:only-of-type {\n",
       "        vertical-align: middle;\n",
       "    }\n",
       "\n",
       "    .dataframe tbody tr th {\n",
       "        vertical-align: top;\n",
       "    }\n",
       "\n",
       "    .dataframe thead th {\n",
       "        text-align: right;\n",
       "    }\n",
       "</style>\n",
       "<table border=\"1\" class=\"dataframe\">\n",
       "  <thead>\n",
       "    <tr style=\"text-align: right;\">\n",
       "      <th></th>\n",
       "      <th>Date</th>\n",
       "      <th>Day</th>\n",
       "      <th>High_Temp_F</th>\n",
       "      <th>Low_Temp_F</th>\n",
       "      <th>Precipitation</th>\n",
       "      <th>Weather</th>\n",
       "      <th>Brooklyn_Bridge</th>\n",
       "      <th>Manhattan_Bridge</th>\n",
       "      <th>Williamsburg_Bridge</th>\n",
       "      <th>Queensboro_Bridge</th>\n",
       "      <th>Total</th>\n",
       "    </tr>\n",
       "  </thead>\n",
       "  <tbody>\n",
       "    <tr>\n",
       "      <th>count</th>\n",
       "      <td>214</td>\n",
       "      <td>214</td>\n",
       "      <td>214.0</td>\n",
       "      <td>214.0</td>\n",
       "      <td>200.0</td>\n",
       "      <td>214</td>\n",
       "      <td>214.0</td>\n",
       "      <td>214.0</td>\n",
       "      <td>214.0</td>\n",
       "      <td>214.0</td>\n",
       "      <td>214.0</td>\n",
       "    </tr>\n",
       "    <tr>\n",
       "      <th>unique</th>\n",
       "      <td>214</td>\n",
       "      <td>7</td>\n",
       "      <td>NaN</td>\n",
       "      <td>NaN</td>\n",
       "      <td>NaN</td>\n",
       "      <td>3</td>\n",
       "      <td>NaN</td>\n",
       "      <td>NaN</td>\n",
       "      <td>NaN</td>\n",
       "      <td>NaN</td>\n",
       "      <td>NaN</td>\n",
       "    </tr>\n",
       "    <tr>\n",
       "      <th>top</th>\n",
       "      <td>1-Apr</td>\n",
       "      <td>Saturday</td>\n",
       "      <td>NaN</td>\n",
       "      <td>NaN</td>\n",
       "      <td>NaN</td>\n",
       "      <td>N</td>\n",
       "      <td>NaN</td>\n",
       "      <td>NaN</td>\n",
       "      <td>NaN</td>\n",
       "      <td>NaN</td>\n",
       "      <td>NaN</td>\n",
       "    </tr>\n",
       "    <tr>\n",
       "      <th>freq</th>\n",
       "      <td>1</td>\n",
       "      <td>31</td>\n",
       "      <td>NaN</td>\n",
       "      <td>NaN</td>\n",
       "      <td>NaN</td>\n",
       "      <td>131</td>\n",
       "      <td>NaN</td>\n",
       "      <td>NaN</td>\n",
       "      <td>NaN</td>\n",
       "      <td>NaN</td>\n",
       "      <td>NaN</td>\n",
       "    </tr>\n",
       "    <tr>\n",
       "      <th>mean</th>\n",
       "      <td>NaN</td>\n",
       "      <td>NaN</td>\n",
       "      <td>74.2</td>\n",
       "      <td>62.0</td>\n",
       "      <td>0.1</td>\n",
       "      <td>NaN</td>\n",
       "      <td>2680.0</td>\n",
       "      <td>5345.5</td>\n",
       "      <td>6051.7</td>\n",
       "      <td>4550.5</td>\n",
       "      <td>18627.7</td>\n",
       "    </tr>\n",
       "    <tr>\n",
       "      <th>std</th>\n",
       "      <td>NaN</td>\n",
       "      <td>NaN</td>\n",
       "      <td>10.4</td>\n",
       "      <td>9.3</td>\n",
       "      <td>0.4</td>\n",
       "      <td>NaN</td>\n",
       "      <td>854.7</td>\n",
       "      <td>1746.5</td>\n",
       "      <td>1755.8</td>\n",
       "      <td>1306.9</td>\n",
       "      <td>5539.6</td>\n",
       "    </tr>\n",
       "    <tr>\n",
       "      <th>min</th>\n",
       "      <td>NaN</td>\n",
       "      <td>NaN</td>\n",
       "      <td>46.0</td>\n",
       "      <td>37.0</td>\n",
       "      <td>0.0</td>\n",
       "      <td>NaN</td>\n",
       "      <td>151.0</td>\n",
       "      <td>484.0</td>\n",
       "      <td>874.0</td>\n",
       "      <td>865.0</td>\n",
       "      <td>2374.0</td>\n",
       "    </tr>\n",
       "    <tr>\n",
       "      <th>25%</th>\n",
       "      <td>NaN</td>\n",
       "      <td>NaN</td>\n",
       "      <td>66.9</td>\n",
       "      <td>55.2</td>\n",
       "      <td>0.0</td>\n",
       "      <td>NaN</td>\n",
       "      <td>2298.0</td>\n",
       "      <td>4308.0</td>\n",
       "      <td>5115.0</td>\n",
       "      <td>3746.0</td>\n",
       "      <td>15704.8</td>\n",
       "    </tr>\n",
       "    <tr>\n",
       "      <th>50%</th>\n",
       "      <td>NaN</td>\n",
       "      <td>NaN</td>\n",
       "      <td>75.9</td>\n",
       "      <td>64.0</td>\n",
       "      <td>0.0</td>\n",
       "      <td>NaN</td>\n",
       "      <td>2857.0</td>\n",
       "      <td>5607.5</td>\n",
       "      <td>6287.0</td>\n",
       "      <td>4681.0</td>\n",
       "      <td>19367.0</td>\n",
       "    </tr>\n",
       "    <tr>\n",
       "      <th>75%</th>\n",
       "      <td>NaN</td>\n",
       "      <td>NaN</td>\n",
       "      <td>82.0</td>\n",
       "      <td>70.0</td>\n",
       "      <td>0.1</td>\n",
       "      <td>NaN</td>\n",
       "      <td>3285.0</td>\n",
       "      <td>6759.5</td>\n",
       "      <td>7512.5</td>\n",
       "      <td>5692.0</td>\n",
       "      <td>23151.5</td>\n",
       "    </tr>\n",
       "    <tr>\n",
       "      <th>max</th>\n",
       "      <td>NaN</td>\n",
       "      <td>NaN</td>\n",
       "      <td>93.9</td>\n",
       "      <td>78.1</td>\n",
       "      <td>3.0</td>\n",
       "      <td>NaN</td>\n",
       "      <td>4960.0</td>\n",
       "      <td>8239.0</td>\n",
       "      <td>8873.0</td>\n",
       "      <td>6582.0</td>\n",
       "      <td>26969.0</td>\n",
       "    </tr>\n",
       "  </tbody>\n",
       "</table>\n",
       "</div>"
      ],
      "text/plain": [
       "         Date       Day  High_Temp_F  Low_Temp_F  Precipitation Weather  \\\n",
       "count     214       214        214.0       214.0          200.0     214   \n",
       "unique    214         7          NaN         NaN            NaN       3   \n",
       "top     1-Apr  Saturday          NaN         NaN            NaN       N   \n",
       "freq        1        31          NaN         NaN            NaN     131   \n",
       "mean      NaN       NaN         74.2        62.0            0.1     NaN   \n",
       "std       NaN       NaN         10.4         9.3            0.4     NaN   \n",
       "min       NaN       NaN         46.0        37.0            0.0     NaN   \n",
       "25%       NaN       NaN         66.9        55.2            0.0     NaN   \n",
       "50%       NaN       NaN         75.9        64.0            0.0     NaN   \n",
       "75%       NaN       NaN         82.0        70.0            0.1     NaN   \n",
       "max       NaN       NaN         93.9        78.1            3.0     NaN   \n",
       "\n",
       "        Brooklyn_Bridge  Manhattan_Bridge  Williamsburg_Bridge  \\\n",
       "count             214.0             214.0                214.0   \n",
       "unique              NaN               NaN                  NaN   \n",
       "top                 NaN               NaN                  NaN   \n",
       "freq                NaN               NaN                  NaN   \n",
       "mean             2680.0            5345.5               6051.7   \n",
       "std               854.7            1746.5               1755.8   \n",
       "min               151.0             484.0                874.0   \n",
       "25%              2298.0            4308.0               5115.0   \n",
       "50%              2857.0            5607.5               6287.0   \n",
       "75%              3285.0            6759.5               7512.5   \n",
       "max              4960.0            8239.0               8873.0   \n",
       "\n",
       "        Queensboro_Bridge    Total  \n",
       "count               214.0    214.0  \n",
       "unique                NaN      NaN  \n",
       "top                   NaN      NaN  \n",
       "freq                  NaN      NaN  \n",
       "mean               4550.5  18627.7  \n",
       "std                1306.9   5539.6  \n",
       "min                 865.0   2374.0  \n",
       "25%                3746.0  15704.8  \n",
       "50%                4681.0  19367.0  \n",
       "75%                5692.0  23151.5  \n",
       "max                6582.0  26969.0  "
      ]
     },
     "execution_count": 31,
     "metadata": {},
     "output_type": "execute_result"
    }
   ],
   "source": [
    "# DataFrame.describe() generates column-wise descriptive statistics\n",
    "\n",
    "NY_bicycle.describe(include='all').round(1)"
   ]
  },
  {
   "cell_type": "markdown",
   "metadata": {
    "id": "Cmrvv2YIIQ9M"
   },
   "source": [
    "## 2.1 Categorical Data\n",
    "\n",
    "For categorical data, we generate frequency distributions:\n",
    "- **Frequency distribution**: A summary of data that shows the count of observations in each of several non-overlapping classes. Typically referred to as bins, when dealing with distributions.\n",
    "- **Relative frequency distribution**: A tabular summary of data showing the relative frequency for each bin.\n",
    "\n",
    "Suggested Exercises:\n",
    "\n",
    "1. Count observations of each weather type to show the frequency distribution [Hint: .value_counts]. \n",
    "2. Then, show the relative frequency distribution. [Hint: value_counts has an argument named normalize]\n",
    "3. [Optional] Show frequency distributions of observations by \"Weather\" as histograms\n"
   ]
  },
  {
   "cell_type": "code",
   "execution_count": 32,
   "metadata": {
    "colab": {
     "base_uri": "https://localhost:8080/"
    },
    "executionInfo": {
     "elapsed": 7,
     "status": "ok",
     "timestamp": 1695075428565,
     "user": {
      "displayName": "Ruwen Qin",
      "userId": "01885423067234457717"
     },
     "user_tz": 240
    },
    "id": "En7EA3y1F1l-",
    "outputId": "231e7fd4-c740-42a8-ca0c-4ebc6ef69301"
   },
   "outputs": [
    {
     "data": {
      "text/plain": [
       "Weather\n",
       "N    131\n",
       "R     69\n",
       "T     14\n",
       "Name: count, dtype: int64"
      ]
     },
     "execution_count": 32,
     "metadata": {},
     "output_type": "execute_result"
    }
   ],
   "source": [
    "# use Series.value_counts(normalize=) returns the counts when normalize=False\n",
    "\n",
    "NY_bicycle.Weather.value_counts(normalize=False) "
   ]
  },
  {
   "cell_type": "code",
   "execution_count": 33,
   "metadata": {},
   "outputs": [
    {
     "data": {
      "text/plain": [
       "Weather\n",
       "N    0.612\n",
       "R    0.322\n",
       "T    0.065\n",
       "Name: proportion, dtype: object"
      ]
     },
     "execution_count": 33,
     "metadata": {},
     "output_type": "execute_result"
    }
   ],
   "source": [
    "# # use Series.value_counts(normalize=) returns the percentages when normalize=True\n",
    "\n",
    "NY_bicycle.Weather.value_counts(normalize=True).map('{:.3f}'.format)"
   ]
  },
  {
   "cell_type": "code",
   "execution_count": 34,
   "metadata": {
    "colab": {
     "base_uri": "https://localhost:8080/",
     "height": 356
    },
    "executionInfo": {
     "elapsed": 4201,
     "status": "ok",
     "timestamp": 1695075432761,
     "user": {
      "displayName": "Ruwen Qin",
      "userId": "01885423067234457717"
     },
     "user_tz": 240
    },
    "id": "URneXYEdEO1Y",
    "outputId": "9a532c95-ebde-4ab2-c6ea-bc827a97d2ba"
   },
   "outputs": [
    {
     "data": {
      "image/png": "[encoded data removed]",
      "text/plain": [
       "<Figure size 1200x300 with 3 Axes>"
      ]
     },
     "metadata": {},
     "output_type": "display_data"
    }
   ],
   "source": [
    "# Create histogram for a categorical column using hist()\n",
    "\n",
    "fig, axs = plt.subplots(1,3, sharey=False, sharex=False, tight_layout=True, figsize=(12,3)) # define a figure with three subplots that are arranged as one row. yshare defines if the three plots share the y axis. xshare is similarly defined.\n",
    "\n",
    "# frequency distribution\n",
    "axs[0].hist(NY_bicycle.Weather, bins=3,color='grey')\n",
    "axs[1].set_xticks(np.arange(0.3,2,0.65))\n",
    "axs[0].set_xlabel('Weather')\n",
    "axs[0].set_ylabel('Count')\n",
    "\n",
    "# relative frequency distribution\n",
    "axs[1].hist(NY_bicycle.Weather,bins=3, color='grey')\n",
    "axs[1].set_xlabel('Weather')\n",
    "axs[1].set_ylabel('Proportion')\n",
    "axs[1].set_xticks(np.arange(0.3,2,0.65))\n",
    "axs[1].set_yticks(axs[1].get_yticks())\n",
    "axs[1].set_yticklabels((axs[1].get_yticks()/len(NY_bicycle)).round(2)) # ytick labels are in relative frequency and rounded to two decimal places\n",
    "\n",
    "# percent frequency distribution\n",
    "axs[2].hist(NY_bicycle.Weather,bins=3, color='grey')\n",
    "axs[2].set_xlabel('Weather')\n",
    "axs[2].set_ylabel('Percentage (%)')\n",
    "axs[2].set_xticks(np.arange(0.3,2,0.65))\n",
    "axs[2].set_yticks(axs[2].get_yticks())\n",
    "axs[2].set_yticklabels((axs[2].get_yticks()/len(NY_bicycle)*100).round(1)) # ytick labels are in percent frequency and rounded to one decimal places\n",
    "\n",
    "plt.show();"
   ]
  },
  {
   "cell_type": "markdown",
   "metadata": {
    "id": "wXZP_xsbFof6"
   },
   "source": [
    "## 2.2 Numerical Data\n",
    "\n",
    "\n",
    "For numerical data, we often divide the range of data into equally spaced bins that are muturally exclusive and collective inclusive. Then, we count the number of observations falling in each bin. \n",
    "\n",
    "Suggested exertises:\n",
    "1. Count the number of observations in the Series \"Total\"\n",
    "2. Find the minimum and maximum values of \"Total\", respectively\n",
    "2. Divide the data range of \"Total\" into 9 bins, and count the observations within each bin. [Hint: use pandas.cut and value_counts]\n",
    "4. [Optional] Plot the histogram of \"Total\" to show the distribution"
   ]
  },
  {
   "cell_type": "code",
   "execution_count": 35,
   "metadata": {
    "colab": {
     "base_uri": "https://localhost:8080/"
    },
    "executionInfo": {
     "elapsed": 17,
     "status": "ok",
     "timestamp": 1695075432762,
     "user": {
      "displayName": "Ruwen Qin",
      "userId": "01885423067234457717"
     },
     "user_tz": 240
    },
    "id": "n3AaSf_89xgW",
    "outputId": "97abba9f-38e8-43f4-a1cb-edd56cebef3a"
   },
   "outputs": [
    {
     "data": {
      "text/plain": [
       "214"
      ]
     },
     "execution_count": 35,
     "metadata": {},
     "output_type": "execute_result"
    }
   ],
   "source": [
    "# count() returns the number of non-NA observatioins\n",
    "\n",
    "NY_bicycle.Total.count() "
   ]
  },
  {
   "cell_type": "code",
   "execution_count": 36,
   "metadata": {
    "colab": {
     "base_uri": "https://localhost:8080/"
    },
    "executionInfo": {
     "elapsed": 11,
     "status": "ok",
     "timestamp": 1695075432762,
     "user": {
      "displayName": "Ruwen Qin",
      "userId": "01885423067234457717"
     },
     "user_tz": 240
    },
    "id": "7NRDtR7WAV1B",
    "outputId": "ee800e87-f890-4a69-db3d-106552016411"
   },
   "outputs": [
    {
     "data": {
      "text/plain": [
       "26969"
      ]
     },
     "execution_count": 36,
     "metadata": {},
     "output_type": "execute_result"
    }
   ],
   "source": [
    "# max() returns the maximum value of a numerical column\n",
    "\n",
    "NY_bicycle.Total.max() "
   ]
  },
  {
   "cell_type": "code",
   "execution_count": 37,
   "metadata": {
    "colab": {
     "base_uri": "https://localhost:8080/"
    },
    "executionInfo": {
     "elapsed": 8,
     "status": "ok",
     "timestamp": 1695075432762,
     "user": {
      "displayName": "Ruwen Qin",
      "userId": "01885423067234457717"
     },
     "user_tz": 240
    },
    "id": "EmN8sJ3nAR6p",
    "outputId": "1b959a61-101a-40b9-ca71-7555de382e73"
   },
   "outputs": [
    {
     "data": {
      "text/plain": [
       "2374"
      ]
     },
     "execution_count": 37,
     "metadata": {},
     "output_type": "execute_result"
    }
   ],
   "source": [
    "# min() returns the minimum value of a numerical column\n",
    "\n",
    "NY_bicycle.Total.min() "
   ]
  },
  {
   "cell_type": "code",
   "execution_count": 38,
   "metadata": {},
   "outputs": [
    {
     "data": {
      "text/plain": [
       "Total\n",
       "(21503.444, 24236.222]    50\n",
       "(16037.889, 18770.667]    42\n",
       "(18770.667, 21503.444]    32\n",
       "(24236.222, 26969.0]      31\n",
       "(13305.111, 16037.889]    22\n",
       "(10572.333, 13305.111]    14\n",
       "(7839.556, 10572.333]     11\n",
       "(5106.778, 7839.556]       8\n",
       "(2349.405, 5106.778]       4\n",
       "Name: count, dtype: int64"
      ]
     },
     "execution_count": 38,
     "metadata": {},
     "output_type": "execute_result"
    }
   ],
   "source": [
    "# pandas.cut(data,bins=int) split data into nonoverlapping segments\n",
    "\n",
    "pd.cut(NY_bicycle.Total, bins=9).value_counts()"
   ]
  },
  {
   "cell_type": "code",
   "execution_count": 39,
   "metadata": {
    "colab": {
     "base_uri": "https://localhost:8080/",
     "height": 618
    },
    "executionInfo": {
     "elapsed": 2333,
     "status": "ok",
     "timestamp": 1695075435090,
     "user": {
      "displayName": "Ruwen Qin",
      "userId": "01885423067234457717"
     },
     "user_tz": 240
    },
    "id": "YXhnq4WWh5un",
    "outputId": "cf887499-2d04-4f0e-de63-9189e8895178"
   },
   "outputs": [
    {
     "data": {
      "image/png": "[encoded data removed]",
      "text/plain": [
       "<Figure size 1000x600 with 2 Axes>"
      ]
     },
     "metadata": {},
     "output_type": "display_data"
    },
    {
     "name": "stdout",
     "output_type": "stream",
     "text": [
      "edges of the bins: [ 2374.      5106.7778  7839.5556 10572.3333 13305.1111 16037.8889\n",
      " 18770.6667 21503.4444 24236.2222 26969.    ]\n",
      "counts within each bin: [ 4.  8. 11. 14. 22. 42. 32. 50. 31.]\n"
     ]
    }
   ],
   "source": [
    "#generates a histogram for a numerical column using plt.hist()\n",
    "\n",
    "fig, ax = plt.subplots(figsize=(10,6)) # define a figure of one plot of size 8x6 inch\n",
    "ax2 = ax.twinx() # create the second axis to show the cumulative distribution. ax.twinx() means to generate a twin x-axis\n",
    "\n",
    "N_bins = 9 # number of bins\n",
    "\n",
    "counts, bins, patches = ax.hist(NY_bicycle.Total, \n",
    "                                facecolor='grey',\n",
    "                                edgecolor='black',\n",
    "                                density=False, \n",
    "                                bins=N_bins) # create the frequency distribution if density=False and probability density function if density=True\n",
    "#\"\"\"\n",
    "n, bins, patches = ax2.hist(NY_bicycle.Total, \n",
    "                            cumulative=True, \n",
    "                            density=True, \n",
    "                            histtype='step', \n",
    "                            color='red', \n",
    "                            bins=N_bins) # create the probability cumualtive distribution\n",
    "#\"\"\"\n",
    "\n",
    "ax.set_xlim([NY_bicycle.Total.min(),NY_bicycle.Total.max()])\n",
    "ax.set_xticks(ticks=bins,\n",
    "              rotation=0,\n",
    "              labels=[f'{x:,.1f}' for x in bins]\n",
    "          ) #xticks are set to be the boundaries of bins and they are rotated by 45 degree\n",
    "ax.set_xlabel('Daily Bicycle Volume',fontsize=14)\n",
    "\n",
    "ax.set_ylabel('Count',fontsize=14)\n",
    "ax2.set_ylabel('Cumulative Distribution Function (CDF)',fontsize=14)\n",
    "\n",
    "plt.show()\n",
    "\n",
    "print('edges of the bins:', bins)\n",
    "print('counts within each bin:', counts);\n"
   ]
  },
  {
   "cell_type": "markdown",
   "metadata": {
    "id": "cKT1QpMwIDPD"
   },
   "source": [
    "# 3. Numerical Data Description\n",
    "\n",
    "For numerical data, descriptive statistics tell the center, spread, and shape of the data, as well as relationship between different variables"
   ]
  },
  {
   "cell_type": "markdown",
   "metadata": {
    "id": "uqQHjYKiDw7S"
   },
   "source": [
    "## 3.1 Measurements of Locations\n",
    "\n",
    "Mean, median, and modes are common statistics describing the locations of data distributions.\n",
    "\n",
    "Suggested exercise:\n",
    "1. What is the mean value of \"Total\"?\n",
    "2. What is the median value of \"Total\"?\n",
    "3. What is the mode of \"Total\"?"
   ]
  },
  {
   "cell_type": "code",
   "execution_count": 40,
   "metadata": {
    "colab": {
     "base_uri": "https://localhost:8080/"
    },
    "executionInfo": {
     "elapsed": 18,
     "status": "ok",
     "timestamp": 1695075436017,
     "user": {
      "displayName": "Ruwen Qin",
      "userId": "01885423067234457717"
     },
     "user_tz": 240
    },
    "id": "8t6Opciw-uWX",
    "outputId": "9006a410-d52e-4d2d-d74d-3b12be32f9b3"
   },
   "outputs": [
    {
     "data": {
      "text/plain": [
       "18627.7"
      ]
     },
     "execution_count": 40,
     "metadata": {},
     "output_type": "execute_result"
    }
   ],
   "source": [
    "# mean() returns the mean value\n",
    "\n",
    "NY_bicycle.Total.mean().round(1) "
   ]
  },
  {
   "cell_type": "code",
   "execution_count": 41,
   "metadata": {
    "colab": {
     "base_uri": "https://localhost:8080/"
    },
    "executionInfo": {
     "elapsed": 17,
     "status": "ok",
     "timestamp": 1695075436017,
     "user": {
      "displayName": "Ruwen Qin",
      "userId": "01885423067234457717"
     },
     "user_tz": 240
    },
    "id": "3WDecBB--_8j",
    "outputId": "42fa3059-83de-4b46-c652-626dabf89ca9"
   },
   "outputs": [
    {
     "data": {
      "text/plain": [
       "19367.0"
      ]
     },
     "execution_count": 41,
     "metadata": {},
     "output_type": "execute_result"
    }
   ],
   "source": [
    "# median() returns the median value\n",
    "\n",
    "NY_bicycle.Total.median() "
   ]
  },
  {
   "cell_type": "code",
   "execution_count": 42,
   "metadata": {
    "colab": {
     "base_uri": "https://localhost:8080/"
    },
    "executionInfo": {
     "elapsed": 15,
     "status": "ok",
     "timestamp": 1695075436017,
     "user": {
      "displayName": "Ruwen Qin",
      "userId": "01885423067234457717"
     },
     "user_tz": 240
    },
    "id": "mWF_HmjzHrmZ",
    "outputId": "8d4c9f5e-144f-44f4-d936-206fb252f452"
   },
   "outputs": [
    {
     "data": {
      "text/plain": [
       "0    23159\n",
       "Name: Total, dtype: int64"
      ]
     },
     "execution_count": 42,
     "metadata": {},
     "output_type": "execute_result"
    }
   ],
   "source": [
    "# mode() returns the mode(s)\n",
    "\n",
    "NY_bicycle.Total.mode().round(1) "
   ]
  },
  {
   "cell_type": "markdown",
   "metadata": {
    "id": "Ib8Yp6OxETmb"
   },
   "source": [
    "## 3.2 Measurements of Variability\n",
    "\n",
    "Range, variance, standard deviation are commonly used statistics describing the variability/spread of data\n",
    "Suggested Exercises:\n",
    "1. Calculate the range of \"Total\"\n",
    "2. Calculate the variance of \"Total\"\n",
    "3. Calculate the standard deviation of \"Total\""
   ]
  },
  {
   "cell_type": "code",
   "execution_count": 43,
   "metadata": {
    "colab": {
     "base_uri": "https://localhost:8080/"
    },
    "executionInfo": {
     "elapsed": 12,
     "status": "ok",
     "timestamp": 1695075436018,
     "user": {
      "displayName": "Ruwen Qin",
      "userId": "01885423067234457717"
     },
     "user_tz": 240
    },
    "id": "ca6tKdNTAblj",
    "outputId": "e220c2b5-8093-4366-f604-953cfc981d87"
   },
   "outputs": [
    {
     "data": {
      "text/plain": [
       "24595"
      ]
     },
     "execution_count": 43,
     "metadata": {},
     "output_type": "execute_result"
    }
   ],
   "source": [
    "# find the range of a numerical column\n",
    "\n",
    "NY_bicycle.Total.max() - NY_bicycle.Total.min() "
   ]
  },
  {
   "cell_type": "code",
   "execution_count": 44,
   "metadata": {
    "colab": {
     "base_uri": "https://localhost:8080/"
    },
    "executionInfo": {
     "elapsed": 10,
     "status": "ok",
     "timestamp": 1695075436018,
     "user": {
      "displayName": "Ruwen Qin",
      "userId": "01885423067234457717"
     },
     "user_tz": 240
    },
    "id": "Afkli8OLHzwf",
    "outputId": "f510a075-d329-493c-cf46-7356a0ca072b"
   },
   "outputs": [
    {
     "data": {
      "text/plain": [
       "30686697.177240998"
      ]
     },
     "execution_count": 44,
     "metadata": {},
     "output_type": "execute_result"
    }
   ],
   "source": [
    "# var() returns the variance\n",
    "\n",
    "NY_bicycle.Total.var()"
   ]
  },
  {
   "cell_type": "code",
   "execution_count": 45,
   "metadata": {
    "colab": {
     "base_uri": "https://localhost:8080/"
    },
    "executionInfo": {
     "elapsed": 8,
     "status": "ok",
     "timestamp": 1695075436018,
     "user": {
      "displayName": "Ruwen Qin",
      "userId": "01885423067234457717"
     },
     "user_tz": 240
    },
    "id": "knKqiyk_IJaO",
    "outputId": "9692f359-c620-478d-b750-ecec2613ec19"
   },
   "outputs": [
    {
     "data": {
      "text/plain": [
       "5539.55748929831"
      ]
     },
     "execution_count": 45,
     "metadata": {},
     "output_type": "execute_result"
    }
   ],
   "source": [
    "# var() returns the sample standard deviation\n",
    "\n",
    "NY_bicycle.Total.std()"
   ]
  },
  {
   "cell_type": "markdown",
   "metadata": {},
   "source": [
    "## 3.3 Measurements of Shapes\n",
    "\n",
    "Skewness is a measure of asymmetry. Kurtosis is a measure of heaviness of tails.\n",
    "\n",
    "Suggested Exercises:\n",
    "1. What is the skewness of \"Total\"? How do you interpret the result?\n",
    "2. What is the kurtosis of the variable \"Total\"? How do you interpret the result?"
   ]
  },
  {
   "cell_type": "code",
   "execution_count": 46,
   "metadata": {},
   "outputs": [
    {
     "data": {
      "text/plain": [
       "-0.78"
      ]
     },
     "execution_count": 46,
     "metadata": {},
     "output_type": "execute_result"
    }
   ],
   "source": [
    "# Skewness is a measure of the asymmetry of the distribution of a real-valued numerical variable\n",
    "# skew() returns sample skewness\n",
    "# If the skewness value is less than zero, it indicates that the distribution is skewed to the left\n",
    "# If the skewness value is greater than zero, it indicates that the distribution is skewed to the right\n",
    "# If the skewness value is zero, it indicates the distribution is symmetric\n",
    "\n",
    "NY_bicycle.Total.skew().round(2)"
   ]
  },
  {
   "cell_type": "code",
   "execution_count": 47,
   "metadata": {},
   "outputs": [
    {
     "data": {
      "text/plain": [
       "0.005"
      ]
     },
     "execution_count": 47,
     "metadata": {},
     "output_type": "execute_result"
    }
   ],
   "source": [
    "# Kurtosis measures how heavy the tails of the distribution of a real-valued variable.\n",
    "# kurtosis() returns he sample kurtosis\n",
    "\n",
    "# Positive kurtosis indicates heavier tails and a higher peak\n",
    "# Negative kurtosis indicates lighter tails and a lower peak\n",
    "# Zero kurtosis suggests a distribution similar to the normal distribution in terms of tail behavior and peak.\n",
    "\n",
    "NY_bicycle.Total.kurtosis().round(3)"
   ]
  },
  {
   "cell_type": "markdown",
   "metadata": {
    "id": "NU3AAlZlnRG8"
   },
   "source": [
    "## 3.4 Measurements of Distribution\n",
    "\n",
    "quantiles and quartiles describe the data distribution\n",
    "\n",
    "1. What are 1st, 2nd, and 3rd quantiles? [Hint: use .quantile]\n",
    "2. What is the 0.99 quantile? [Hint: use .quantile]"
   ]
  },
  {
   "cell_type": "code",
   "execution_count": 48,
   "metadata": {
    "colab": {
     "base_uri": "https://localhost:8080/"
    },
    "executionInfo": {
     "elapsed": 146,
     "status": "ok",
     "timestamp": 1695075436158,
     "user": {
      "displayName": "Ruwen Qin",
      "userId": "01885423067234457717"
     },
     "user_tz": 240
    },
    "id": "BzUXKO7OITef",
    "outputId": "63b79a0c-3571-492d-f402-4e0a7b442ded"
   },
   "outputs": [
    {
     "data": {
      "text/plain": [
       "0.25    15704.75\n",
       "0.50    19367.00\n",
       "0.75    23151.50\n",
       "Name: Total, dtype: float64"
      ]
     },
     "execution_count": 48,
     "metadata": {},
     "output_type": "execute_result"
    }
   ],
   "source": [
    "# quantile() returns value(s) at the given quantile(s)\n",
    "\n",
    "NY_bicycle.Total.quantile([0.25,0.5,0.75]) "
   ]
  },
  {
   "cell_type": "code",
   "execution_count": 49,
   "metadata": {},
   "outputs": [
    {
     "data": {
      "text/plain": [
       "26700.3"
      ]
     },
     "execution_count": 49,
     "metadata": {},
     "output_type": "execute_result"
    }
   ],
   "source": [
    "# 0.99 quantile\n",
    "\n",
    "NY_bicycle.Total.quantile(0.99) "
   ]
  },
  {
   "cell_type": "code",
   "execution_count": 50,
   "metadata": {
    "colab": {
     "base_uri": "https://localhost:8080/",
     "height": 430
    },
    "executionInfo": {
     "elapsed": 405,
     "status": "ok",
     "timestamp": 1695075436561,
     "user": {
      "displayName": "Ruwen Qin",
      "userId": "01885423067234457717"
     },
     "user_tz": 240
    },
    "id": "b3x9oX87JevR",
    "outputId": "9525ebab-75fb-454b-84d7-e3a545dda8c4"
   },
   "outputs": [
    {
     "data": {
      "image/png": "[encoded data removed]",
      "text/plain": [
       "<Figure size 1000x600 with 1 Axes>"
      ]
     },
     "metadata": {},
     "output_type": "display_data"
    }
   ],
   "source": [
    "# generate a boxplot using plt.boxplot() for a numerical variable\n",
    "\n",
    "plt.subplots(figsize=(10,6))\n",
    "plt.boxplot(NY_bicycle.Total,\n",
    "            notch=True,\n",
    "            labels=['Daily Volume'],\n",
    "            showfliers=True, \n",
    "            showcaps=True,\n",
    "            showmeans=True)\n",
    "plt.show();\n"
   ]
  },
  {
   "cell_type": "code",
   "execution_count": 51,
   "metadata": {
    "colab": {
     "base_uri": "https://localhost:8080/",
     "height": 430
    },
    "executionInfo": {
     "elapsed": 693,
     "status": "ok",
     "timestamp": 1695075437248,
     "user": {
      "displayName": "Ruwen Qin",
      "userId": "01885423067234457717"
     },
     "user_tz": 240
    },
    "id": "e3o_vhsRMMmC",
    "outputId": "30847edc-6313-4364-cccf-2efec89a5d4a"
   },
   "outputs": [
    {
     "data": {
      "image/png": "[encoded data removed]",
      "text/plain": [
       "<Figure size 1000x600 with 1 Axes>"
      ]
     },
     "metadata": {},
     "output_type": "display_data"
    }
   ],
   "source": [
    "# generate a boxplot for each of mulitple numerical variables\n",
    "\n",
    "plt.subplots(figsize=(10,6))\n",
    "plt.boxplot([NY_bicycle.Brooklyn_Bridge,NY_bicycle.Manhattan_Bridge,NY_bicycle.Williamsburg_Bridge,NY_bicycle.Queensboro_Bridge],\n",
    "            notch=True,\n",
    "            labels=['Brookyln','Manhattan','Willamsburge','Queenboro'],\n",
    "            showfliers=True, \n",
    "            showcaps=True,\n",
    "            showmeans=True)\n",
    "plt.ylabel('Daily Volume')\n",
    "plt.show();"
   ]
  },
  {
   "cell_type": "markdown",
   "metadata": {
    "id": "H2g0ejmUIu7v"
   },
   "source": [
    "## 3.5 Measurements of Correlation\n",
    "\n",
    "Correlation coefficient and covariance between any two numerical variables can be calculated\n",
    "\n",
    "Suggested exercises:\n",
    "1. What is the correlation coefficient between any two numerical Series? [Hint: use .corr(numerical_only=True)]\n",
    "2. What is the correlation between \"Brooklyn_Bridge\" and \"Manhattan_Bridge\"?\n",
    "3. What is the covariance between any two numerical Series? [Hint: use .corr(numerical_only=True)]\n",
    "4. What is the covariance between \"Brooklyn_Bridge\" and \"Manhattan_Bridge\"?"
   ]
  },
  {
   "cell_type": "code",
   "execution_count": 52,
   "metadata": {
    "colab": {
     "base_uri": "https://localhost:8080/",
     "height": 356
    },
    "executionInfo": {
     "elapsed": 13,
     "status": "ok",
     "timestamp": 1695075437249,
     "user": {
      "displayName": "Ruwen Qin",
      "userId": "01885423067234457717"
     },
     "user_tz": 240
    },
    "id": "Ll_87nk5HsU-",
    "outputId": "1166608d-1daa-4007-8fe8-f142839b6b0e"
   },
   "outputs": [
    {
     "data": {
      "text/html": [
       "<div>\n",
       "<style scoped>\n",
       "    .dataframe tbody tr th:only-of-type {\n",
       "        vertical-align: middle;\n",
       "    }\n",
       "\n",
       "    .dataframe tbody tr th {\n",
       "        vertical-align: top;\n",
       "    }\n",
       "\n",
       "    .dataframe thead th {\n",
       "        text-align: right;\n",
       "    }\n",
       "</style>\n",
       "<table border=\"1\" class=\"dataframe\">\n",
       "  <thead>\n",
       "    <tr style=\"text-align: right;\">\n",
       "      <th></th>\n",
       "      <th>High_Temp_F</th>\n",
       "      <th>Low_Temp_F</th>\n",
       "      <th>Precipitation</th>\n",
       "      <th>Brooklyn_Bridge</th>\n",
       "      <th>Manhattan_Bridge</th>\n",
       "      <th>Williamsburg_Bridge</th>\n",
       "      <th>Queensboro_Bridge</th>\n",
       "      <th>Total</th>\n",
       "    </tr>\n",
       "  </thead>\n",
       "  <tbody>\n",
       "    <tr>\n",
       "      <th>High_Temp_F</th>\n",
       "      <td>1.000000</td>\n",
       "      <td>0.888940</td>\n",
       "      <td>-0.190442</td>\n",
       "      <td>0.494041</td>\n",
       "      <td>0.463184</td>\n",
       "      <td>0.479344</td>\n",
       "      <td>0.501628</td>\n",
       "      <td>0.492540</td>\n",
       "    </tr>\n",
       "    <tr>\n",
       "      <th>Low_Temp_F</th>\n",
       "      <td>0.888940</td>\n",
       "      <td>1.000000</td>\n",
       "      <td>-0.050033</td>\n",
       "      <td>0.294227</td>\n",
       "      <td>0.287516</td>\n",
       "      <td>0.314370</td>\n",
       "      <td>0.351267</td>\n",
       "      <td>0.318561</td>\n",
       "    </tr>\n",
       "    <tr>\n",
       "      <th>Precipitation</th>\n",
       "      <td>-0.190442</td>\n",
       "      <td>-0.050033</td>\n",
       "      <td>1.000000</td>\n",
       "      <td>-0.590547</td>\n",
       "      <td>-0.549799</td>\n",
       "      <td>-0.560134</td>\n",
       "      <td>-0.538428</td>\n",
       "      <td>-0.568953</td>\n",
       "    </tr>\n",
       "    <tr>\n",
       "      <th>Brooklyn_Bridge</th>\n",
       "      <td>0.494041</td>\n",
       "      <td>0.294227</td>\n",
       "      <td>-0.590547</td>\n",
       "      <td>1.000000</td>\n",
       "      <td>0.893562</td>\n",
       "      <td>0.886907</td>\n",
       "      <td>0.876249</td>\n",
       "      <td>0.923860</td>\n",
       "    </tr>\n",
       "    <tr>\n",
       "      <th>Manhattan_Bridge</th>\n",
       "      <td>0.463184</td>\n",
       "      <td>0.287516</td>\n",
       "      <td>-0.549799</td>\n",
       "      <td>0.893562</td>\n",
       "      <td>1.000000</td>\n",
       "      <td>0.982223</td>\n",
       "      <td>0.959859</td>\n",
       "      <td>0.990932</td>\n",
       "    </tr>\n",
       "    <tr>\n",
       "      <th>Williamsburg_Bridge</th>\n",
       "      <td>0.479344</td>\n",
       "      <td>0.314370</td>\n",
       "      <td>-0.560134</td>\n",
       "      <td>0.886907</td>\n",
       "      <td>0.982223</td>\n",
       "      <td>1.000000</td>\n",
       "      <td>0.963411</td>\n",
       "      <td>0.990773</td>\n",
       "    </tr>\n",
       "    <tr>\n",
       "      <th>Queensboro_Bridge</th>\n",
       "      <td>0.501628</td>\n",
       "      <td>0.351267</td>\n",
       "      <td>-0.538428</td>\n",
       "      <td>0.876249</td>\n",
       "      <td>0.959859</td>\n",
       "      <td>0.963411</td>\n",
       "      <td>1.000000</td>\n",
       "      <td>0.979112</td>\n",
       "    </tr>\n",
       "    <tr>\n",
       "      <th>Total</th>\n",
       "      <td>0.492540</td>\n",
       "      <td>0.318561</td>\n",
       "      <td>-0.568953</td>\n",
       "      <td>0.923860</td>\n",
       "      <td>0.990932</td>\n",
       "      <td>0.990773</td>\n",
       "      <td>0.979112</td>\n",
       "      <td>1.000000</td>\n",
       "    </tr>\n",
       "  </tbody>\n",
       "</table>\n",
       "</div>"
      ],
      "text/plain": [
       "                     High_Temp_F  Low_Temp_F  Precipitation  Brooklyn_Bridge  \\\n",
       "High_Temp_F             1.000000    0.888940      -0.190442         0.494041   \n",
       "Low_Temp_F              0.888940    1.000000      -0.050033         0.294227   \n",
       "Precipitation          -0.190442   -0.050033       1.000000        -0.590547   \n",
       "Brooklyn_Bridge         0.494041    0.294227      -0.590547         1.000000   \n",
       "Manhattan_Bridge        0.463184    0.287516      -0.549799         0.893562   \n",
       "Williamsburg_Bridge     0.479344    0.314370      -0.560134         0.886907   \n",
       "Queensboro_Bridge       0.501628    0.351267      -0.538428         0.876249   \n",
       "Total                   0.492540    0.318561      -0.568953         0.923860   \n",
       "\n",
       "                     Manhattan_Bridge  Williamsburg_Bridge  Queensboro_Bridge  \\\n",
       "High_Temp_F                  0.463184             0.479344           0.501628   \n",
       "Low_Temp_F                   0.287516             0.314370           0.351267   \n",
       "Precipitation               -0.549799            -0.560134          -0.538428   \n",
       "Brooklyn_Bridge              0.893562             0.886907           0.876249   \n",
       "Manhattan_Bridge             1.000000             0.982223           0.959859   \n",
       "Williamsburg_Bridge          0.982223             1.000000           0.963411   \n",
       "Queensboro_Bridge            0.959859             0.963411           1.000000   \n",
       "Total                        0.990932             0.990773           0.979112   \n",
       "\n",
       "                        Total  \n",
       "High_Temp_F          0.492540  \n",
       "Low_Temp_F           0.318561  \n",
       "Precipitation       -0.568953  \n",
       "Brooklyn_Bridge      0.923860  \n",
       "Manhattan_Bridge     0.990932  \n",
       "Williamsburg_Bridge  0.990773  \n",
       "Queensboro_Bridge    0.979112  \n",
       "Total                1.000000  "
      ]
     },
     "execution_count": 52,
     "metadata": {},
     "output_type": "execute_result"
    }
   ],
   "source": [
    "# corr() returns the correlation coefficient between any two numerical columns\n",
    "\n",
    "NY_bicycle.corr(numeric_only=True) "
   ]
  },
  {
   "cell_type": "code",
   "execution_count": 53,
   "metadata": {
    "colab": {
     "base_uri": "https://localhost:8080/"
    },
    "executionInfo": {
     "elapsed": 9,
     "status": "ok",
     "timestamp": 1695075437249,
     "user": {
      "displayName": "Ruwen Qin",
      "userId": "01885423067234457717"
     },
     "user_tz": 240
    },
    "id": "-SwN8s4nI1-K",
    "outputId": "db74a17a-f0c4-4940-8bb8-f882d319f913"
   },
   "outputs": [
    {
     "data": {
      "text/plain": [
       "0.89"
      ]
     },
     "execution_count": 53,
     "metadata": {},
     "output_type": "execute_result"
    }
   ],
   "source": [
    "# corr() returns the correlation coefficient between two columns\n",
    "\n",
    "NY_bicycle.Brooklyn_Bridge.corr(NY_bicycle.Manhattan_Bridge).round(2) "
   ]
  },
  {
   "cell_type": "code",
   "execution_count": 54,
   "metadata": {
    "colab": {
     "base_uri": "https://localhost:8080/",
     "height": 356
    },
    "executionInfo": {
     "elapsed": 237,
     "status": "ok",
     "timestamp": 1695075437480,
     "user": {
      "displayName": "Ruwen Qin",
      "userId": "01885423067234457717"
     },
     "user_tz": 240
    },
    "id": "HXvmPcszJGCt",
    "outputId": "7d6f8b01-9c5f-42be-98fc-1cc16e666034"
   },
   "outputs": [
    {
     "data": {
      "text/html": [
       "<div>\n",
       "<style scoped>\n",
       "    .dataframe tbody tr th:only-of-type {\n",
       "        vertical-align: middle;\n",
       "    }\n",
       "\n",
       "    .dataframe tbody tr th {\n",
       "        vertical-align: top;\n",
       "    }\n",
       "\n",
       "    .dataframe thead th {\n",
       "        text-align: right;\n",
       "    }\n",
       "</style>\n",
       "<table border=\"1\" class=\"dataframe\">\n",
       "  <thead>\n",
       "    <tr style=\"text-align: right;\">\n",
       "      <th></th>\n",
       "      <th>High_Temp_F</th>\n",
       "      <th>Low_Temp_F</th>\n",
       "      <th>Precipitation</th>\n",
       "      <th>Brooklyn_Bridge</th>\n",
       "      <th>Manhattan_Bridge</th>\n",
       "      <th>Williamsburg_Bridge</th>\n",
       "      <th>Queensboro_Bridge</th>\n",
       "      <th>Total</th>\n",
       "    </tr>\n",
       "  </thead>\n",
       "  <tbody>\n",
       "    <tr>\n",
       "      <th>High_Temp_F</th>\n",
       "      <td>107.961311</td>\n",
       "      <td>85.952766</td>\n",
       "      <td>-0.787851</td>\n",
       "      <td>4.387496e+03</td>\n",
       "      <td>8.405581e+03</td>\n",
       "      <td>8.745010e+03</td>\n",
       "      <td>6.811739e+03</td>\n",
       "      <td>2.834983e+04</td>\n",
       "    </tr>\n",
       "    <tr>\n",
       "      <th>Low_Temp_F</th>\n",
       "      <td>85.952766</td>\n",
       "      <td>86.597760</td>\n",
       "      <td>-0.186802</td>\n",
       "      <td>2.340213e+03</td>\n",
       "      <td>4.672999e+03</td>\n",
       "      <td>5.136577e+03</td>\n",
       "      <td>4.272020e+03</td>\n",
       "      <td>1.642181e+04</td>\n",
       "    </tr>\n",
       "    <tr>\n",
       "      <th>Precipitation</th>\n",
       "      <td>-0.787851</td>\n",
       "      <td>-0.186802</td>\n",
       "      <td>0.165032</td>\n",
       "      <td>-2.089783e+02</td>\n",
       "      <td>-3.972729e+02</td>\n",
       "      <td>-4.064888e+02</td>\n",
       "      <td>-2.894946e+02</td>\n",
       "      <td>-1.302235e+03</td>\n",
       "    </tr>\n",
       "    <tr>\n",
       "      <th>Brooklyn_Bridge</th>\n",
       "      <td>4387.495696</td>\n",
       "      <td>2340.213409</td>\n",
       "      <td>-208.978312</td>\n",
       "      <td>7.305307e+05</td>\n",
       "      <td>1.333903e+06</td>\n",
       "      <td>1.330994e+06</td>\n",
       "      <td>9.787894e+05</td>\n",
       "      <td>4.374217e+06</td>\n",
       "    </tr>\n",
       "    <tr>\n",
       "      <th>Manhattan_Bridge</th>\n",
       "      <td>8405.580777</td>\n",
       "      <td>4672.999443</td>\n",
       "      <td>-397.272925</td>\n",
       "      <td>1.333903e+06</td>\n",
       "      <td>3.050425e+06</td>\n",
       "      <td>3.012097e+06</td>\n",
       "      <td>2.190937e+06</td>\n",
       "      <td>9.587361e+06</td>\n",
       "    </tr>\n",
       "    <tr>\n",
       "      <th>Williamsburg_Bridge</th>\n",
       "      <td>8745.010500</td>\n",
       "      <td>5136.576894</td>\n",
       "      <td>-406.488844</td>\n",
       "      <td>1.330994e+06</td>\n",
       "      <td>3.012097e+06</td>\n",
       "      <td>3.082886e+06</td>\n",
       "      <td>2.210715e+06</td>\n",
       "      <td>9.636692e+06</td>\n",
       "    </tr>\n",
       "    <tr>\n",
       "      <th>Queensboro_Bridge</th>\n",
       "      <td>6811.738985</td>\n",
       "      <td>4272.020442</td>\n",
       "      <td>-289.494618</td>\n",
       "      <td>9.787894e+05</td>\n",
       "      <td>2.190937e+06</td>\n",
       "      <td>2.210715e+06</td>\n",
       "      <td>1.707987e+06</td>\n",
       "      <td>7.088428e+06</td>\n",
       "    </tr>\n",
       "    <tr>\n",
       "      <th>Total</th>\n",
       "      <td>28349.825958</td>\n",
       "      <td>16421.810188</td>\n",
       "      <td>-1302.234698</td>\n",
       "      <td>4.374217e+06</td>\n",
       "      <td>9.587361e+06</td>\n",
       "      <td>9.636692e+06</td>\n",
       "      <td>7.088428e+06</td>\n",
       "      <td>3.068670e+07</td>\n",
       "    </tr>\n",
       "  </tbody>\n",
       "</table>\n",
       "</div>"
      ],
      "text/plain": [
       "                      High_Temp_F    Low_Temp_F  Precipitation  \\\n",
       "High_Temp_F            107.961311     85.952766      -0.787851   \n",
       "Low_Temp_F              85.952766     86.597760      -0.186802   \n",
       "Precipitation           -0.787851     -0.186802       0.165032   \n",
       "Brooklyn_Bridge       4387.495696   2340.213409    -208.978312   \n",
       "Manhattan_Bridge      8405.580777   4672.999443    -397.272925   \n",
       "Williamsburg_Bridge   8745.010500   5136.576894    -406.488844   \n",
       "Queensboro_Bridge     6811.738985   4272.020442    -289.494618   \n",
       "Total                28349.825958  16421.810188   -1302.234698   \n",
       "\n",
       "                     Brooklyn_Bridge  Manhattan_Bridge  Williamsburg_Bridge  \\\n",
       "High_Temp_F             4.387496e+03      8.405581e+03         8.745010e+03   \n",
       "Low_Temp_F              2.340213e+03      4.672999e+03         5.136577e+03   \n",
       "Precipitation          -2.089783e+02     -3.972729e+02        -4.064888e+02   \n",
       "Brooklyn_Bridge         7.305307e+05      1.333903e+06         1.330994e+06   \n",
       "Manhattan_Bridge        1.333903e+06      3.050425e+06         3.012097e+06   \n",
       "Williamsburg_Bridge     1.330994e+06      3.012097e+06         3.082886e+06   \n",
       "Queensboro_Bridge       9.787894e+05      2.190937e+06         2.210715e+06   \n",
       "Total                   4.374217e+06      9.587361e+06         9.636692e+06   \n",
       "\n",
       "                     Queensboro_Bridge         Total  \n",
       "High_Temp_F               6.811739e+03  2.834983e+04  \n",
       "Low_Temp_F                4.272020e+03  1.642181e+04  \n",
       "Precipitation            -2.894946e+02 -1.302235e+03  \n",
       "Brooklyn_Bridge           9.787894e+05  4.374217e+06  \n",
       "Manhattan_Bridge          2.190937e+06  9.587361e+06  \n",
       "Williamsburg_Bridge       2.210715e+06  9.636692e+06  \n",
       "Queensboro_Bridge         1.707987e+06  7.088428e+06  \n",
       "Total                     7.088428e+06  3.068670e+07  "
      ]
     },
     "execution_count": 54,
     "metadata": {},
     "output_type": "execute_result"
    }
   ],
   "source": [
    "# cov() returns the covariance between any two numerical columns\n",
    "\n",
    "NY_bicycle.cov(numeric_only=True) "
   ]
  },
  {
   "cell_type": "code",
   "execution_count": 55,
   "metadata": {
    "colab": {
     "base_uri": "https://localhost:8080/"
    },
    "executionInfo": {
     "elapsed": 10,
     "status": "ok",
     "timestamp": 1695075437481,
     "user": {
      "displayName": "Ruwen Qin",
      "userId": "01885423067234457717"
     },
     "user_tz": 240
    },
    "id": "M648GXHQJPEG",
    "outputId": "545c1631-739f-48ae-b5c7-b6ebd5304477"
   },
   "outputs": [
    {
     "data": {
      "text/plain": [
       "1333902.83"
      ]
     },
     "execution_count": 55,
     "metadata": {},
     "output_type": "execute_result"
    }
   ],
   "source": [
    "# returns the covariance between two specific numerical columns\n",
    "\n",
    "NY_bicycle.Brooklyn_Bridge.cov(NY_bicycle.Manhattan_Bridge).round(2) "
   ]
  },
  {
   "cell_type": "code",
   "execution_count": 56,
   "metadata": {
    "colab": {
     "base_uri": "https://localhost:8080/",
     "height": 449
    },
    "executionInfo": {
     "elapsed": 1068,
     "status": "ok",
     "timestamp": 1695075438542,
     "user": {
      "displayName": "Ruwen Qin",
      "userId": "01885423067234457717"
     },
     "user_tz": 240
    },
    "id": "rQJmKj3oJc0q",
    "outputId": "54d6dee4-149b-4c5d-fa4d-ee626ce298bc"
   },
   "outputs": [
    {
     "data": {
      "image/png": "[encoded data removed]",
      "text/plain": [
       "<Figure size 1000x600 with 2 Axes>"
      ]
     },
     "metadata": {},
     "output_type": "display_data"
    }
   ],
   "source": [
    "# generate scatter plot using plt.scatter() to visualize the correlation between two numerical variables\n",
    "\n",
    "plt.subplots(figsize=(10,6))\n",
    "plt.scatter(x=NY_bicycle.Brooklyn_Bridge,y=NY_bicycle.Manhattan_Bridge,c=NY_bicycle.High_Temp_F,cmap='viridis') # plt.scatter() returns a scatter plot of two numerical columns to show there association. The color is the 'High_Temp_F' value of each data point\n",
    "plt.xlabel('Daily bicycle volume at Brooklyn Bridges') #plt.xlabel() defines the x label of the plot\n",
    "plt.ylabel('Daily bicle volume at Manhattan Bridges') #plt.ylabel() defines the y label of the plot\n",
    "plt.colorbar() # displays the colorbar\n",
    "plt.show();"
   ]
  },
  {
   "cell_type": "code",
   "execution_count": null,
   "metadata": {
    "colab": {
     "base_uri": "https://localhost:8080/",
     "height": 0
    },
    "executionInfo": {
     "elapsed": 8748,
     "status": "ok",
     "timestamp": 1695075447285,
     "user": {
      "displayName": "Ruwen Qin",
      "userId": "01885423067234457717"
     },
     "user_tz": 240
    },
    "id": "cSdC6keSPmGx",
    "outputId": "df5ea6b4-7a5f-4a06-cae8-748348183d8f"
   },
   "outputs": [],
   "source": [
    "# generate satter plot matrix using pd.plotting.scatter_matrix()\n",
    "\n",
    "pd.plotting.scatter_matrix(NY_bicycle,alpha=0.2,figsize=(15,15)) #pd.plotting.scatter_matrix() generates the matrix of scatter plots\n",
    "plt.show();"
   ]
  },
  {
   "cell_type": "markdown",
   "metadata": {
    "id": "vQT2FK6fSw5G"
   },
   "source": [
    "# 4. Grouping & Aggregrating Data"
   ]
  },
  {
   "cell_type": "markdown",
   "metadata": {},
   "source": [
    "## 4.1 Time Series\n",
    "\n",
    "If the dataset contains records collected overtime, it is helpful to formulate the data as time series data. In the dataset NY_bicycle. One column is a string Series named \"Date\", and another column is also a string Series named \"Day\". We can convert \"Date\" to DateTime Series, and convert \"Day\" to ordered categorical variable. Thereby, we can take advantages of methods and tools developed for time series data.\n",
    "\n",
    "Suggested Exercise:\n",
    "1. Convert the DataFrame NY_bicycle into a a time series dataset by creating a new DataFrame (name it as NY_bicycle_ts) whose index is a DateTimeIndex object with values equal to 'Date' in the DataFrame NY_bicycle.[Hint: pandas.to_datetime, and .set_index can be considered]\n",
    "2. Convert the string Series \"Day\" of NY_bicycle_ts into ordered categorical variable [Hint: set up arguments in pandas.Categorical()] \n",
    "3. Can you count bicycles by \"Day\"? Please format the counts as comma separated integers (e.g., 42,421). What does your result look like if you skipped step 2?\n",
    "4. Can you count bicycles by months? Please format the counts as comma separated integers. [Hint: downsampling to monthly data using the resample method]"
   ]
  },
  {
   "cell_type": "code",
   "execution_count": 58,
   "metadata": {},
   "outputs": [
    {
     "data": {
      "text/html": [
       "<div>\n",
       "<style scoped>\n",
       "    .dataframe tbody tr th:only-of-type {\n",
       "        vertical-align: middle;\n",
       "    }\n",
       "\n",
       "    .dataframe tbody tr th {\n",
       "        vertical-align: top;\n",
       "    }\n",
       "\n",
       "    .dataframe thead th {\n",
       "        text-align: right;\n",
       "    }\n",
       "</style>\n",
       "<table border=\"1\" class=\"dataframe\">\n",
       "  <thead>\n",
       "    <tr style=\"text-align: right;\">\n",
       "      <th></th>\n",
       "      <th>Day</th>\n",
       "      <th>High_Temp_F</th>\n",
       "      <th>Low_Temp_F</th>\n",
       "      <th>Precipitation</th>\n",
       "      <th>Weather</th>\n",
       "      <th>Brooklyn_Bridge</th>\n",
       "      <th>Manhattan_Bridge</th>\n",
       "      <th>Williamsburg_Bridge</th>\n",
       "      <th>Queensboro_Bridge</th>\n",
       "      <th>Total</th>\n",
       "    </tr>\n",
       "    <tr>\n",
       "      <th>Date</th>\n",
       "      <th></th>\n",
       "      <th></th>\n",
       "      <th></th>\n",
       "      <th></th>\n",
       "      <th></th>\n",
       "      <th></th>\n",
       "      <th></th>\n",
       "      <th></th>\n",
       "      <th></th>\n",
       "      <th></th>\n",
       "    </tr>\n",
       "  </thead>\n",
       "  <tbody>\n",
       "    <tr>\n",
       "      <th>2017-04-01</th>\n",
       "      <td>Saturday</td>\n",
       "      <td>46.0</td>\n",
       "      <td>37.0</td>\n",
       "      <td>0.00</td>\n",
       "      <td>N</td>\n",
       "      <td>606</td>\n",
       "      <td>1446</td>\n",
       "      <td>1915</td>\n",
       "      <td>1430</td>\n",
       "      <td>5397</td>\n",
       "    </tr>\n",
       "    <tr>\n",
       "      <th>2017-04-02</th>\n",
       "      <td>Sunday</td>\n",
       "      <td>62.1</td>\n",
       "      <td>41.0</td>\n",
       "      <td>0.00</td>\n",
       "      <td>N</td>\n",
       "      <td>2021</td>\n",
       "      <td>3943</td>\n",
       "      <td>4207</td>\n",
       "      <td>2862</td>\n",
       "      <td>13033</td>\n",
       "    </tr>\n",
       "    <tr>\n",
       "      <th>2017-04-03</th>\n",
       "      <td>Monday</td>\n",
       "      <td>63.0</td>\n",
       "      <td>50.0</td>\n",
       "      <td>0.03</td>\n",
       "      <td>R</td>\n",
       "      <td>2470</td>\n",
       "      <td>4988</td>\n",
       "      <td>5178</td>\n",
       "      <td>3689</td>\n",
       "      <td>16325</td>\n",
       "    </tr>\n",
       "    <tr>\n",
       "      <th>2017-04-04</th>\n",
       "      <td>Tuesday</td>\n",
       "      <td>51.1</td>\n",
       "      <td>46.0</td>\n",
       "      <td>1.18</td>\n",
       "      <td>R</td>\n",
       "      <td>723</td>\n",
       "      <td>1913</td>\n",
       "      <td>2279</td>\n",
       "      <td>1666</td>\n",
       "      <td>6581</td>\n",
       "    </tr>\n",
       "    <tr>\n",
       "      <th>2017-04-05</th>\n",
       "      <td>Wednesday</td>\n",
       "      <td>63.0</td>\n",
       "      <td>46.0</td>\n",
       "      <td>0.00</td>\n",
       "      <td>N</td>\n",
       "      <td>2807</td>\n",
       "      <td>5276</td>\n",
       "      <td>5711</td>\n",
       "      <td>4197</td>\n",
       "      <td>17991</td>\n",
       "    </tr>\n",
       "  </tbody>\n",
       "</table>\n",
       "</div>"
      ],
      "text/plain": [
       "                  Day  High_Temp_F  Low_Temp_F  Precipitation Weather  \\\n",
       "Date                                                                    \n",
       "2017-04-01   Saturday         46.0        37.0           0.00       N   \n",
       "2017-04-02     Sunday         62.1        41.0           0.00       N   \n",
       "2017-04-03     Monday         63.0        50.0           0.03       R   \n",
       "2017-04-04    Tuesday         51.1        46.0           1.18       R   \n",
       "2017-04-05  Wednesday         63.0        46.0           0.00       N   \n",
       "\n",
       "            Brooklyn_Bridge  Manhattan_Bridge  Williamsburg_Bridge  \\\n",
       "Date                                                                 \n",
       "2017-04-01              606              1446                 1915   \n",
       "2017-04-02             2021              3943                 4207   \n",
       "2017-04-03             2470              4988                 5178   \n",
       "2017-04-04              723              1913                 2279   \n",
       "2017-04-05             2807              5276                 5711   \n",
       "\n",
       "            Queensboro_Bridge  Total  \n",
       "Date                                  \n",
       "2017-04-01               1430   5397  \n",
       "2017-04-02               2862  13033  \n",
       "2017-04-03               3689  16325  \n",
       "2017-04-04               1666   6581  \n",
       "2017-04-05               4197  17991  "
      ]
     },
     "execution_count": 58,
     "metadata": {},
     "output_type": "execute_result"
    }
   ],
   "source": [
    "# save the DataFrame as a new one whose column \"Date\" is converted into the DateTimeIndex\n",
    "\n",
    "Date_datetime = pd.to_datetime(NY_bicycle.Date+'-2017', format='%d-%b-%Y') # pandas.to_datetime() converts the string Series \"Date\" to DateTime\n",
    "NY_bicycle_ts=NY_bicycle.set_index(Date_datetime) # set \"Date\" formatted as DateTime as the index\n",
    "del NY_bicycle_ts['Date'] # drop the original column \"Date\"\n",
    "NY_bicycle_ts.head()"
   ]
  },
  {
   "cell_type": "code",
   "execution_count": null,
   "metadata": {},
   "outputs": [],
   "source": [
    "# convert the Series \"Day\" to ordered categorical variable\n",
    "\n",
    "ordered_categories = ['Monday', 'Tuesday', 'Wednesday', 'Thursday', 'Friday', 'Saturday', 'Sunday']\n",
    "NY_bicycle_ts['Day'] = pd.Categorical(NY_bicycle_ts['Day'], categories=ordered_categories, ordered=True)"
   ]
  },
  {
   "cell_type": "code",
   "execution_count": 59,
   "metadata": {},
   "outputs": [
    {
     "data": {
      "text/html": [
       "<div>\n",
       "<style scoped>\n",
       "    .dataframe tbody tr th:only-of-type {\n",
       "        vertical-align: middle;\n",
       "    }\n",
       "\n",
       "    .dataframe tbody tr th {\n",
       "        vertical-align: top;\n",
       "    }\n",
       "\n",
       "    .dataframe thead th {\n",
       "        text-align: right;\n",
       "    }\n",
       "</style>\n",
       "<table border=\"1\" class=\"dataframe\">\n",
       "  <thead>\n",
       "    <tr style=\"text-align: right;\">\n",
       "      <th></th>\n",
       "      <th>Total</th>\n",
       "    </tr>\n",
       "    <tr>\n",
       "      <th>Day</th>\n",
       "      <th></th>\n",
       "    </tr>\n",
       "  </thead>\n",
       "  <tbody>\n",
       "    <tr>\n",
       "      <th>Friday</th>\n",
       "      <td>557,188</td>\n",
       "    </tr>\n",
       "    <tr>\n",
       "      <th>Monday</th>\n",
       "      <td>574,713</td>\n",
       "    </tr>\n",
       "    <tr>\n",
       "      <th>Saturday</th>\n",
       "      <td>466,481</td>\n",
       "    </tr>\n",
       "    <tr>\n",
       "      <th>Sunday</th>\n",
       "      <td>464,769</td>\n",
       "    </tr>\n",
       "    <tr>\n",
       "      <th>Thursday</th>\n",
       "      <td>638,553</td>\n",
       "    </tr>\n",
       "    <tr>\n",
       "      <th>Tuesday</th>\n",
       "      <td>627,871</td>\n",
       "    </tr>\n",
       "    <tr>\n",
       "      <th>Wednesday</th>\n",
       "      <td>656,748</td>\n",
       "    </tr>\n",
       "  </tbody>\n",
       "</table>\n",
       "</div>"
      ],
      "text/plain": [
       "             Total\n",
       "Day               \n",
       "Friday     557,188\n",
       "Monday     574,713\n",
       "Saturday   466,481\n",
       "Sunday     464,769\n",
       "Thursday   638,553\n",
       "Tuesday    627,871\n",
       "Wednesday  656,748"
      ]
     },
     "execution_count": 59,
     "metadata": {},
     "output_type": "execute_result"
    }
   ],
   "source": [
    "# aggregrate total count by days of week\n",
    "\n",
    "# groupby \"Day\"\n",
    "# aggregrate data with sum()\n",
    "# format dadta as comma separated values using .map\n",
    "# use to_frame to present result as a DataFrame\n",
    "\n",
    "NY_bicycle_ts.groupby('Day', observed=False).Total.sum().map('{:,}'.format).to_frame()"
   ]
  },
  {
   "cell_type": "code",
   "execution_count": 60,
   "metadata": {},
   "outputs": [
    {
     "data": {
      "text/html": [
       "<div>\n",
       "<style scoped>\n",
       "    .dataframe tbody tr th:only-of-type {\n",
       "        vertical-align: middle;\n",
       "    }\n",
       "\n",
       "    .dataframe tbody tr th {\n",
       "        vertical-align: top;\n",
       "    }\n",
       "\n",
       "    .dataframe thead th {\n",
       "        text-align: right;\n",
       "    }\n",
       "</style>\n",
       "<table border=\"1\" class=\"dataframe\">\n",
       "  <thead>\n",
       "    <tr style=\"text-align: right;\">\n",
       "      <th></th>\n",
       "      <th>Total</th>\n",
       "    </tr>\n",
       "    <tr>\n",
       "      <th>Date</th>\n",
       "      <th></th>\n",
       "    </tr>\n",
       "  </thead>\n",
       "  <tbody>\n",
       "    <tr>\n",
       "      <th>2017-04-30</th>\n",
       "      <td>450,872</td>\n",
       "    </tr>\n",
       "    <tr>\n",
       "      <th>2017-05-31</th>\n",
       "      <td>533,062</td>\n",
       "    </tr>\n",
       "    <tr>\n",
       "      <th>2017-06-30</th>\n",
       "      <td>596,815</td>\n",
       "    </tr>\n",
       "    <tr>\n",
       "      <th>2017-07-31</th>\n",
       "      <td>582,950</td>\n",
       "    </tr>\n",
       "    <tr>\n",
       "      <th>2017-08-31</th>\n",
       "      <td>631,382</td>\n",
       "    </tr>\n",
       "    <tr>\n",
       "      <th>2017-09-30</th>\n",
       "      <td>613,045</td>\n",
       "    </tr>\n",
       "    <tr>\n",
       "      <th>2017-10-31</th>\n",
       "      <td>578,197</td>\n",
       "    </tr>\n",
       "  </tbody>\n",
       "</table>\n",
       "</div>"
      ],
      "text/plain": [
       "              Total\n",
       "Date               \n",
       "2017-04-30  450,872\n",
       "2017-05-31  533,062\n",
       "2017-06-30  596,815\n",
       "2017-07-31  582,950\n",
       "2017-08-31  631,382\n",
       "2017-09-30  613,045\n",
       "2017-10-31  578,197"
      ]
     },
     "execution_count": 60,
     "metadata": {},
     "output_type": "execute_result"
    }
   ],
   "source": [
    "# aggregate total counts by months\n",
    "\n",
    "NY_bicycle_ts.Total.resample(\"M\",closed=\"right\", label=\"right\").sum().map('{:,}'.format).to_frame()"
   ]
  },
  {
   "cell_type": "markdown",
   "metadata": {},
   "source": [
    "## 4.2 Aggregrate Data with groupby\n",
    "\n",
    "The instance method groupby allows dividing the dataset by one or more attributes. After that, we can aggregrate the data within each segment using descriptive statistics.\n",
    "\n",
    "Suggested Exercises:\n",
    "1. aggregate daily counts of bicycles to become total counts by 'Weather\", and name the aggregrated value as \"Total Count\". Please format the counts as comma-separated integers. [hint: .map({:,}.format and to_frame('name')))\n",
    "2. repeat step 1 but sort values in the ascending order \n",
    "3. group data by \"Weather\", and output the key and size of each subgroup [Hint: key and data of each subgroup are part of the output object]\n",
    "4. aggregrate daily counts of bicycles to become total counts by \"Weather\" and \"Day\". Please format the counts as comma-separated integers. \n",
    "5. Unstack the result in step 4 by changing \"Weather\" from index to column [Hint: use unstack(level=). In order to use unstack, convert \"Weather\" and \"Day\" to index]\n",
    "6. group data by \"Weather\" and \"Day\". Then, calculate the following descriptive statistics of \"Total\" for each subgroup: mean, standard deviation, minimum, maximum, median. Keep 1 digit after the decimal point.[Hint: .agg(dict{})\n",
    "7. reset the index for the output from step 6. What changes do you observe?\n",
    "8. [Optional] group data by \"Day\", then aggregrate Weather data in each subgroup as a string. For example, if a subgroup has five data points with \"Weather\" being 'N', 'N', 'R','N', 'T', the string is 'N,N,R,N,T'. [Hint: consider the join method]\n",
    "9. [Optional] group data by \"Weather\", then aggregrate Day data in each subgroup as a list.\n",
    "10. group data by \"Day\" and then determine the unique types of weather occured on each day of week. [Hint: use .nunique() method)\n",
    "11. group data by \"Weather\" and aggregrate data as the sum of \"Total\". Plot a bar chart to show the aggregrated result. What's your observation? [Hint: .plot()]\n",
    "13. \n",
    "12. group data by \"Day\" and then aggregrate data by the sum of \"Total\". plot a line chart to show the aggregrated result. What's your observation?\n",
    "14. group data by \"Weather\". For each subgroup, aggregrate \"Total\" as mean and \"Precipitation\" as stdandard deviation [hint: .agg({dict})]\n",
    "15. group data by \"Weather\", and then get the subgroup with \"Weather\"=='T' [hint: .get_group()]\n",
    "16. group data by \"Weather\" and then generate a random sample of size 3 from each of the subgroup. [Hint: .apply(lambda x: x.sample(3))]"
   ]
  },
  {
   "cell_type": "code",
   "execution_count": 61,
   "metadata": {
    "colab": {
     "base_uri": "https://localhost:8080/"
    },
    "executionInfo": {
     "elapsed": 22,
     "status": "ok",
     "timestamp": 1695075447285,
     "user": {
      "displayName": "Ruwen Qin",
      "userId": "01885423067234457717"
     },
     "user_tz": 240
    },
    "id": "Zdoe2C8nS2Qy",
    "outputId": "50497686-6ecb-4643-cfc7-5a80c263eb5d"
   },
   "outputs": [
    {
     "data": {
      "text/html": [
       "<div>\n",
       "<style scoped>\n",
       "    .dataframe tbody tr th:only-of-type {\n",
       "        vertical-align: middle;\n",
       "    }\n",
       "\n",
       "    .dataframe tbody tr th {\n",
       "        vertical-align: top;\n",
       "    }\n",
       "\n",
       "    .dataframe thead th {\n",
       "        text-align: right;\n",
       "    }\n",
       "</style>\n",
       "<table border=\"1\" class=\"dataframe\">\n",
       "  <thead>\n",
       "    <tr style=\"text-align: right;\">\n",
       "      <th></th>\n",
       "      <th>Total Count</th>\n",
       "    </tr>\n",
       "    <tr>\n",
       "      <th>Weather</th>\n",
       "      <th></th>\n",
       "    </tr>\n",
       "  </thead>\n",
       "  <tbody>\n",
       "    <tr>\n",
       "      <th>N</th>\n",
       "      <td>2,741,334</td>\n",
       "    </tr>\n",
       "    <tr>\n",
       "      <th>R</th>\n",
       "      <td>977,751</td>\n",
       "    </tr>\n",
       "    <tr>\n",
       "      <th>T</th>\n",
       "      <td>267,238</td>\n",
       "    </tr>\n",
       "  </tbody>\n",
       "</table>\n",
       "</div>"
      ],
      "text/plain": [
       "        Total Count\n",
       "Weather            \n",
       "N         2,741,334\n",
       "R           977,751\n",
       "T           267,238"
      ]
     },
     "execution_count": 61,
     "metadata": {},
     "output_type": "execute_result"
    }
   ],
   "source": [
    "# Distribution of bicycle counts by weather types\n",
    "\n",
    "# groupby \"Weather\"\n",
    "# aggregrate data with sum()\n",
    "# format dadta as comma separated values using .map\n",
    "# use to_frame to present result as a DataFrame\n",
    "\n",
    "out4 = NY_bicycle_ts.groupby('Weather').Total.sum().map('{:,}'.format).to_frame('Total Count') \n",
    "out4"
   ]
  },
  {
   "cell_type": "code",
   "execution_count": 62,
   "metadata": {},
   "outputs": [
    {
     "data": {
      "text/html": [
       "<div>\n",
       "<style scoped>\n",
       "    .dataframe tbody tr th:only-of-type {\n",
       "        vertical-align: middle;\n",
       "    }\n",
       "\n",
       "    .dataframe tbody tr th {\n",
       "        vertical-align: top;\n",
       "    }\n",
       "\n",
       "    .dataframe thead th {\n",
       "        text-align: right;\n",
       "    }\n",
       "</style>\n",
       "<table border=\"1\" class=\"dataframe\">\n",
       "  <thead>\n",
       "    <tr style=\"text-align: right;\">\n",
       "      <th></th>\n",
       "      <th>Total Count</th>\n",
       "    </tr>\n",
       "    <tr>\n",
       "      <th>Weather</th>\n",
       "      <th></th>\n",
       "    </tr>\n",
       "  </thead>\n",
       "  <tbody>\n",
       "    <tr>\n",
       "      <th>T</th>\n",
       "      <td>267,238</td>\n",
       "    </tr>\n",
       "    <tr>\n",
       "      <th>R</th>\n",
       "      <td>977,751</td>\n",
       "    </tr>\n",
       "    <tr>\n",
       "      <th>N</th>\n",
       "      <td>2,741,334</td>\n",
       "    </tr>\n",
       "  </tbody>\n",
       "</table>\n",
       "</div>"
      ],
      "text/plain": [
       "        Total Count\n",
       "Weather            \n",
       "T           267,238\n",
       "R           977,751\n",
       "N         2,741,334"
      ]
     },
     "execution_count": 62,
     "metadata": {},
     "output_type": "execute_result"
    }
   ],
   "source": [
    "# sort the DataFrame by \"Total Count\" in ascending order\n",
    "\n",
    "out5 = NY_bicycle_ts.groupby('Weather').Total.sum().sort_values().map('{:,}'.format).to_frame('Total Count') \n",
    "out5\n"
   ]
  },
  {
   "cell_type": "code",
   "execution_count": 63,
   "metadata": {
    "colab": {
     "base_uri": "https://localhost:8080/"
    },
    "executionInfo": {
     "elapsed": 16,
     "status": "ok",
     "timestamp": 1695075447285,
     "user": {
      "displayName": "Ruwen Qin",
      "userId": "01885423067234457717"
     },
     "user_tz": 240
    },
    "id": "t4TRJuNOn_kS",
    "outputId": "191c70f0-e34b-4ec0-b1c6-ce55daec9747"
   },
   "outputs": [],
   "source": [
    "# after grouped the data, key is an identify of each group, and y is the data of each group\n",
    "\n",
    "for key,y in NY_bicycle_ts.groupby('Weather'):\n",
    "  print (\"the group for Weather '{}' has {} observations\".format(key,len(y)))"
   ]
  },
  {
   "cell_type": "code",
   "execution_count": 64,
   "metadata": {
    "colab": {
     "base_uri": "https://localhost:8080/"
    },
    "executionInfo": {
     "elapsed": 14,
     "status": "ok",
     "timestamp": 1695075447286,
     "user": {
      "displayName": "Ruwen Qin",
      "userId": "01885423067234457717"
     },
     "user_tz": 240
    },
    "id": "GjgqQVoSBFOn",
    "outputId": "95ebe1f2-c536-453d-813b-47e01dd92c84"
   },
   "outputs": [],
   "source": [
    "# groupby two attributes: groupby([col1, col2])\n",
    "\n",
    "# August 30, 2024\n",
    "out6 = NY_bicycle_ts.groupby(['Weather','Day'], observed=False).Total.sum().map('{:,}'.format).to_frame(\"Total Count\")\n",
    "out6"
   ]
  },
  {
   "cell_type": "code",
   "execution_count": 65,
   "metadata": {},
   "outputs": [],
   "source": [
    "# Unstack the DataFrame\n",
    "\n",
    "# reset_index().set_index(['Weather', 'Day']) will set these two columns as multi-indices.\n",
    "# Then, we can use the unstack function. Default level to unstack is the lowest level, \n",
    "# which is \"Day\" in this example. We would like to unstack by \"Weather\", therefore, set level =0\n",
    "\n",
    "out6.reset_index().set_index(['Weather', 'Day']).unstack(level=0)"
   ]
  },
  {
   "cell_type": "code",
   "execution_count": 66,
   "metadata": {},
   "outputs": [],
   "source": [
    "# group data by \"Weather\" and \"Day\". For each subgroup, calculate descriptive statistics of \"Total\": mean, std, max, min, median\n",
    "\n",
    "# August 30, 2024\n",
    "out7 = NY_bicycle_ts.groupby(['Weather','Day'],observed=False).agg({'Total':['mean','std','max','min','median']}).map('{:,.1f}'.format)\n",
    "\n",
    "out7"
   ]
  },
  {
   "cell_type": "code",
   "execution_count": 67,
   "metadata": {},
   "outputs": [],
   "source": [
    "# reset index\n",
    "\n",
    "out7.reset_index()"
   ]
  },
  {
   "cell_type": "code",
   "execution_count": 68,
   "metadata": {
    "colab": {
     "base_uri": "https://localhost:8080/"
    },
    "executionInfo": {
     "elapsed": 31,
     "status": "ok",
     "timestamp": 1695075447530,
     "user": {
      "displayName": "Ruwen Qin",
      "userId": "01885423067234457717"
     },
     "user_tz": 240
    },
    "id": "AKx6IbPOHGyr",
    "outputId": "d1305da0-62f5-4ea8-f5f9-780da3822725"
   },
   "outputs": [],
   "source": [
    "# group data by \"Day\" and then convert values of \"Weather\" of each subgroup into a string\n",
    "\n",
    "# August 30, 2024\n",
    "NY_bicycle_ts.groupby('Day', observed=False).Weather.apply(lambda Weather: ','.join(Weather)).to_frame('Instances')"
   ]
  },
  {
   "cell_type": "code",
   "execution_count": 69,
   "metadata": {
    "colab": {
     "base_uri": "https://localhost:8080/"
    },
    "executionInfo": {
     "elapsed": 28,
     "status": "ok",
     "timestamp": 1695075447530,
     "user": {
      "displayName": "Ruwen Qin",
      "userId": "01885423067234457717"
     },
     "user_tz": 240
    },
    "id": "cTtCTIH9wKtU",
    "outputId": "a68e3257-5d89-4978-b5c6-b721bb926e59"
   },
   "outputs": [],
   "source": [
    "# group data by \"Weather\" and then convert values of \"Day\" of each subgroup into a list \n",
    "\n",
    "# tolist() converts series into a list\n",
    "NY_bicycle_ts.groupby('Weather').Day.apply(lambda Days: Days.tolist())"
   ]
  },
  {
   "cell_type": "code",
   "execution_count": 70,
   "metadata": {
    "colab": {
     "base_uri": "https://localhost:8080/",
     "height": 300
    },
    "executionInfo": {
     "elapsed": 24,
     "status": "ok",
     "timestamp": 1695075447531,
     "user": {
      "displayName": "Ruwen Qin",
      "userId": "01885423067234457717"
     },
     "user_tz": 240
    },
    "id": "Epb3Duz6HSM1",
    "outputId": "243af8cc-7c24-4875-e1cd-5d818b03ea41"
   },
   "outputs": [],
   "source": [
    "# Group data by \"Day\" and then determine the unique weathers occured on each day of week\n",
    "\n",
    "NY_bicycle_ts.groupby('Day', observed=False).Weather.nunique().to_frame('Count Weather Types') # use unique() to find the number of unique values by groups"
   ]
  },
  {
   "cell_type": "code",
   "execution_count": 71,
   "metadata": {
    "colab": {
     "base_uri": "https://localhost:8080/",
     "height": 446
    },
    "executionInfo": {
     "elapsed": 19,
     "status": "ok",
     "timestamp": 1695075447531,
     "user": {
      "displayName": "Ruwen Qin",
      "userId": "01885423067234457717"
     },
     "user_tz": 240
    },
    "id": "j6QmOEEBKpO4",
    "outputId": "307c3216-460c-4a90-9ca2-1f65a16345b7"
   },
   "outputs": [],
   "source": [
    "# a bar chart displaying the distribution of total count by \"Weather\"\n",
    "\n",
    "plt.clf() # clear the current figure\n",
    "NY_bicycle_ts.groupby('Weather').Total.sum().plot(kind='bar', color='grey') #size() returns the size of each group\n",
    "plt.ylabel('Total Count');"
   ]
  },
  {
   "cell_type": "code",
   "execution_count": 72,
   "metadata": {
    "colab": {
     "base_uri": "https://localhost:8080/",
     "height": 0
    },
    "executionInfo": {
     "elapsed": 164,
     "status": "ok",
     "timestamp": 1695075447679,
     "user": {
      "displayName": "Ruwen Qin",
      "userId": "01885423067234457717"
     },
     "user_tz": 240
    },
    "id": "4boglo4vMuRd",
    "outputId": "300e12e7-8f42-47d0-a62a-b60e0c7bdca4"
   },
   "outputs": [],
   "source": [
    "# a bar chart displaying the sample mean and sample standard deviation of 'Total' by weather groups\n",
    "\n",
    "# create a bar chart of mean values of 'Total' by weather categories\n",
    "plt.clf\n",
    "ax = plt.gca() # Get the current ~matplotlib.axes.Axes instance on the current figure matching the given keyword args, or create one.\n",
    "NY_bicycle_ts.groupby('Weather').Total.mean().plot(kind='bar', color='grey', ax=ax)\n",
    "\n",
    "# calculate the mean and the standard deviation of each group\n",
    "out8 = NY_bicycle_ts.groupby('Weather').Total.agg(['mean','std']) # agg() ggregates using one or more operations over the specified axis\n",
    "print(out8)\n",
    "\n",
    "# add verticle lines to represent the variation of 'Total' of each group\n",
    "for i, (index, row) in enumerate(out8.iterrows()): # iterrows() iterates over DataFrame rows as (row index, data series) pairs.\n",
    "  Avg = row ['mean']\n",
    "  Std = row ['std']\n",
    "  ax.vlines(x=i, ymin=Avg-Std, ymax=Avg+Std) # ax.vlines(x, ymin, ymax) plots a verticle line at the location specified by x. The range of the line is from ymin to ymax\n",
    "plt.show();"
   ]
  },
  {
   "cell_type": "code",
   "execution_count": 73,
   "metadata": {},
   "outputs": [],
   "source": [
    "# a line chart displaying trend of total count by \"Day\"\n",
    "\n",
    "plt.clf()\n",
    "NY_bicycle_ts.groupby('Day', observed=False).Total.mean().plot(kind='line',color='grey')\n",
    "plt.ylabel('Total Count');"
   ]
  },
  {
   "cell_type": "code",
   "execution_count": 74,
   "metadata": {
    "colab": {
     "base_uri": "https://localhost:8080/",
     "height": 0
    },
    "executionInfo": {
     "elapsed": 218,
     "status": "ok",
     "timestamp": 1695075447893,
     "user": {
      "displayName": "Ruwen Qin",
      "userId": "01885423067234457717"
     },
     "user_tz": 240
    },
    "id": "Yjssz3rsLT4B",
    "outputId": "265af0ac-147d-4a84-efa2-e599004fb771"
   },
   "outputs": [],
   "source": [
    "# group data by \"Weather\". For each subgroup, aggregrate \"Total\" as mean and \"Precipitation\" as stdandard deviation\n",
    "\n",
    "NY_bicycle_ts.groupby('Weather').agg({'Total':'mean','Precipitation':'std'}).map('{:,.2f}'.format) # group data by weather categories and aggregrate data in each group in terms of the mean value of 'Total' and the standard deviation of precipitation"
   ]
  },
  {
   "cell_type": "code",
   "execution_count": 75,
   "metadata": {
    "colab": {
     "base_uri": "https://localhost:8080/",
     "height": 734
    },
    "executionInfo": {
     "elapsed": 17,
     "status": "ok",
     "timestamp": 1695075448088,
     "user": {
      "displayName": "Ruwen Qin",
      "userId": "01885423067234457717"
     },
     "user_tz": 240
    },
    "id": "ZoCqKZbwV1jJ",
    "outputId": "a3f34459-006e-4cc5-f867-68189c574ea2"
   },
   "outputs": [],
   "source": [
    "# group data by \"Weather\", and then get the slice with \"Weather\"=='T'\n",
    "\n",
    "out9 = NY_bicycle_ts.groupby('Weather')\n",
    "out9.get_group('T') # get_group() constructs DataFrame from group with provided name. In this example, a dataframe is consructed using group \"T\""
   ]
  },
  {
   "cell_type": "code",
   "execution_count": 76,
   "metadata": {
    "colab": {
     "base_uri": "https://localhost:8080/"
    },
    "executionInfo": {
     "elapsed": 15,
     "status": "ok",
     "timestamp": 1695075448088,
     "user": {
      "displayName": "Ruwen Qin",
      "userId": "01885423067234457717"
     },
     "user_tz": 240
    },
    "id": "u8b9koKcYvI9",
    "outputId": "d24fe2ec-a970-4b35-d3fe-eddc2e4851c6"
   },
   "outputs": [],
   "source": [
    "# group data by \"Weather\" and then generate a random sample of size 3 from each of the subgroup\n",
    "\n",
    "df_sample=NY_bicycle_ts.groupby('Weather').apply(lambda x: x.sample(3)).reset_index(drop=True) # sample() returns a random sample. reset_index(drop=True) means do not add the index as a column of the dataframe\n",
    "df_sample"
   ]
  },
  {
   "cell_type": "markdown",
   "metadata": {
    "id": "FqNzXNGQHs5b"
   },
   "source": [
    "## 4.3 Cross-Tabulation\n",
    "\n",
    "Crosstabulation is a useful type of table for describing data of two variables."
   ]
  },
  {
   "cell_type": "markdown",
   "metadata": {},
   "source": [
    "### 4.3.1 Use crosstab\n",
    "\n",
    "\n",
    "Suggested Exercises:\n",
    "1. Create a crosstabulation to summarize mean total by \"Weather\" and \"Day\". Please show the margins. [Hint: \"Weather\" is the index, \"Day\" is the column, \"Total\" is the value, and mean is the method to aggregate value. ]"
   ]
  },
  {
   "cell_type": "code",
   "execution_count": 77,
   "metadata": {
    "colab": {
     "base_uri": "https://localhost:8080/",
     "height": 0
    },
    "executionInfo": {
     "elapsed": 178,
     "status": "ok",
     "timestamp": 1695075448255,
     "user": {
      "displayName": "Ruwen Qin",
      "userId": "01885423067234457717"
     },
     "user_tz": 240
    },
    "id": "94d1VSbTy2PC",
    "outputId": "f902d321-2d00-45c1-951b-521252fa7b86"
   },
   "outputs": [],
   "source": [
    "# create a cross-tabulation to summary data on two-axes using pd.crosstab(index,colum,values,aggfunc). index and column are the two axes, values are array-like, aggregrated using the specific aggfunc\n",
    "# In this example, index is \"Weather\", column is \"Day\", values are \"Total\", and teh aggfunc is mean. \n",
    "\n",
    "pd.crosstab(NY_bicycle_ts.Weather,\n",
    "            NY_bicycle_ts.Day,\n",
    "            margins=True, # margins=True will provide the margins of the crosstabulation\n",
    "            values=NY_bicycle_ts.Total, \n",
    "            aggfunc='mean'\n",
    "           ).map('{:.1f}'.format) \n"
   ]
  },
  {
   "cell_type": "markdown",
   "metadata": {},
   "source": [
    "### 4.3.2 Use pivot_table\n",
    "\n",
    "\n",
    "pivot_table is another pandas function for generating cross tabulation.\n",
    "\n",
    "Suggested Exercises:\n",
    "1. create a pivot table to summary data on two-axes using pd.pivot_table(DataFrame, values, index,colums,values,aggfunc,margins).  \"Weather\" is the index, \"Day\" is the column, \"Total\" is the value, and mean is the method to aggregate value. Margins of the table are needed.\n",
    "2. create a pivot table to summarize the mean values of \"Brooklyn_Bridge\" and \"Total\" by \"Weather\" and \"Day\". That is: Index is \"Weather\", Columns is \"Day\", Values are \"Brooklyn_Bridge\" and \"Total\", and aggfunc is numpy.mean. [Hint: pass a dictionary to aggfunc. The discdtionary specifies what function is used for aggregrating what values]\n",
    "3. create a pivot table to summarize the mean and standard deviation of \"Total\" by  \"Weather\" and \"Day\". That is: Index is \"Weather\", Columns is \"Day\", Values are \"Total\", and aggfunc are numpy.mean and numpy.std. [Hint: pass a list of functions to aggfunc]\n",
    "4. create a table summarizing the mean values of \"High_Temp_F\" and \"Low_Temp_F\" when Weather is 'T'. [Hint: ceate a pivot table with two indices: \"Weather\" and \"Day\". Values are \"High_Temp_F\" and \"Low_Temp_F\". Aggfunc is mean. Then, get the slice with \"Weather\"=='T' using DataFrame.query()]\n",
    "5. reate a table summarizing the mean values of \"High_Temp_F\" and \"Low_Temp_F\" on Friday and when Weather is 'N' and 'R', respectively.[Hint: create a pivot table with two indices: \"Weather\" and \"Day\". Values are \"High_Temp_F\" and \"Low_Temp_F\". Aggfunc is mean. Then, get the slice with \"Weather\"=='N' or 'R' and \"Day\"=='Friday']"
   ]
  },
  {
   "cell_type": "code",
   "execution_count": 78,
   "metadata": {
    "colab": {
     "base_uri": "https://localhost:8080/",
     "height": 0
    },
    "executionInfo": {
     "elapsed": 16,
     "status": "ok",
     "timestamp": 1695075448256,
     "user": {
      "displayName": "Ruwen Qin",
      "userId": "01885423067234457717"
     },
     "user_tz": 240
    },
    "id": "Hi3RvLFq5IrV",
    "outputId": "d0dabb1f-8072-41c1-e560-bfab788259bb"
   },
   "outputs": [],
   "source": [
    "# summarize mean of \"Total\" by \"Weather\" and \"Day\"\n",
    "\n",
    "pd.pivot_table(NY_bicycle_ts, \n",
    "               index=['Weather'],\n",
    "               columns=['Day'],\n",
    "               values=['Total'],\n",
    "               aggfunc='mean',\n",
    "               margins=True\n",
    "              ).map('{:.1f}'.format) "
   ]
  },
  {
   "cell_type": "code",
   "execution_count": 79,
   "metadata": {
    "colab": {
     "base_uri": "https://localhost:8080/",
     "height": 258
    },
    "executionInfo": {
     "elapsed": 15,
     "status": "ok",
     "timestamp": 1695075448257,
     "user": {
      "displayName": "Ruwen Qin",
      "userId": "01885423067234457717"
     },
     "user_tz": 240
    },
    "id": "BDvzwRmqPjJE",
    "outputId": "cbc4d3f3-4c9b-4d21-de44-5232c4475c26"
   },
   "outputs": [],
   "source": [
    "# create crosstabulation using pd.pivot_table create a pivot table \n",
    "# to summarize the mean values of \"Brooklyn_Bridge\" and \"Total\" by \"Weather\" and \"Day\"\n",
    "\n",
    "pd.pivot_table(NY_bicycle_ts,\n",
    "               index=['Day'],\n",
    "               columns=['Weather'],\n",
    "               values=['Brooklyn_Bridge','Total'], \n",
    "               aggfunc={'Brooklyn_Bridge':'mean','Total':'mean'},\n",
    "               margins=True\n",
    "              ).map('{:,.1f}'.format)"
   ]
  },
  {
   "cell_type": "code",
   "execution_count": 80,
   "metadata": {},
   "outputs": [],
   "source": [
    "# create crosstabulation using pd.pivot_table(data,index,columns,values, aggfunc)\n",
    "\n",
    "pd.pivot_table(NY_bicycle_ts,\n",
    "               index=['Day'],\n",
    "               columns=['Weather'],\n",
    "               values=['Total'], \n",
    "               aggfunc=['mean','std'],\n",
    "               margins=True\n",
    "              ).map('{:,.1f}'.format)"
   ]
  },
  {
   "cell_type": "code",
   "execution_count": 81,
   "metadata": {
    "colab": {
     "base_uri": "https://localhost:8080/",
     "height": 0
    },
    "executionInfo": {
     "elapsed": 16,
     "status": "ok",
     "timestamp": 1695075448450,
     "user": {
      "displayName": "Ruwen Qin",
      "userId": "01885423067234457717"
     },
     "user_tz": 240
    },
    "id": "PhOjVvJTLezv",
    "outputId": "d482ae66-b9b6-4777-a909-439da623bc48"
   },
   "outputs": [],
   "source": [
    "# create a table summarizing the mean values of \"High_Temp_F\" and \"Low_Temp_F\" when Weather is 'T'\n",
    "#using query() function to extract part of the summary table\n",
    "\n",
    "out10 = pd.pivot_table(NY_bicycle_ts,\n",
    "                       index=['Weather','Day'],\n",
    "                       values=['High_Temp_F','Low_Temp_F'],\n",
    "                       aggfunc=['mean'], \n",
    "                       margins=True).map('{:,.1f}'.format)\n",
    "\n",
    "\n",
    "out10.query(\"Weather==['T']\") "
   ]
  },
  {
   "cell_type": "code",
   "execution_count": 82,
   "metadata": {
    "colab": {
     "base_uri": "https://localhost:8080/",
     "height": 175
    },
    "executionInfo": {
     "elapsed": 151,
     "status": "ok",
     "timestamp": 1695075448587,
     "user": {
      "displayName": "Ruwen Qin",
      "userId": "01885423067234457717"
     },
     "user_tz": 240
    },
    "id": "c4ziEaL-9_Tn",
    "outputId": "f57343a0-00e5-4de4-9948-9f9b9069c8a7"
   },
   "outputs": [],
   "source": [
    "# create a table summarizing the mean values of \"High_Temp_F\" and \"Low_Temp_F\" for Friday \n",
    "# and when Weather is 'N' and 'R' respectively\n",
    "\n",
    "out11 = pd.pivot_table(NY_bicycle,\n",
    "                      index=['Weather','Day'],\n",
    "                      values=['High_Temp_F','Low_Temp_F'],\n",
    "                      aggfunc=['mean'], \n",
    "                      margins=True).map('{:,.1f}'.format)\n",
    "\n",
    "out11.query(\"Weather==['N','R'] & Day =='Friday'\")"
   ]
  },
  {
   "cell_type": "code",
   "execution_count": null,
   "metadata": {},
   "outputs": [],
   "source": []
  }
 ],
 "metadata": {
  "colab": {
   "authorship_tag": "ABX9TyNUwTx0Vw95nMIPPNWqgAoW",
   "provenance": [],
   "toc_visible": true
  },
  "kernelspec": {
   "display_name": "Python 3 (ipykernel)",
   "language": "python",
   "name": "python3"
  },
  "language_info": {
   "codemirror_mode": {
    "name": "ipython",
    "version": 3
   },
   "file_extension": ".py",
   "mimetype": "text/x-python",
   "name": "python",
   "nbconvert_exporter": "python",
   "pygments_lexer": "ipython3",
   "version": "3.11.8"
  },
  "toc": {
   "base_numbering": 1,
   "nav_menu": {},
   "number_sections": false,
   "sideBar": true,
   "skip_h1_title": false,
   "title_cell": "Module 1: Data Understanding, Description, and Summary",
   "title_sidebar": "Contents",
   "toc_cell": true,
   "toc_position": {
    "height": "557.778px",
    "left": "597px",
    "top": "110.113px",
    "width": "216.883px"
   },
   "toc_section_display": true,
   "toc_window_display": true
  },
  "varInspector": {
   "cols": {
    "lenName": 16,
    "lenType": 16,
    "lenVar": 40
   },
   "kernels_config": {
    "python": {
     "delete_cmd_postfix": "",
     "delete_cmd_prefix": "del ",
     "library": "var_list.py",
     "varRefreshCmd": "print(var_dic_list())"
    },
    "r": {
     "delete_cmd_postfix": ") ",
     "delete_cmd_prefix": "rm(",
     "library": "var_list.r",
     "varRefreshCmd": "cat(var_dic_list()) "
    }
   },
   "types_to_exclude": [
    "module",
    "function",
    "builtin_function_or_method",
    "instance",
    "_Feature"
   ],
   "window_display": false
  }
 },
 "nbformat": 4,
 "nbformat_minor": 4
}
